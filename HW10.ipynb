{
 "cells": [
  {
   "cell_type": "markdown",
   "id": "a47aecf2-daab-438f-b671-d68e4f3299aa",
   "metadata": {
    "tags": []
   },
   "source": [
    "# HW 10\n",
    "\n",
    "**Upload one file** to Gradescope: \n",
    "* `HW10.py` (which will be autograded)\n",
    "\n",
    "___"
   ]
  },
  {
   "cell_type": "code",
   "execution_count": 3,
   "id": "3c57a673",
   "metadata": {},
   "outputs": [],
   "source": [
    "import numpy as np"
   ]
  },
  {
   "cell_type": "markdown",
   "id": "0adb0972-c55c-483a-b8d0-fa5d2fbadd5c",
   "metadata": {
    "tags": []
   },
   "source": [
    "### Hops\n",
    "\n",
    "Bubbs Bunny is hopping up and down a set of stairs, one step at a time. Suppose Bubbs starts on the ground, makes `n` hops and ends back on the ground, always staying on or above the ground. How many distinct sequences of hops will produce this result?\n",
    "\n",
    "Write a function **`count_hop_seq(n)`** that uses **dynamic programming** to count the number of up-down sequences of length $n$ that begin and end on the ground. Assume that `n` is a positive integer.\n",
    "\n",
    "Example: `count_hop_seq(6)` returns `5`. The sequences are UUUDDD, UUDDUD, UDUUDD, UUDUDD, and UDUDUD."
   ]
  },
  {
   "cell_type": "code",
   "execution_count": 117,
   "id": "dd04314c-a038-4ac3-ba52-bf2a87df4872",
   "metadata": {},
   "outputs": [],
   "source": [
    "def count_hop_seq(n):\n",
    "    if n % 2 != 0:\n",
    "        return 0\n",
    "    else:\n",
    "        i = j = n // 2 \n",
    "        arr1 = np.zeros((i+1,j+1), int)\n",
    "        for m in range(1,i+1):\n",
    "            arr1[0,m] = 1\n",
    "        arr1[1,1] = 1\n",
    "        for k in range(1,i+1):\n",
    "            for m in range(2,j+1):\n",
    "                arr1[k,m] = arr1[k, m-1] + arr1[k-1, m]\n",
    "    \n",
    "    return arr1\n",
    "    "
   ]
  },
  {
   "cell_type": "code",
   "execution_count": 108,
   "id": "abfafe96",
   "metadata": {},
   "outputs": [
    {
     "data": {
      "text/plain": [
       "array([[0., 1., 1., 1.],\n",
       "       [0., 1., 0., 0.],\n",
       "       [0., 0., 0., 0.],\n",
       "       [0., 0., 0., 0.]])"
      ]
     },
     "execution_count": 108,
     "metadata": {},
     "output_type": "execute_result"
    }
   ],
   "source": [
    "arr1 = np.zeros((4,4))\n",
    "for m in range(1,4):\n",
    "    arr1[0,m] = 1\n",
    "arr1[1,1] = 1\n",
    "arr1"
   ]
  },
  {
   "cell_type": "code",
   "execution_count": 118,
   "id": "673ab862",
   "metadata": {},
   "outputs": [
    {
     "data": {
      "text/plain": [
       "(array([[0, 1, 1],\n",
       "        [0, 1, 2],\n",
       "        [0, 0, 2]]),\n",
       " array([[0, 1, 1, 1],\n",
       "        [0, 1, 2, 3],\n",
       "        [0, 0, 2, 5],\n",
       "        [0, 0, 2, 7]]),\n",
       " array([[ 0,  1,  1,  1,  1],\n",
       "        [ 0,  1,  2,  3,  4],\n",
       "        [ 0,  0,  2,  5,  9],\n",
       "        [ 0,  0,  2,  7, 16],\n",
       "        [ 0,  0,  2,  9, 25]]))"
      ]
     },
     "execution_count": 118,
     "metadata": {},
     "output_type": "execute_result"
    }
   ],
   "source": [
    "count_hop_seq(4), count_hop_seq(6), count_hop_seq(8)"
   ]
  },
  {
   "cell_type": "code",
   "execution_count": 56,
   "id": "6b3dec79",
   "metadata": {},
   "outputs": [
    {
     "data": {
      "text/plain": [
       "4"
      ]
     },
     "execution_count": 56,
     "metadata": {},
     "output_type": "execute_result"
    }
   ],
   "source": []
  },
  {
   "cell_type": "markdown",
   "id": "d8da68b9-4549-472b-81e2-54f10a9db427",
   "metadata": {},
   "source": [
    "### Spelling Correction\n",
    "Suppose you type `blder` into a search engine. It will try to match your entry to common search terms. Perhaps you actually meant to type `boulder` or `bold` or `baller`. The search engine might guess the word you intended by calculating the fewest number of changes needed to convert your entry into a common search term. It can then ask 'Did you mean ...?'. For example, the calculations would find that\n",
    "\n",
    "* To convert `blder` into `boulder`, one can insert `o` and `u`, a total of 2 changes.\n",
    "* To convert `blder` into `bold`, one can insert `o` and omit `e` and `r`, a total of 3 changes.\n",
    "* To convert `blder` into `baller`, one can insert `a`, replace `d` with `l`, a total of 2 changes.\n",
    "\n",
    "Use dynamic programming to write a function **`string_convert(str1, str2)`** that takes two strings `str1` and `str2` and returns the minimum number of changes needed to convert `str1` to `str2` using the following operations:\n",
    "* **insert** which adds a character from `str2` to `str1`\n",
    "* **omit** which omits a character from `str1`\n",
    "* **replace** which replaces a character in `str1` with a character in `str2`\n",
    "* **`match`** which does not entail any changes. \n",
    "\n",
    "The function also should print the operations that correspond to the minimum number of changes.\n",
    "\n",
    "Example:<br>\n",
    "`string_convert('bffflooo', 'buffalo')` might print\n",
    "```\n",
    "match   b\n",
    "replace u\n",
    "match   f\n",
    "match   f\n",
    "insert  a\n",
    "match   l\n",
    "match   o\n",
    "omit    o\n",
    "omit    o\n",
    "```\n",
    "and return `4`. There are other solutions with 4 moves."
   ]
  },
  {
   "cell_type": "code",
   "execution_count": 113,
   "id": "c2261342",
   "metadata": {},
   "outputs": [],
   "source": [
    "def LCS_helper(x,y):\n",
    "    m = len(x)\n",
    "    n= len(y)\n",
    "    b = np.ones((m+1,n+1))\n",
    "    c = np.zeros((m+1,n+1))\n",
    "    for i in range(1,m+1):\n",
    "        c[i,0] = 0\n",
    "    for j in range(1,n+1):\n",
    "        c[0,j] = 0\n",
    "    for i in range(1,m+1):\n",
    "        for j in range(1,n+1):\n",
    "            if x[i-1] == y[j-1]:\n",
    "                c[i,j] = c[i-1,j-1] + 1\n",
    "                b[i,j] = 9 #NWArrow = 9\n",
    "            elif c[i-1, j] >= c[i, j-1]:\n",
    "                c[i,j] = c[i-1,j]\n",
    "                b[i,j] = 2 #UpArrow = 2\n",
    "            else:\n",
    "                c[i,j] = c[i,j-1]\n",
    "                b[i,j] = 8 #'LeftArrow' = 8\n",
    "    return c,b\n",
    "\n",
    "# def print_lcs_helper(b, x, i, j):\n",
    "#     if i ==0 or j == 0:\n",
    "#         return ''\n",
    "#     if b[i,j] == 9:\n",
    "#         return x[i-1] + print_lcs_helper(b, x, i-1, j-1)\n",
    "#     elif b[i,j] == 2:\n",
    "#         return print_lcs_helper(b,x,i-1,j)\n",
    "#     else:\n",
    "#         return print_lcs_helper(b,x,i,j-1)\n",
    "\n",
    "def print_lcs_helper(b, x, y, i, j, change_count = 0):\n",
    "    if i ==0 or j == 0:\n",
    "        return change_count\n",
    "    if b[i,j] == 2 and b[i-1,j] == 8:\n",
    "        print(f'Replace {x[i-1]} with {y[j-1]}')\n",
    "        return print_lcs_helper(b,x,y, i-1, j-1, change_count + 1)\n",
    "    elif b[i,j] == 9:\n",
    "        print(f'Match {x[i-1]}')\n",
    "        return print_lcs_helper(b, x, y, i-1, j-1, change_count)\n",
    "    elif b[i,j] == 2:\n",
    "        print(f'Omit {x[i-1]}')\n",
    "        return print_lcs_helper(b,x,y,i-1,j, change_count + 1)\n",
    "    else:\n",
    "        print(f'Insert {y[j-1]}')\n",
    "        return print_lcs_helper(b,x,y,i,j-1, change_count + 1)\n",
    "\n",
    "def string_convert(str1, str2):\n",
    "    return print_lcs_helper(LCS_helper(str1, str2)[1], str1, str2, len(str1), len(str2))\n",
    "    "
   ]
  },
  {
   "cell_type": "code",
   "execution_count": 83,
   "id": "3e9467fe",
   "metadata": {},
   "outputs": [
    {
     "data": {
      "text/plain": [
       "(array([[0., 0., 0., 0., 0., 0., 0., 0.],\n",
       "        [0., 1., 1., 1., 1., 1., 1., 1.],\n",
       "        [0., 1., 1., 2., 2., 2., 2., 2.],\n",
       "        [0., 1., 1., 2., 3., 3., 3., 3.],\n",
       "        [0., 1., 1., 2., 3., 3., 3., 3.],\n",
       "        [0., 1., 1., 2., 3., 3., 4., 4.],\n",
       "        [0., 1., 1., 2., 3., 3., 4., 5.],\n",
       "        [0., 1., 1., 2., 3., 3., 4., 5.],\n",
       "        [0., 1., 1., 2., 3., 3., 4., 5.]]),\n",
       " array([[1., 1., 1., 1., 1., 1., 1., 1.],\n",
       "        [1., 9., 8., 8., 8., 8., 8., 8.],\n",
       "        [1., 2., 2., 9., 9., 8., 8., 8.],\n",
       "        [1., 2., 2., 9., 9., 8., 8., 8.],\n",
       "        [1., 2., 2., 9., 9., 2., 2., 2.],\n",
       "        [1., 2., 2., 2., 2., 2., 9., 8.],\n",
       "        [1., 2., 2., 2., 2., 2., 2., 9.],\n",
       "        [1., 2., 2., 2., 2., 2., 2., 9.],\n",
       "        [1., 2., 2., 2., 2., 2., 2., 9.]]))"
      ]
     },
     "execution_count": 83,
     "metadata": {},
     "output_type": "execute_result"
    }
   ],
   "source": [
    "LCS_helper('bffflooo', 'buffalo')"
   ]
  },
  {
   "cell_type": "code",
   "execution_count": 114,
   "id": "33c8f4d7",
   "metadata": {},
   "outputs": [
    {
     "name": "stdout",
     "output_type": "stream",
     "text": [
      "Match o\n",
      "Omit o\n",
      "Omit o\n",
      "Match l\n",
      "Replace f with a\n",
      "Match f\n",
      "Match f\n",
      "Insert u\n",
      "Match b\n"
     ]
    },
    {
     "data": {
      "text/plain": [
       "4"
      ]
     },
     "execution_count": 114,
     "metadata": {},
     "output_type": "execute_result"
    }
   ],
   "source": [
    "string_convert('bffflooo', 'buffalo')"
   ]
  },
  {
   "cell_type": "code",
   "execution_count": 84,
   "id": "572b86b9",
   "metadata": {},
   "outputs": [
    {
     "data": {
      "text/plain": [
       "(array([[0., 0., 0., 0., 0., 0., 0., 0., 0., 0., 0.],\n",
       "        [0., 1., 1., 1., 1., 1., 1., 1., 1., 1., 1.],\n",
       "        [0., 1., 2., 2., 2., 2., 2., 2., 2., 2., 2.],\n",
       "        [0., 1., 2., 2., 2., 2., 2., 2., 2., 2., 2.],\n",
       "        [0., 1., 2., 2., 2., 2., 2., 2., 2., 2., 2.],\n",
       "        [0., 1., 2., 2., 3., 3., 3., 3., 3., 3., 3.],\n",
       "        [0., 1., 2., 2., 3., 3., 4., 4., 4., 4., 4.],\n",
       "        [0., 1., 2., 3., 3., 3., 4., 4., 5., 5., 5.],\n",
       "        [0., 1., 2., 3., 3., 3., 4., 4., 5., 5., 5.],\n",
       "        [0., 1., 2., 3., 3., 3., 4., 4., 5., 5., 5.]]),\n",
       " array([[1., 1., 1., 1., 1., 1., 1., 1., 1., 1., 1.],\n",
       "        [1., 9., 8., 8., 8., 8., 8., 8., 8., 8., 8.],\n",
       "        [1., 2., 9., 8., 8., 8., 8., 8., 8., 8., 8.],\n",
       "        [1., 2., 2., 2., 2., 2., 2., 2., 2., 2., 2.],\n",
       "        [1., 2., 2., 2., 2., 2., 2., 2., 2., 2., 2.],\n",
       "        [1., 2., 2., 2., 9., 8., 8., 8., 8., 8., 8.],\n",
       "        [1., 2., 2., 2., 2., 2., 9., 8., 8., 9., 8.],\n",
       "        [1., 2., 2., 9., 2., 2., 2., 2., 9., 8., 8.],\n",
       "        [1., 2., 2., 2., 2., 2., 2., 2., 2., 2., 2.],\n",
       "        [1., 2., 2., 2., 2., 2., 2., 2., 2., 2., 2.]]))"
      ]
     },
     "execution_count": 84,
     "metadata": {},
     "output_type": "execute_result"
    }
   ],
   "source": [
    "LCS_helper('Algorithm', 'Altruistic')"
   ]
  },
  {
   "cell_type": "code",
   "execution_count": 53,
   "id": "6832c40e",
   "metadata": {},
   "outputs": [],
   "source": [
    "# def test_LCS(x,y):\n",
    "#     m = len(x)\n",
    "#     n= len(y)\n",
    "#     c = np.zeros((m+1,n+1))\n",
    "#     for i in range(0,m):\n",
    "#         c[i,0] = 0\n",
    "#     for j in range(0,n):\n",
    "#         c[0,j] = 0\n",
    "#     for i in range(1,m+1):\n",
    "#         for j in range(1,n+1):\n",
    "#             if x[i-1] == y[j-1]:\n",
    "#                 c[i,j] = c[i-1,j-1] + 1\n",
    "#             elif c[i-1, j] >= c[i, j-1]:\n",
    "#                 c[i,j] = c[i-1,j]\n",
    "#             else:\n",
    "#                 c[i,j] = c[i,j-1]\n",
    "#     return c\n",
    "    "
   ]
  },
  {
   "cell_type": "code",
   "execution_count": 54,
   "id": "1605b0ba",
   "metadata": {},
   "outputs": [
    {
     "data": {
      "text/plain": [
       "array([[0., 0., 0., 0., 0., 0., 0., 0.],\n",
       "       [0., 1., 1., 1., 1., 1., 1., 1.],\n",
       "       [0., 1., 1., 2., 2., 2., 2., 2.],\n",
       "       [0., 1., 1., 2., 3., 3., 3., 3.],\n",
       "       [0., 1., 1., 2., 3., 3., 3., 3.],\n",
       "       [0., 1., 1., 2., 3., 3., 4., 4.],\n",
       "       [0., 1., 1., 2., 3., 3., 4., 5.],\n",
       "       [0., 1., 1., 2., 3., 3., 4., 5.],\n",
       "       [0., 1., 1., 2., 3., 3., 4., 5.]])"
      ]
     },
     "execution_count": 54,
     "metadata": {},
     "output_type": "execute_result"
    }
   ],
   "source": [
    "# test_LCS('bffflooo', 'buffalo')"
   ]
  },
  {
   "cell_type": "code",
   "execution_count": 7,
   "id": "448caee4",
   "metadata": {},
   "outputs": [],
   "source": [
    "# def test_LCS2(x,y):\n",
    "#     m = len(x)\n",
    "#     n= len(y)\n",
    "#     b = np.ones((m+1,n+1))\n",
    "#     c = np.zeros((m+1,n+1))\n",
    "#     for i in range(0,m):\n",
    "#         c[i,0] = 0\n",
    "#     for j in range(0,n):\n",
    "#         c[0,j] = 0\n",
    "#     for i in range(1,m+1):\n",
    "#         for j in range(1,n+1):\n",
    "#             if x[i-1] == y[j-1]:\n",
    "#                 c[i,j] = c[i-1,j-1] + 1\n",
    "#                 b[i,j] = 9 #NWArrow = 9\n",
    "#             elif c[i-1, j] >= c[i, j-1]:\n",
    "#                 c[i,j] = c[i-1,j]\n",
    "#                 b[i,j] = 2 #UpArrow = 2\n",
    "#             else:\n",
    "#                 c[i,j] = c[i,j-1]\n",
    "#                 b[i,j] = 8 #'LeftArrow' = 8\n",
    "#     return c,b\n"
   ]
  },
  {
   "cell_type": "code",
   "execution_count": 11,
   "metadata": {},
   "outputs": [
    {
     "data": {
      "text/plain": [
       "(array([[0., 0., 0., 0., 0., 0., 0., 0., 0., 0., 0.],\n",
       "        [0., 1., 1., 1., 1., 1., 1., 1., 1., 1., 1.],\n",
       "        [0., 1., 2., 2., 2., 2., 2., 2., 2., 2., 2.],\n",
       "        [0., 1., 2., 2., 2., 2., 2., 2., 2., 2., 2.],\n",
       "        [0., 1., 2., 2., 2., 2., 2., 2., 2., 2., 2.],\n",
       "        [0., 1., 2., 2., 3., 3., 3., 3., 3., 3., 3.],\n",
       "        [0., 1., 2., 2., 3., 3., 4., 4., 4., 4., 4.],\n",
       "        [0., 1., 2., 3., 3., 3., 4., 4., 5., 5., 5.],\n",
       "        [0., 1., 2., 3., 3., 3., 4., 4., 5., 5., 5.],\n",
       "        [0., 1., 2., 3., 3., 3., 4., 4., 5., 5., 5.]]),\n",
       " array([[1., 1., 1., 1., 1., 1., 1., 1., 1., 1., 1.],\n",
       "        [1., 9., 8., 8., 8., 8., 8., 8., 8., 8., 8.],\n",
       "        [1., 2., 9., 8., 8., 8., 8., 8., 8., 8., 8.],\n",
       "        [1., 2., 2., 2., 2., 2., 2., 2., 2., 2., 2.],\n",
       "        [1., 2., 2., 2., 2., 2., 2., 2., 2., 2., 2.],\n",
       "        [1., 2., 2., 2., 9., 8., 8., 8., 8., 8., 8.],\n",
       "        [1., 2., 2., 2., 2., 2., 9., 8., 8., 9., 8.],\n",
       "        [1., 2., 2., 9., 2., 2., 2., 2., 9., 8., 8.],\n",
       "        [1., 2., 2., 2., 2., 2., 2., 2., 2., 2., 2.],\n",
       "        [1., 2., 2., 2., 2., 2., 2., 2., 2., 2., 2.]]))"
      ]
     },
     "execution_count": 11,
     "metadata": {},
     "output_type": "execute_result"
    }
   ],
   "source": [
    "# test_LCS2('Algorithm', 'Altruistic')"
   ]
  },
  {
   "cell_type": "code",
   "execution_count": 44,
   "id": "f44f1c42",
   "metadata": {},
   "outputs": [
    {
     "data": {
      "text/plain": [
       "array('', dtype='<U1')"
      ]
     },
     "execution_count": 44,
     "metadata": {},
     "output_type": "execute_result"
    }
   ],
   "source": [
    "# b= np.array('')\n",
    "# b"
   ]
  },
  {
   "cell_type": "code",
   "execution_count": 108,
   "id": "172f4e5f",
   "metadata": {},
   "outputs": [
    {
     "data": {
      "text/plain": [
       "array([[1., 1., 1., 1., 1., 1., 1., 1.],\n",
       "       [1., 9., 8., 8., 8., 8., 8., 8.],\n",
       "       [1., 2., 2., 9., 9., 8., 8., 8.],\n",
       "       [1., 2., 2., 9., 9., 8., 8., 8.],\n",
       "       [1., 2., 2., 9., 9., 2., 2., 2.],\n",
       "       [1., 2., 2., 2., 2., 2., 9., 8.],\n",
       "       [1., 2., 2., 2., 2., 2., 2., 9.],\n",
       "       [1., 2., 2., 2., 2., 2., 2., 9.],\n",
       "       [1., 2., 2., 2., 2., 2., 2., 9.]])"
      ]
     },
     "execution_count": 108,
     "metadata": {},
     "output_type": "execute_result"
    }
   ],
   "source": [
    "# test_LCS2('bffflooo','buffalo')[1]"
   ]
  },
  {
   "cell_type": "code",
   "execution_count": 17,
   "id": "7621d0d9",
   "metadata": {},
   "outputs": [],
   "source": [
    "# def print_lcs(b, x, i, j):\n",
    "#     if i ==0 or j == 0:\n",
    "#         return \n",
    "#     if b[i,j] == 9:\n",
    "#         print(x[i-1], end = '')\n",
    "#         print_lcs(b, x, i-1, j-1)\n",
    "#     elif b[i,j] == 2:\n",
    "#         print_lcs(b,x,i-1,j)\n",
    "#     else:\n",
    "#         print_lcs(b,x,i,j-1)"
   ]
  },
  {
   "cell_type": "code",
   "execution_count": 14,
   "id": "909decdb",
   "metadata": {},
   "outputs": [],
   "source": [
    "# def print_lcs(b, x, y, i, j):\n",
    "#     if i ==0 or j == 0:\n",
    "#         return ''\n",
    "#     if b[i,j] == 2 and b[i-1,j] == 8:\n",
    "#         print(f'Replace {x[i-1]} with {y[j-1]}')\n",
    "#         return y[j-1] + print_lcs(b,x,y, i-1, j-1)\n",
    "#     elif b[i,j] == 9:\n",
    "#         print(f'Match {x[i-1]}')\n",
    "#         return x[i-1] + print_lcs(b, x, y, i-1, j-1)\n",
    "#     elif b[i,j] == 2:\n",
    "#         print(f'Omit {x[i-1]}')\n",
    "#         return '' + print_lcs(b,x,y,i-1,j)\n",
    "#     else:\n",
    "#         print(f'Insert {y[j-1]}')\n",
    "#         return y[j-1]+ print_lcs(b,x,y,i,j-1)"
   ]
  },
  {
   "cell_type": "code",
   "execution_count": 20,
   "id": "f3b20d1b",
   "metadata": {},
   "outputs": [],
   "source": [
    "# def print_lcs(b, x, y, i, j, change_count = 0):\n",
    "#     if i ==0 or j == 0:\n",
    "#         return change_count\n",
    "#     if b[i,j] == 2 and b[i-1,j] == 8:\n",
    "#         print(f'Replace {x[i-1]} with {y[j-1]}')\n",
    "#         return print_lcs(b,x,y, i-1, j-1, change_count + 1)\n",
    "#     elif b[i,j] == 9:\n",
    "#         print(f'Match {x[i-1]}')\n",
    "#         return print_lcs(b, x, y, i-1, j-1, change_count)\n",
    "#     elif b[i,j] == 2:\n",
    "#         if \n",
    "#         print(f'Omit {x[i-1]}')\n",
    "#         return print_lcs(b,x,y,i-1,j, change_count + 1)\n",
    "#     else:\n",
    "#         print(f'Insert {y[j-1]}')\n",
    "#         return print_lcs(b,x,y,i,j-1, change_count + 1)"
   ]
  },
  {
   "cell_type": "code",
   "execution_count": null,
   "id": "4164c692",
   "metadata": {},
   "outputs": [],
   "source": [
    "# def print_lcs(b, x, y, i, j, change_count = 0):\n",
    "#     if i ==0 or j == 0:\n",
    "#         return change_count\n",
    "#     # if b[i,j] == 2 and b[i-1,j] == 8:\n",
    "#     #     print(f'Replace {x[i-1]} with {y[j-1]}')\n",
    "#     #     return print_lcs(b,x,y, i-1, j-1, change_count + 1)\n",
    "#     elif b[i,j] == 9:\n",
    "#         print(f'Match {x[i-1]}')\n",
    "#         return print_lcs(b, x, y, i-1, j-1, change_count)\n",
    "#     elif b[i,j] == 2:\n",
    "#         k = i - 1\n",
    "#         while b[k,j] != 8:\n",
    "#             k -= 1\n",
    "#         print(f'Omit {x[i-1]}')\n",
    "#         return print_lcs(b,x,y,i-1,j, change_count + 1)\n",
    "#     else:\n",
    "#         print(f'Insert {y[j-1]}')\n",
    "#         return print_lcs(b,x,y,i,j-1, change_count + 1)"
   ]
  },
  {
   "cell_type": "code",
   "execution_count": 21,
   "id": "b1c02724",
   "metadata": {},
   "outputs": [
    {
     "name": "stdout",
     "output_type": "stream",
     "text": [
      "Omit m\n",
      "Replace h with c\n",
      "Insert i\n",
      "Match t\n",
      "Insert s\n",
      "Match i\n",
      "Insert u\n",
      "Match r\n",
      "Omit o\n",
      "Replace g with t\n",
      "Match l\n",
      "Match A\n"
     ]
    },
    {
     "data": {
      "text/plain": [
       "7"
      ]
     },
     "execution_count": 21,
     "metadata": {},
     "output_type": "execute_result"
    }
   ],
   "source": [
    "# print_lcs(test_LCS2('Algorithm','Altruistic')[1],'Algorithm','Altruistic', 9, 10)"
   ]
  },
  {
   "cell_type": "code",
   "execution_count": null,
   "id": "01c1c3b6",
   "metadata": {},
   "outputs": [],
   "source": [
    "# def print_lcs2(b,x,y,i,j):\n",
    "#     change_ct = 0\n",
    "#     m = n = 1\n",
    "#     while m != i and n != j:\n",
    "#         if b[m,n] == 9:\n",
    "#             print(f'Match {x[i-1]}')\n",
    "#             if b[]\n",
    "            \n"
   ]
  },
  {
   "cell_type": "code",
   "execution_count": 118,
   "id": "0a963642",
   "metadata": {},
   "outputs": [],
   "source": [
    "# def print_lcs(b, x, y, i, j, change_count = 0):\n",
    "#     if i ==0 or j == 0:\n",
    "#         return change_count\n",
    "#     if b[i,j] == 9:\n",
    "#         return  print_lcs(b, x, y, i-1, j-1, change_count), \n",
    "#     elif b[i,j] == 2:\n",
    "#         return  print_lcs(b,x,y,i-1,j, change_count + 1)\n",
    "#     else:\n",
    "#         return print_lcs(b,x,y,i,j-1, change_count + 1)"
   ]
  },
  {
   "cell_type": "code",
   "execution_count": null,
   "id": "43a8fc1d",
   "metadata": {},
   "outputs": [],
   "source": []
  },
  {
   "cell_type": "code",
   "execution_count": 77,
   "id": "d807a80c",
   "metadata": {},
   "outputs": [
    {
     "data": {
      "text/plain": [
       "array([[1., 1., 1., 1., 1., 1., 1.],\n",
       "       [1., 2., 2., 2., 9., 8., 9.],\n",
       "       [1., 9., 8., 8., 2., 9., 8.],\n",
       "       [1., 2., 2., 9., 8., 2., 2.],\n",
       "       [1., 9., 2., 2., 2., 9., 8.],\n",
       "       [1., 2., 9., 2., 2., 2., 2.],\n",
       "       [1., 2., 2., 2., 9., 2., 9.],\n",
       "       [1., 9., 2., 2., 2., 9., 2.]])"
      ]
     },
     "execution_count": 77,
     "metadata": {},
     "output_type": "execute_result"
    }
   ],
   "source": [
    "# test_LCS2('ABCBDAB', 'BDCABA')[1]"
   ]
  },
  {
   "cell_type": "code",
   "execution_count": 103,
   "id": "961f327c",
   "metadata": {},
   "outputs": [
    {
     "data": {
      "text/plain": [
       "'ABCB'"
      ]
     },
     "execution_count": 103,
     "metadata": {},
     "output_type": "execute_result"
    }
   ],
   "source": [
    "# print_lcs(test_LCS2('ABCBDAB', 'BDCABA')[1], 'ABCBDAB', 7, 6)"
   ]
  },
  {
   "cell_type": "code",
   "execution_count": 128,
   "id": "15cc3e67",
   "metadata": {},
   "outputs": [
    {
     "name": "stdout",
     "output_type": "stream",
     "text": [
      "Match o\n",
      "Omit o\n",
      "Omit o\n",
      "Match l\n",
      "Replace f with a\n",
      "Match f\n",
      "Match f\n",
      "Insert u\n",
      "Match b\n"
     ]
    },
    {
     "data": {
      "text/plain": [
       "4"
      ]
     },
     "execution_count": 128,
     "metadata": {},
     "output_type": "execute_result"
    }
   ],
   "source": [
    "# print_lcs(test_LCS2('bffflooo','buffalo')[1], 'bffflooo', 'buffalo', len('bffflooo'), len('buffalo'))"
   ]
  },
  {
   "cell_type": "code",
   "execution_count": null,
   "id": "58734be6",
   "metadata": {},
   "outputs": [],
   "source": []
  }
 ],
 "metadata": {
  "kernelspec": {
   "display_name": "Python 3 (ipykernel)",
   "language": "python",
   "name": "python3"
  },
  "language_info": {
   "codemirror_mode": {
    "name": "ipython",
    "version": 3
   },
   "file_extension": ".py",
   "mimetype": "text/x-python",
   "name": "python",
   "nbconvert_exporter": "python",
   "pygments_lexer": "ipython3",
   "version": "3.11.8"
  }
 },
 "nbformat": 4,
 "nbformat_minor": 5
}
