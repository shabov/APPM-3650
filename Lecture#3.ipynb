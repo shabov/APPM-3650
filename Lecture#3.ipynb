{
 "cells": [
  {
   "cell_type": "markdown",
   "metadata": {},
   "source": [
    "## Warm-Up\n",
    "\n",
    "$ 1 + 2 + 3 + ... + n = \\frac{n(n+1)}2$\n",
    "\n"
   ]
  },
  {
   "cell_type": "markdown",
   "metadata": {},
   "source": [
    "## Lecture 3 Analysis of Algorithms\n",
    "\n",
    "    Efficency is important with large data sets\n",
    "        -depends on hardware, OS, etc.\n",
    "        -need a way to compare algotithms independant of restirctions\n",
    "    Rough estimate of algorithm run times \n",
    "<break>\n",
    "Let n = input \\: size\n",
    "    $ T(n) = \\text{running time of an algorith (# of basic ops)}"
   ]
  },
  {
   "cell_type": "markdown",
   "metadata": {},
   "source": [
    "  Let $ n = input \\: size$\n",
    "  \n",
    "  $ T(n) = \\text{running time of an algorith (\\# of basic ops)}$"
   ]
  },
  {
   "cell_type": "markdown",
   "metadata": {},
   "source": [
    "### Order of Growth\n",
    "    Order these funcs smallest to largest. Assume x is large\n",
    "    \n",
    "$ 30x\\log(x), \\: x^2, \\: 500x + 1000, \\: x + 10x^\\frac{3}2$"
   ]
  },
  {
   "cell_type": "markdown",
   "metadata": {},
   "source": [
    "$\\lim_{x\\to\\infty} \\frac{30x\\log(x)}{500x+1000}$"
   ]
  },
  {
   "cell_type": "code",
   "execution_count": 1,
   "metadata": {},
   "outputs": [],
   "source": [
    "def fib2(n):\n",
    "    prev = curr = 1\n",
    "    for i in range(n-2):\n",
    "        prev, curr = curr, prev+curr\n",
    "    return curr"
   ]
  },
  {
   "cell_type": "markdown",
   "metadata": {},
   "source": [
    "Let $ c_1, c_2, ...,$ be constants\n",
    "\n",
    "$\\frac{cost * repetitions}{c_1 *1}$ -> $c_2 * (n-2)$ -> $c_3 *(n-2)$ -> $c_4 *1$\n",
    "\n",
    "Running time:\n",
    "    $T(n) = (c_1 +c_2) * 1 + (c_2+c_3)(n-2)$\n",
    "\n",
    "$T(n)$ is a linear function \n",
    "$\\newline T(n) = an+b$ for constants $a,\\: b$"
   ]
  },
  {
   "cell_type": "markdown",
   "metadata": {},
   "source": [
    "### Asymptotic Notation\n",
    "## Theta Notation\n",
    "$\\newline f(n) \\: \\text{is} \\: \\theta(g(n)) \\: \\text{if} \\newline 0 \\leq c_1 g(n) \\leq f(n) \\leq c_2 g(n) \\newline \\text{for} \\: n \\geq n_0 \\: \\text{where} \\: c_1, c_2, n_0 \\: \\text{are constants}$"
   ]
  },
  {
   "cell_type": "markdown",
   "metadata": {},
   "source": [
    "Let $T(n) = 30n + 25 \\newline \\text{then} \\: T(n) \\: \\text{is} \\: \\theta(n) \\newline \\text{find} \\: c_1, c_2, n_0$"
   ]
  },
  {
   "cell_type": "markdown",
   "metadata": {},
   "source": [
    "$29n \\leq 30n+25 \\leq 31n$\n",
    "$\\newline n \\geq 25$\n",
    "$\\newline$ Solve for $n_0$\n",
    "$\\newline 30n + 25 \\leq 31n$\n",
    "$\\newline 25 \\leq n$"
   ]
  },
  {
   "cell_type": "markdown",
   "metadata": {},
   "source": [
    "$T(n) = 2n^2 + n + 100$\n",
    "$\\newline T(n) \\: \\text{is} \\: \\theta(n^2)$\n",
    "$\\newline n^2 \\leq 2n^2 + n + 100 \\leq 3n^2 \\newline \\text{for} \\: n \\geq 11$\n",
    "\n",
    "To find 11, solve $2n^2 + n + 100 \\leq 3n^2$ for $n$"
   ]
  },
  {
   "cell_type": "markdown",
   "metadata": {},
   "source": [
    "### Big O Notation for Upper Bounds\n",
    "$f(n)$ is $O(g(n))$ if\n",
    "$\\newline O \\leq f(n) \\leq cg(n)$\n",
    "$\\newline \\text{for} \\: n \\geq n_0 \\newline$\n",
    "if $f(n)$ is $\\theta(g(n))$ then $f(n)$ is $O(g(n))$"
   ]
  },
  {
   "cell_type": "markdown",
   "metadata": {},
   "source": [
    "$T(n) = 30n + 25 \\newline$\n",
    "$T(n)$ is $O(n), O(10n), O(n^2),$"
   ]
  },
  {
   "cell_type": "markdown",
   "metadata": {},
   "source": [
    "## Big Omega Notation\n",
    "$f(n)$ is $\\Omega(g(n))$ if\n",
    "$\\newline o \\leq cg(n) \\leq f(n) \\newline$\n",
    "for $ n \\geq n_0 \\newline$\n",
    "if $f(n)$ is $\\theta(g(n))$ then $f(n)$ is $\\Omega(g(n))$\n"
   ]
  },
  {
   "cell_type": "markdown",
   "metadata": {},
   "source": [
    "$T(n) = 30 + 25 \\newline$\n",
    "$T(n)$ is $\\Omega(n), \\Omega(100n), \\Omega(1)$"
   ]
  },
  {
   "cell_type": "markdown",
   "metadata": {},
   "source": [
    "$f(n) = 5n^2 + 100n +1 \\newline$\n",
    " Is $f(n)$"
   ]
  },
  {
   "cell_type": "code",
   "execution_count": 1,
   "metadata": {},
   "outputs": [
    {
     "data": {
      "text/plain": [
       "919"
      ]
     },
     "execution_count": 1,
     "metadata": {},
     "output_type": "execute_result"
    }
   ],
   "source": [
    "820+99"
   ]
  },
  {
   "cell_type": "code",
   "execution_count": 2,
   "metadata": {},
   "outputs": [
    {
     "data": {
      "text/plain": [
       "765"
      ]
     },
     "execution_count": 2,
     "metadata": {},
     "output_type": "execute_result"
    }
   ],
   "source": [
    "8*81 + 18 +99"
   ]
  },
  {
   "cell_type": "code",
   "execution_count": 4,
   "metadata": {},
   "outputs": [
    {
     "data": {
      "text/plain": [
       "627"
      ]
     },
     "execution_count": 4,
     "metadata": {},
     "output_type": "execute_result"
    }
   ],
   "source": [
    "8*64 +16 +99"
   ]
  },
  {
   "cell_type": "code",
   "execution_count": 5,
   "metadata": {},
   "outputs": [
    {
     "data": {
      "text/plain": [
       "640"
      ]
     },
     "execution_count": 5,
     "metadata": {},
     "output_type": "execute_result"
    }
   ],
   "source": [
    "10 *64"
   ]
  },
  {
   "cell_type": "code",
   "execution_count": 6,
   "metadata": {},
   "outputs": [
    {
     "data": {
      "text/plain": [
       "505"
      ]
     },
     "execution_count": 6,
     "metadata": {},
     "output_type": "execute_result"
    }
   ],
   "source": [
    "8*49+14+99"
   ]
  },
  {
   "cell_type": "code",
   "execution_count": 7,
   "metadata": {},
   "outputs": [
    {
     "data": {
      "text/plain": [
       "490"
      ]
     },
     "execution_count": 7,
     "metadata": {},
     "output_type": "execute_result"
    }
   ],
   "source": [
    "10 * 49"
   ]
  },
  {
   "cell_type": "code",
   "execution_count": 13,
   "metadata": {},
   "outputs": [
    {
     "data": {
      "text/plain": [
       "810"
      ]
     },
     "execution_count": 13,
     "metadata": {},
     "output_type": "execute_result"
    }
   ],
   "source": [
    "10*81"
   ]
  },
  {
   "cell_type": "code",
   "execution_count": 11,
   "metadata": {},
   "outputs": [
    {
     "data": {
      "text/plain": [
       "208"
      ]
     },
     "execution_count": 11,
     "metadata": {},
     "output_type": "execute_result"
    }
   ],
   "source": [
    "32*4+5*16"
   ]
  },
  {
   "cell_type": "code",
   "execution_count": 14,
   "metadata": {},
   "outputs": [],
   "source": [
    "import math"
   ]
  },
  {
   "cell_type": "code",
   "execution_count": 25,
   "metadata": {},
   "outputs": [],
   "source": [
    "num=9"
   ]
  },
  {
   "cell_type": "code",
   "execution_count": 50,
   "metadata": {},
   "outputs": [
    {
     "data": {
      "text/plain": [
       "True"
      ]
     },
     "execution_count": 50,
     "metadata": {},
     "output_type": "execute_result"
    }
   ],
   "source": [
    "num=64\n",
    "num < 32*(math.sqrt(num)) + 5*num <= 9*num"
   ]
  },
  {
   "cell_type": "code",
   "execution_count": 12,
   "metadata": {},
   "outputs": [
    {
     "data": {
      "text/plain": [
       "144"
      ]
     },
     "execution_count": 12,
     "metadata": {},
     "output_type": "execute_result"
    }
   ],
   "source": [
    "9*16"
   ]
  },
  {
   "cell_type": "markdown",
   "metadata": {},
   "source": []
  },
  {
   "cell_type": "code",
   "execution_count": 40,
   "metadata": {},
   "outputs": [
    {
     "data": {
      "text/plain": [
       "90.50966799187809"
      ]
     },
     "execution_count": 40,
     "metadata": {},
     "output_type": "execute_result"
    }
   ],
   "source": []
  },
  {
   "cell_type": "code",
   "execution_count": 46,
   "metadata": {},
   "outputs": [
    {
     "data": {
      "text/plain": [
       "[0, 0, 0, 0, 0, 0, 0, 0, 0, 0]"
      ]
     },
     "execution_count": 46,
     "metadata": {},
     "output_type": "execute_result"
    }
   ],
   "source": [
    "x = 10 * [0]\n",
    "x\n"
   ]
  },
  {
   "cell_type": "code",
   "execution_count": 51,
   "metadata": {},
   "outputs": [
    {
     "data": {
      "text/plain": [
       "[2, 1, 1, 2, 1, 0, 0, 0, 2, 0]"
      ]
     },
     "execution_count": 51,
     "metadata": {},
     "output_type": "execute_result"
    }
   ],
   "source": [
    "def func1(strnum):\n",
    "    x = 10 * [0]\n",
    "    \n",
    "    for i in range(10):\n",
    "        for s in strnum:\n",
    "            if int(s) == i:\n",
    "                x[i] += 1\n",
    "                \n",
    "    return x\n",
    "\n",
    "func1('382108430')"
   ]
  },
  {
   "cell_type": "code",
   "execution_count": 52,
   "metadata": {},
   "outputs": [
    {
     "data": {
      "text/plain": [
       "True"
      ]
     },
     "execution_count": 52,
     "metadata": {},
     "output_type": "execute_result"
    }
   ],
   "source": [
    "[2,1,1,2,1,0,0,0,2,0] == func1('382108430')"
   ]
  },
  {
   "cell_type": "code",
   "execution_count": 54,
   "metadata": {},
   "outputs": [
    {
     "data": {
      "text/plain": [
       "[2, 1, 1, 2, 1, 0, 0, 0, 2, 0]"
      ]
     },
     "execution_count": 54,
     "metadata": {},
     "output_type": "execute_result"
    }
   ],
   "source": [
    "def func2(strnum):\n",
    "    x = 10 * [0]\n",
    "    \n",
    "    for s in strnum:\n",
    "        x[int(s)] += 1\n",
    "                \n",
    "    return x\n",
    "\n",
    "func2('382108430')"
   ]
  },
  {
   "cell_type": "code",
   "execution_count": null,
   "metadata": {},
   "outputs": [],
   "source": [
    "[2,1,1,2,1,0,0,0,2,0]"
   ]
  }
 ],
 "metadata": {
  "interpreter": {
   "hash": "bff285996b61d1cce75d586d554bbdb644f20e64756204b2dee51c0e7bed81f5"
  },
  "kernelspec": {
   "display_name": "Python 3.11.4 ('base')",
   "language": "python",
   "name": "python3"
  },
  "language_info": {
   "codemirror_mode": {
    "name": "ipython",
    "version": 3
   },
   "file_extension": ".py",
   "mimetype": "text/x-python",
   "name": "python",
   "nbconvert_exporter": "python",
   "pygments_lexer": "ipython3",
   "version": "3.11.4"
  },
  "orig_nbformat": 4
 },
 "nbformat": 4,
 "nbformat_minor": 2
}
