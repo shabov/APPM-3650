{
 "cells": [
  {
   "cell_type": "code",
   "execution_count": 1,
   "metadata": {},
   "outputs": [],
   "source": [
    "playerA, PlayerB = 'x','y'\n",
    "board= ['-','-','-',\n",
    "        '-','-','-',\n",
    "        '-','-','-']\n",
    "def print_board():\n",
    "    print(board[0] + \" | \" + board[1] + \" | \" + board[2])\n",
    "    print(board[3] + \" | \" + board[4] + \" | \" + board[5])\n",
    "    print(board[6] + \" | \" + board[7] + \" | \" + board[8])\n",
    "\n",
    "\n"
   ]
  },
  {
   "cell_type": "code",
   "execution_count": 56,
   "metadata": {},
   "outputs": [],
   "source": [
    "board= ['-','-','-',\n",
    "        '-','-','-',\n",
    "        '-','-','-']"
   ]
  },
  {
   "cell_type": "code",
   "execution_count": 2,
   "metadata": {},
   "outputs": [
    {
     "ename": "IndexError",
     "evalue": "string index out of range",
     "output_type": "error",
     "traceback": [
      "\u001b[0;31m---------------------------------------------------------------------------\u001b[0m",
      "\u001b[0;31mIndexError\u001b[0m                                Traceback (most recent call last)",
      "Cell \u001b[0;32mIn[2], line 1\u001b[0m\n\u001b[0;32m----> 1\u001b[0m \u001b[43mboard\u001b[49m\u001b[43m[\u001b[49m\u001b[38;5;241;43m0\u001b[39;49m\u001b[43m]\u001b[49m\u001b[43m[\u001b[49m\u001b[38;5;241;43m1\u001b[39;49m\u001b[43m]\u001b[49m\n",
      "\u001b[0;31mIndexError\u001b[0m: string index out of range"
     ]
    }
   ],
   "source": [
    "board[0][1]"
   ]
  },
  {
   "cell_type": "code",
   "execution_count": 3,
   "metadata": {},
   "outputs": [
    {
     "name": "stdout",
     "output_type": "stream",
     "text": [
      "- | - | -\n",
      "- | - | -\n",
      "- | - | -\n"
     ]
    }
   ],
   "source": [
    "print_board()"
   ]
  },
  {
   "cell_type": "code",
   "execution_count": 4,
   "metadata": {},
   "outputs": [],
   "source": [
    "def player_turn(Player):\n",
    "    print_board()\n",
    "    game_state=True\n",
    "    Player=1\n",
    "    pieces=['X','O']\n",
    "    count=0\n",
    "    while count <4:\n",
    "        print(f'Player {Player}\\'s turn. You are playing {pieces[count%2]}' )\n",
    "        move=input(f'Select a board position 1-9')\n",
    "        position=int(move)-1\n",
    "        board[position]=pieces[count%2]\n",
    "        count+=1\n",
    "        Player+=1\n",
    "        print_board()"
   ]
  },
  {
   "cell_type": "code",
   "execution_count": 5,
   "metadata": {},
   "outputs": [],
   "source": [
    "def take_turn(player):\n",
    "    print(player + \"'s turn.\")\n",
    "    position = input(\"Choose a position from 1-9: \")\n",
    "    while position not in [\"1\", \"2\", \"3\", \"4\", \"5\", \"6\", \"7\", \"8\", \"9\"]:\n",
    "        position = input(\"Invalid input. Choose a position from 1-9: \")\n",
    "    position = int(position) - 1\n",
    "    while board[position] != \"-\":\n",
    "        position = int(input(\"Position already taken. Choose a different position: \")) - 1\n",
    "    board[position] = player\n",
    "    print_board()"
   ]
  },
  {
   "cell_type": "code",
   "execution_count": 6,
   "metadata": {},
   "outputs": [],
   "source": [
    "def check_win():\n",
    "    if (board[0] == board[1] == board[2] != \"-\") or \\\n",
    "       (board[3] == board[4] == board[5] != \"-\") or \\\n",
    "       (board[6] == board[7] == board[8] != \"-\") or \\\n",
    "       (board[0] == board[3] == board[6] != \"-\") or \\\n",
    "       (board[1] == board[4] == board[7] != \"-\") or \\\n",
    "       (board[2] == board[5] == board[8] != \"-\") or \\\n",
    "       (board[0] == board[4] == board[8] != \"-\") or \\\n",
    "       (board[2] == board[4] == board[6] != \"-\"):\n",
    "        return \"win\"\n",
    "    # Check for a tie\n",
    "    elif \"-\" not in board:\n",
    "        return \"tie\"\n",
    "    # Game is not over\n",
    "    else:\n",
    "        return \"play\""
   ]
  },
  {
   "cell_type": "code",
   "execution_count": 7,
   "metadata": {},
   "outputs": [],
   "source": [
    "def play_game():\n",
    "    print_board()\n",
    "    current_player = \"X\"\n",
    "    game_over = False\n",
    "    while not game_over:\n",
    "        take_turn(current_player)\n",
    "        game_result = check_win()\n",
    "        if game_result == \"win\":\n",
    "            print(current_player + \" wins!\")\n",
    "            game_over = True\n",
    "        elif game_result == \"tie\":\n",
    "            print(\"It's a tie!\")\n",
    "            game_over = True\n",
    "        else:\n",
    "            # Switch to the other player\n",
    "            current_player = \"O\" if current_player == \"X\" else \"X\""
   ]
  },
  {
   "cell_type": "code",
   "execution_count": 8,
   "metadata": {},
   "outputs": [
    {
     "name": "stdout",
     "output_type": "stream",
     "text": [
      "- | - | -\n",
      "- | - | -\n",
      "- | - | -\n",
      "X's turn.\n",
      "X | - | -\n",
      "- | - | -\n",
      "- | - | -\n",
      "O's turn.\n",
      "X | O | -\n",
      "- | - | -\n",
      "- | - | -\n",
      "X's turn.\n",
      "X | O | X\n",
      "- | - | -\n",
      "- | - | -\n",
      "O's turn.\n",
      "X | O | X\n",
      "- | O | -\n",
      "- | - | -\n",
      "X's turn.\n",
      "X | O | X\n",
      "X | O | -\n",
      "- | - | -\n",
      "O's turn.\n",
      "X | O | X\n",
      "X | O | -\n",
      "- | O | -\n",
      "O wins!\n"
     ]
    }
   ],
   "source": [
    "play_game()"
   ]
  },
  {
   "cell_type": "code",
   "execution_count": 47,
   "metadata": {},
   "outputs": [
    {
     "name": "stdout",
     "output_type": "stream",
     "text": [
      "- | - | -\n",
      "- | - | -\n",
      "- | - | -\n",
      "Player 1's turn. You are playing X\n",
      "X | - | -\n",
      "- | - | -\n",
      "- | - | -\n",
      "Player 2's turn. You are playing O\n",
      "X | O | -\n",
      "- | - | -\n",
      "- | - | -\n",
      "Player 3's turn. You are playing X\n",
      "X | O | X\n",
      "- | - | -\n",
      "- | - | -\n",
      "Player 4's turn. You are playing O\n",
      "X | O | X\n",
      "O | - | -\n",
      "- | - | -\n"
     ]
    }
   ],
   "source": [
    "player_turn()"
   ]
  },
  {
   "cell_type": "code",
   "execution_count": 12,
   "metadata": {},
   "outputs": [
    {
     "name": "stdout",
     "output_type": "stream",
     "text": [
      "X | O | X\n",
      "X | O | -\n",
      "- | O | -\n"
     ]
    }
   ],
   "source": [
    "print_board()"
   ]
  },
  {
   "cell_type": "code",
   "execution_count": 11,
   "metadata": {},
   "outputs": [
    {
     "data": {
      "text/plain": [
       "['-', '-', '-', '-', '-', '-', '-', '-', '-']"
      ]
     },
     "execution_count": 11,
     "metadata": {},
     "output_type": "execute_result"
    }
   ],
   "source": [
    "reset_board()"
   ]
  },
  {
   "cell_type": "code",
   "execution_count": 10,
   "metadata": {},
   "outputs": [],
   "source": [
    "def reset_board():\n",
    "    board= ['-','-','-',\n",
    "        '-','-','-',\n",
    "        '-','-','-']\n",
    "    return board"
   ]
  },
  {
   "cell_type": "code",
   "execution_count": 13,
   "metadata": {},
   "outputs": [
    {
     "data": {
      "text/plain": [
       "['-', '-', '-', '-', '-', '-', '-', '-', '-']"
      ]
     },
     "execution_count": 13,
     "metadata": {},
     "output_type": "execute_result"
    }
   ],
   "source": [
    "reset_board()"
   ]
  },
  {
   "cell_type": "code",
   "execution_count": 24,
   "metadata": {},
   "outputs": [],
   "source": [
    "class self.board():\n",
    "\n",
    "    def __init__(self):\n",
    "        self.board= ['-','-','-',\n",
    "                '-','-','-',\n",
    "                '-','-','-']\n",
    "    \n",
    "    def print_board(self):\n",
    "        print(self.board[0] + \" | \" + self.board[1] + \" | \" + self.board[2])\n",
    "        print(self.board[3] + \" | \" + self.board[4] + \" | \" + self.board[5])\n",
    "        print(self.board[6] + \" | \" + self.board[7] + \" | \" + self.board[8])\n",
    "\n",
    "    def isGameOver(self):\n",
    "        if (self.board[0] == self.board[1] == self.board[2] != \"-\") or \\\n",
    "            (self.board[3] == self.board[4] == self.board[5] != \"-\") or \\\n",
    "            (self.board[6] == self.board[7] == self.board[8] != \"-\") or \\\n",
    "            (self.board[0] == self.board[3] == self.board[6] != \"-\") or \\\n",
    "            (self.board[1] == self.board[4] == self.board[7] != \"-\") or \\\n",
    "            (self.board[2] == self.board[5] == self.board[8] != \"-\") or \\\n",
    "            (self.board[0] == self.board[4] == self.board[8] != \"-\") or \\\n",
    "            (self.board[2] == self.board[4] == self.board[6] != \"-\"):\n",
    "            return True\n",
    "        # Check for a tie\n",
    "        elif \"-\" not in self.board:\n",
    "            return True\n",
    "        # Game is not over\n",
    "        else:\n",
    "            return False\n",
    "    \n",
    "    #def reset_self.board(self):\n"
   ]
  },
  {
   "cell_type": "code",
   "execution_count": 28,
   "metadata": {},
   "outputs": [],
   "source": [
    "# Python3 program to compute evaluation \n",
    "# function for Tic Tac Toe Game. \n",
    " \n",
    "# Returns a value based on who is winning \n",
    "# b[3][3] is the Tic-Tac-Toe board \n",
    "def evaluate(b): \n",
    "  \n",
    "    # Checking for Rows for X or O victory. \n",
    "    for row in range(0, 3): \n",
    "      \n",
    "        if b[row][0] == b[row][1] and b[row][1] == b[row][2]: \n",
    "          \n",
    "            if b[row][0] == 'X':\n",
    "                return 10\n",
    "            elif b[row][0] == 'O': \n",
    "                return -10\n",
    " \n",
    "    # Checking for Columns for X or O victory. \n",
    "    for col in range(0, 3): \n",
    "      \n",
    "        if b[0][col] == b[1][col] and b[1][col] == b[2][col]: \n",
    "          \n",
    "            if b[0][col]=='X':\n",
    "                return 10\n",
    "            elif b[0][col] == 'O': \n",
    "                return -10\n",
    " \n",
    "    # Checking for Diagonals for X or O victory. \n",
    "    if b[0][0] == b[1][1] and b[1][1] == b[2][2]: \n",
    "      \n",
    "        if b[0][0] == 'X': \n",
    "            return 10\n",
    "        elif b[0][0] == 'O': \n",
    "            return -10\n",
    "      \n",
    "    if b[0][2] == b[1][1] and b[1][1] == b[2][0]: \n",
    "      \n",
    "        if b[0][2] == 'X': \n",
    "            return 10\n",
    "        elif b[0][2] == 'O': \n",
    "            return -10\n",
    "      \n",
    "    # Else if none of them have won then return 0 \n",
    "    return 0"
   ]
  },
  {
   "cell_type": "code",
   "execution_count": null,
   "metadata": {},
   "outputs": [],
   "source": [
    "def findBestMove(board):\n",
    "    "
   ]
  },
  {
   "cell_type": "code",
   "execution_count": 34,
   "metadata": {},
   "outputs": [],
   "source": [
    "gb1  = [['X', '_', 'O'], \n",
    "        ['_', 'X', 'O'], \n",
    "        ['_', '_', '-']]"
   ]
  },
  {
   "cell_type": "code",
   "execution_count": 35,
   "metadata": {},
   "outputs": [
    {
     "data": {
      "text/plain": [
       "0"
      ]
     },
     "execution_count": 35,
     "metadata": {},
     "output_type": "execute_result"
    }
   ],
   "source": [
    "evaluate(gb1)"
   ]
  },
  {
   "cell_type": "code",
   "execution_count": 25,
   "metadata": {},
   "outputs": [],
   "source": [
    "game_board = Board()"
   ]
  },
  {
   "cell_type": "code",
   "execution_count": 26,
   "metadata": {},
   "outputs": [
    {
     "name": "stdout",
     "output_type": "stream",
     "text": [
      "- | - | -\n",
      "- | - | -\n",
      "- | - | -\n"
     ]
    }
   ],
   "source": [
    "game_board.print_board()"
   ]
  },
  {
   "cell_type": "code",
   "execution_count": 40,
   "metadata": {},
   "outputs": [],
   "source": [
    "def insertion_sort(A):\n",
    "    for j in range(1,4):\n",
    "        key = A[j]\n",
    "        i = j - 1\n",
    "        while i > 0 and A[i] > key:\n",
    "            A[i+1] = A[i]\n",
    "            i = i - 1\n",
    "        A[i+1] = key\n",
    "    return A"
   ]
  },
  {
   "cell_type": "code",
   "execution_count": 41,
   "metadata": {},
   "outputs": [
    {
     "data": {
      "text/plain": [
       "[14, 5, 7, 13, 8, 12]"
      ]
     },
     "execution_count": 41,
     "metadata": {},
     "output_type": "execute_result"
    }
   ],
   "source": [
    "insertion_sort([14,7,13,5,8,12])"
   ]
  },
  {
   "cell_type": "code",
   "execution_count": null,
   "metadata": {},
   "outputs": [],
   "source": []
  }
 ],
 "metadata": {
  "interpreter": {
   "hash": "bff285996b61d1cce75d586d554bbdb644f20e64756204b2dee51c0e7bed81f5"
  },
  "kernelspec": {
   "display_name": "Python 3.11.4 ('base')",
   "language": "python",
   "name": "python3"
  },
  "language_info": {
   "codemirror_mode": {
    "name": "ipython",
    "version": 3
   },
   "file_extension": ".py",
   "mimetype": "text/x-python",
   "name": "python",
   "nbconvert_exporter": "python",
   "pygments_lexer": "ipython3",
   "version": "3.11.8"
  },
  "orig_nbformat": 4
 },
 "nbformat": 4,
 "nbformat_minor": 2
}
