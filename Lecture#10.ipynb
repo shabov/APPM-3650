{
 "cells": [
  {
   "cell_type": "markdown",
   "metadata": {},
   "source": [
    "## Exam 1 Review"
   ]
  },
  {
   "cell_type": "markdown",
   "metadata": {},
   "source": [
    "### Asymptotic Notation\n",
    "$f = \\Theta(g(n))$ Informally: $f \\approx g$ <br>\n",
    "$f = O(g(n))$ Informally: $f \\leq g$ <br>\n",
    "$f = \\Omega(g(n))$ Informally: $f \\geq g$ <br>\n",
    "$f = o(g(n))$ Informally: $f < g$ <br>\n",
    "$f = \\omega(g(n))$ Informally: $f > g$ <br>"
   ]
  },
  {
   "cell_type": "markdown",
   "metadata": {},
   "source": [
    "### Master Theorem\n",
    "For divide and conquer <br>\n",
    "binary <br>\n",
    "$T(n) = aT(n/b) + f(n)$ <br>\n",
    "$a$ = number of subproblems <br>\n",
    "$b$ = subproblem size <br>\n",
    "$f(n)$ = all other operations (division, input set, combining, etc.) <br>\n",
    "Specifically for recurrences"
   ]
  },
  {
   "cell_type": "markdown",
   "metadata": {},
   "source": [
    "### Theta Notation for Tight Bounds\n",
    "$0 \\leq c_1(g(n)) \\leq f(n) \\leq c_2(g(n))$ $\\forall$ $n\\geq n_0$ (May not hold true for small n)   <br>\n",
    "Let $T(n) = 4n^2 + n + 40$ Then $T(n)$ is $\\Theta(n^2)$ <br>\n",
    "Choose $c_1 = 1, c_2 = 5, n_0 = $ <br>\n",
    "$0 \\leq n^2 \\leq 4n^2 + n +40 \\leq 5n^2$ <br>\n",
    "for $n \\geq 7$"
   ]
  },
  {
   "cell_type": "markdown",
   "metadata": {},
   "source": [
    "### Determining Complexity"
   ]
  },
  {
   "cell_type": "code",
   "execution_count": null,
   "metadata": {},
   "outputs": [],
   "source": [
    "def FUNC1(m,n):\n",
    "    x = 0\n",
    "    for i in range(1,m+1):\n",
    "        for j in range(1, n+1):\n",
    "            x += i*j\n",
    "    return x"
   ]
  },
  {
   "cell_type": "markdown",
   "metadata": {},
   "source": [
    "Complexity: $\\Theta(mn)$ <br>\n",
    "outer loops: $m$ iterations <br>\n",
    "Inner loop: $n$ iterations <br>\n",
    "Number of operations = $2 \\cdot m \\cdot n = \\Theta(mn)$<br>"
   ]
  },
  {
   "cell_type": "markdown",
   "metadata": {},
   "source": [
    "For $m \\leq n$"
   ]
  },
  {
   "cell_type": "code",
   "execution_count": null,
   "metadata": {},
   "outputs": [],
   "source": [
    "def FUNC2(m,n): \n",
    "    x = 0\n",
    "    for k in range(1,m+1):\n",
    "        for j in range(k,n):\n",
    "            x += k + j\n",
    "    return x"
   ]
  },
  {
   "cell_type": "markdown",
   "metadata": {},
   "source": [
    "Number of pairs $> \\frac{mn}{2}$ <br>\n",
    "Complexity = $\\Theta(mn)$ <br>\n",
    "Formally: <br>\n",
    "Number of Iterations = $ n + (n-1) + (n-2) + \\cdots + (n-m+1)$ <br>\n",
    "$= mn - (1+2+\\cdots+(m-1))$ <br>\n",
    "$ = mn - \\frac{(m-1)(m)}{2}$ <br>\n",
    "$= \\Theta(mn)$"
   ]
  },
  {
   "cell_type": "markdown",
   "metadata": {},
   "source": [
    "### Binary Search Recurrence\n",
    "Let $T(n) = $ number of comparisons given an array of size $n$ <br>\n",
    "$T(n) = 1\\cdot T(n/2) + \\Theta(1)$ <br>\n",
    "$k = \\log_2{1} = 0$ <br>\n",
    "Compare:  $n^2$ with $\\Theta(1)$ <br>\n",
    "Same Order <br>\n",
    "$T(n)$ is $\\Theta(\\log{n})$"
   ]
  },
  {
   "cell_type": "markdown",
   "metadata": {},
   "source": [
    "Show $\\log_k(n)$ and $\\log_m(n)$ are constant multiples <br>\n",
    "$log_k(n) = \\frac{\\ln(n)}{\\ln(k)}$ <br>\n",
    "$log_m(n) = \\frac{\\ln(n)}{\\ln(m)}$"
   ]
  },
  {
   "cell_type": "markdown",
   "metadata": {},
   "source": [
    "### Addition\n",
    "Number of operations  = $\\Theta(n)$\n",
    "### Multiplication\n",
    "Number of operations  = $\\Theta(n^2)$\n",
    "### Karatsuba Algorithm\n",
    "Reduced number of multiplications from 4 to 3, when multiplying two, two digit numbers <br>\n",
    "$T(n) = 3\\cdot T(n/2) + \\Theta(n)$ <br>\n",
    "$k = log_2(3) = $ <br>\n",
    "Compare $n^{log_2(3)}$ with $n$ <br>\n",
    " $n^{log_2(3)}$ is large then $n$, thus <br>\n",
    " $T(n) = \\Theta(n^{log_2(3)}) = o(n^2)$\n"
   ]
  },
  {
   "cell_type": "code",
   "execution_count": null,
   "metadata": {},
   "outputs": [],
   "source": [
    "def funcx(num):\n",
    "    result = []\n",
    "    curr_num = num\n",
    "    while curr_num > 0:\n",
    "        result.append(curr_num % 7)\n",
    "        curr_num //=7\n",
    "    return result"
   ]
  },
  {
   "cell_type": "markdown",
   "metadata": {},
   "source": [
    "funx retruns the base-7 representation in list from and reverse order"
   ]
  },
  {
   "cell_type": "code",
   "execution_count": 10,
   "metadata": {},
   "outputs": [],
   "source": [
    "def func7(num):\n",
    "    result = []\n",
    "    curr_num = num\n",
    "    while curr_num > 0:\n",
    "        result.append(curr_num % 7)\n",
    "        curr_num //=7\n",
    "    return result[::-1]"
   ]
  },
  {
   "cell_type": "markdown",
   "metadata": {},
   "source": [
    "func7 returns the base-7 representation in the correct order"
   ]
  },
  {
   "cell_type": "markdown",
   "metadata": {},
   "source": [
    "Write a recursive version"
   ]
  },
  {
   "cell_type": "code",
   "execution_count": 7,
   "metadata": {},
   "outputs": [],
   "source": [
    "def func7_rec(num):\n",
    "    if num < 7:\n",
    "        return [num]\n",
    "    else:\n",
    "        return func7_rec( num //7) + [num % 7]"
   ]
  },
  {
   "cell_type": "code",
   "execution_count": 5,
   "metadata": {},
   "outputs": [
    {
     "data": {
      "text/plain": [
       "2"
      ]
     },
     "execution_count": 5,
     "metadata": {},
     "output_type": "execute_result"
    }
   ],
   "source": [
    "14 //7"
   ]
  },
  {
   "cell_type": "code",
   "execution_count": 11,
   "metadata": {},
   "outputs": [
    {
     "data": {
      "text/plain": [
       "[5, 6, 2, 1]"
      ]
     },
     "execution_count": 11,
     "metadata": {},
     "output_type": "execute_result"
    }
   ],
   "source": [
    "func7(2024)"
   ]
  },
  {
   "cell_type": "code",
   "execution_count": 12,
   "metadata": {},
   "outputs": [
    {
     "data": {
      "text/plain": [
       "[5, 6, 2, 1]"
      ]
     },
     "execution_count": 12,
     "metadata": {},
     "output_type": "execute_result"
    }
   ],
   "source": [
    "func7_rec(2024)"
   ]
  },
  {
   "cell_type": "markdown",
   "metadata": {},
   "source": []
  }
 ],
 "metadata": {
  "interpreter": {
   "hash": "bff285996b61d1cce75d586d554bbdb644f20e64756204b2dee51c0e7bed81f5"
  },
  "kernelspec": {
   "display_name": "Python 3.11.4 ('base')",
   "language": "python",
   "name": "python3"
  },
  "language_info": {
   "codemirror_mode": {
    "name": "ipython",
    "version": 3
   },
   "file_extension": ".py",
   "mimetype": "text/x-python",
   "name": "python",
   "nbconvert_exporter": "python",
   "pygments_lexer": "ipython3",
   "version": "3.11.4"
  },
  "orig_nbformat": 4
 },
 "nbformat": 4,
 "nbformat_minor": 2
}
