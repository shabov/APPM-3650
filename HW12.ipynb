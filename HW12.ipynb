{
 "cells": [
  {
   "cell_type": "markdown",
   "id": "7b649a5d-1787-4bf5-bbd8-cc62a2485431",
   "metadata": {
    "tags": []
   },
   "source": [
    "# HW 12\n",
    "\n",
    "**Upload one file** to Gradescope: \n",
    "* `HW12.py` (which will be autograded)\n",
    "___"
   ]
  },
  {
   "cell_type": "code",
   "execution_count": 3,
   "id": "d307a9bd",
   "metadata": {},
   "outputs": [],
   "source": [
    "import math"
   ]
  },
  {
   "cell_type": "markdown",
   "id": "a77b2477-d676-4bf2-8202-3173782ee1a5",
   "metadata": {},
   "source": [
    "### Doublets \n",
    "\n",
    "The object of this puzzle (by Lewis Carroll 1879) is to convert a starting word into a target word, changing one character at a time, minimizing the number of changes and always forming a valid word with each letter change.\n",
    "\n",
    "If the starting word is `PIG` and the target word is `STY`, a solution with 5 changes is \n",
    "\n",
    "PIG $\\to$ BIG $\\to$ BAG $\\to$ SAG $\\to$ SAY $\\to$ STY.\n",
    "\n",
    "Write a function **`doublet(start, target, wordlist)`** that returns a minimal solution, listing the words that lead to the target word. Assume that `start` and `target` have the same number of upper-case characters and no more than 5 characters. If there is no solution, return an empty list. If there is more than one minimal solution, return any of them. \n",
    "\n",
    "The function should use **breadth-first search**. Each valid word under consideration should be stored in a `WordNode` object (defined below) with the `word`, `parent`, and `dist` attributes set appropriately. The use of the `color` attribute is optional.\n",
    "\n",
    "To check whether a word is valid, compare to the list of strings in `wordlist`. The list `wordlist` can be formed from the 3-letter words in `lexicon3_upper.txt`. A larger file containing 3-, 4-, and 5-letter words is `lexicon5_upper.txt`.\n",
    "\n",
    "Example: `doublet('PIG', 'STY')` may return `['BIG', 'BAG', 'SAG', 'SAY', 'STY']`. There are other solutions such as `['PIN', 'PAN', 'PAY', 'SAY', 'STY']`."
   ]
  },
  {
   "cell_type": "code",
   "execution_count": 4,
   "id": "2f6f88f6-1cb7-43d3-a9e0-ac42630088ac",
   "metadata": {},
   "outputs": [],
   "source": [
    "class WordNode:\n",
    "    def __init__(self, word):\n",
    "        self.word = word\n",
    "        self.parent = None\n",
    "        self.color = 'white'\n",
    "        self.dist = math.inf  # distance from source"
   ]
  },
  {
   "cell_type": "code",
   "execution_count": 5,
   "id": "5f18df2b-d211-4cc4-8184-4819f0e8408a",
   "metadata": {},
   "outputs": [],
   "source": [
    "with open('lexicon3_upper.txt', 'r') as fp:\n",
    "    words_3 = fp.read().splitlines()\n",
    "\n",
    "\n",
    "\n",
    "with open('lexicon5_upper.txt', 'r') as fp:\n",
    "    words_5 = fp.read().splitlines()\n",
    "\n"
   ]
  },
  {
   "cell_type": "code",
   "execution_count": 6,
   "id": "ef75dc88",
   "metadata": {},
   "outputs": [],
   "source": [
    "words_3.sort()\n",
    "words_5.sort()"
   ]
  },
  {
   "cell_type": "code",
   "execution_count": 8,
   "id": "d51fd517",
   "metadata": {},
   "outputs": [],
   "source": [
    "def adj_word_lst(word, wordlist):\n",
    "    word_lst = []\n",
    "    alpha = 'ABCDEFGHIJKLMNOPQRSTUVWXYZ'\n",
    "    for i in range(0, len(word)):\n",
    "        for lttr in alpha:\n",
    "            if word[:i] + lttr + word[i+1:] == word:\n",
    "                pass\n",
    "            elif word[:i] + lttr + word[i+1:] in wordlist:\n",
    "                word_lst.append(word[:i] + lttr + word[i+1:])\n",
    "            \n",
    "    return word_lst"
   ]
  },
  {
   "cell_type": "code",
   "execution_count": 23,
   "id": "38c2008c",
   "metadata": {},
   "outputs": [],
   "source": [
    "def doublet(start, target, wordlist):\n",
    "    soln_lst = []\n",
    "    alpha = 'ABCDEFGHIJKLMNOPQRSTUVWXYZ'\n",
    "    node_dict = {}\n",
    "\n",
    "    source_node = WordNode(start)\n",
    "    source_node.color = 'gray'\n",
    "    source_node.dist = 0\n",
    "    node_dict[start] = source_node\n",
    "\n",
    "    queue = [start]\n",
    "    \n",
    "    \n",
    "    #Loop to traverse all adjacent nodes\n",
    "    while len(queue) != 0:\n",
    "        #u = the next adjacent node in queue and removes it from queue\n",
    "        \n",
    "        u = queue.pop(0)\n",
    "        #print(u)\n",
    "        adj_u = adj_word_lst(u, wordlist)\n",
    "        for i in adj_u:\n",
    "            if i not in node_dict:\n",
    "                new_node = WordNode(i)\n",
    "                new_node.parent = node_dict[u]\n",
    "                new_node.dist = node_dict[u].dist +1\n",
    "                node_dict[i] = new_node\n",
    "                queue.append(i)\n",
    "                #print(len(queue), i)\n",
    "        \n",
    "    if target not in node_dict:\n",
    "        return []\n",
    "    else:     \n",
    "        curr_node = node_dict[target]\n",
    "        while curr_node.parent != None:\n",
    "            soln_lst.append(curr_node.word)\n",
    "            curr_node = curr_node.parent\n",
    "\n",
    "    return soln_lst[::-1]"
   ]
  },
  {
   "cell_type": "code",
   "execution_count": 24,
   "id": "f4116f37",
   "metadata": {},
   "outputs": [
    {
     "data": {
      "text/plain": [
       "['BIG', 'BAG', 'SAG', 'SAY', 'STY']"
      ]
     },
     "execution_count": 24,
     "metadata": {},
     "output_type": "execute_result"
    }
   ],
   "source": [
    "doublet('PIG', 'STY', words_3)"
   ]
  },
  {
   "cell_type": "code",
   "execution_count": null,
   "id": "46382411",
   "metadata": {},
   "outputs": [],
   "source": []
  }
 ],
 "metadata": {
  "kernelspec": {
   "display_name": "Python 3 (ipykernel)",
   "language": "python",
   "name": "python3"
  },
  "language_info": {
   "codemirror_mode": {
    "name": "ipython",
    "version": 3
   },
   "file_extension": ".py",
   "mimetype": "text/x-python",
   "name": "python",
   "nbconvert_exporter": "python",
   "pygments_lexer": "ipython3",
   "version": "3.11.8"
  }
 },
 "nbformat": 4,
 "nbformat_minor": 5
}
