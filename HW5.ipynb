{
 "cells": [
  {
   "cell_type": "markdown",
   "id": "b0d30332-94db-4d84-a65c-782dd31c6ae1",
   "metadata": {
    "tags": []
   },
   "source": [
    "# HW 5\n",
    "\n",
    "**Upload one file** to Gradescope: \n",
    "* `HW5.py` (which will be autograded)\n",
    "\n",
    "___"
   ]
  },
  {
   "cell_type": "code",
   "execution_count": 85,
   "id": "0577014e-c8fa-4d4c-aa5e-960a11453c4e",
   "metadata": {},
   "outputs": [],
   "source": [
    "import random\n",
    "import numpy as np\n",
    "import operator"
   ]
  },
  {
   "cell_type": "markdown",
   "id": "8135a212-ec10-480f-b0c1-5b456526205a",
   "metadata": {},
   "source": [
    "### Postfix Notation"
   ]
  },
  {
   "cell_type": "markdown",
   "id": "637cd3d0-b9e7-40f5-b3cd-0bf032cd0852",
   "metadata": {},
   "source": [
    "In *postfix notation* (also called *reverse Polish notation*), mathematical expressions are written with the operators following the operands (numbers). Postfix notation has these advantages over the standard infix notation:\n",
    "* It eliminates the need for parentheses and operator precedence rules.\n",
    "* It can be evaluated easily using a stack.\n",
    "\n",
    "Below are examples of expressions written in infix and postfix notation. When converting from infix to postfix, the numbers remain in the same order but the operators are moved so that they immediately follow their operands.\n",
    "\n",
    "|Infix|Postfix|  \n",
    "|:--|:--|  \n",
    "|`4 - 7`|`4 7 -`|  \n",
    "|`4 - (7 + 5)` | `4 7 5 + -` |  \n",
    "|`(7 - 5) * (4 + 10)`|`7 5 - 4 10 + *`|  \n",
    "|`(45 - 7 * 5 + 3)`|`45 7 5 * - 3 +`|  \n",
    "\n",
    "Here is how postfix expressions are evaluated. The operators are processed one at a time, beginning with the leftmost operator and moving right. Each operator is applied to the previous two values. The result may be used by the next operator.\n",
    "\n",
    "|Postfix|Evaluation| |Value|  \n",
    "|:--|:--|:--|:--|  \n",
    "|`4 7 -`| | |`-3`|  \n",
    "|`4 7 5 + -`|`4 12 -` | |`-8`|   \n",
    "|`7 5 - 4 10 + *`|`2 14 *` | |`28`|  \n",
    "|`45 7 5 * - 3 +`|`45 35 - 3 +` | `10 3 +` | `13`|\n",
    "\n",
    "\n",
    "\n",
    "\n"
   ]
  },
  {
   "cell_type": "markdown",
   "id": "f0852d80-08a0-418e-904c-7bf23df5011f",
   "metadata": {},
   "source": [
    "**Convert these infix expressions to postfix** by hand, observing the standard operator precedence rules. Write your answers in the form of a string with spaces separating the numbers and operators."
   ]
  },
  {
   "cell_type": "code",
   "execution_count": 2,
   "id": "e05130da-4f81-4e0c-8407-abe234abd0e0",
   "metadata": {},
   "outputs": [],
   "source": [
    "infix1 = '10 - 6 + 3 * 8'\n",
    "infix2 = '10 - (6 + 3 - 8)'\n",
    "infix3 = '10 - (6 + 3) * 8'"
   ]
  },
  {
   "cell_type": "code",
   "execution_count": 3,
   "id": "637db554-816b-44fc-b519-98e6b1a5e48e",
   "metadata": {},
   "outputs": [],
   "source": [
    "postfix1 = '10 6 - 3 8 * +'\n",
    "postfix2 = '10 6 3 + 8 - - '\n",
    "postfix3 = ' 10 6 3 + 8 * -'"
   ]
  },
  {
   "cell_type": "markdown",
   "id": "8bff1c20-1cf4-46a0-b47d-a0a177a69c7b",
   "metadata": {},
   "source": [
    "**Determine the numerical values of these postfix expressions** by hand."
   ]
  },
  {
   "cell_type": "code",
   "execution_count": 4,
   "id": "7f733fd3-f38d-4064-a455-e0ae595b2746",
   "metadata": {},
   "outputs": [],
   "source": [
    "postfix4 = '10 6 3 8 + - +'\n",
    "postfix5 = '10 6 3 / + 8 *'\n",
    "postfix6 = '10 6 * 3 + 8 -'"
   ]
  },
  {
   "cell_type": "code",
   "execution_count": 5,
   "id": "5266df2f-3706-491d-a966-9452bf625201",
   "metadata": {},
   "outputs": [],
   "source": [
    "postfix4_value = 5\n",
    "postfix5_value = 96\n",
    "postfix6_value = 55"
   ]
  },
  {
   "cell_type": "markdown",
   "id": "5d6d24f4-ee40-45c8-998a-a24503c84255",
   "metadata": {},
   "source": [
    "### Postfix Evaluator\n",
    "Write a function **`eval_postfix(expr)`** that takes a postfix expression in string format, evaluates it, and returns its numerical value. The possible operators are `+`, `-`, `*`, and `/`. Assume that all numbers are non-negative integers. You may assume that `expr` is a valid postfix expression with spaces separating the numbers and operators.\n",
    "\n",
    "The function should use the `Stack` class defined below to process `expr` as follows:\n",
    "* Each number in the string should be pushed onto a stack.\n",
    "* Each operator in the string should be applied to the top two numbers on the stack. The result of the operation should be pushed onto the stack.\n",
    "\n",
    "*Hint:* You may wish to make use of these functions from the `operator` module: `operator.add`, `operator.sub`, `operator.mul`, and `operator.truediv`. When applied to two arguments, they return the same values as `+`, `-`, `*`, and `/`, respectively.\n",
    "\n",
    "Example:<br>\n",
    "`eval_postfix('4 7 5 + -')` returns `-8`<br>\n",
    "`operator.add(7, 5)` returns `12`"
   ]
  },
  {
   "cell_type": "code",
   "execution_count": 83,
   "id": "f4f98e13",
   "metadata": {},
   "outputs": [],
   "source": [
    "class Stack:\n",
    "    '''Create a stack using a list'''\n",
    "    def __init__(self):\n",
    "        self.items = []\n",
    "        \n",
    "    def push(self, item):\n",
    "        self.items.append(item)\n",
    "\n",
    "    def pop(self):\n",
    "        '''Return the element at the top of the stack if possible. Otherwise print an error message and return None'''\n",
    "        try:\n",
    "            return self.items.pop()\n",
    "        except:\n",
    "            print('ERROR: Empty Stack')\n",
    "            return None\n",
    "\n",
    "    def size(self):\n",
    "        return len(self.items)\n",
    "        \n",
    "    def peek(self):\n",
    "        try:\n",
    "            return self.items[-1]\n",
    "        except:\n",
    "            print('ERROR: Empty Stack')\n",
    "            return None\n",
    "\n",
    "    def empty(self):\n",
    "        if self.size()==0:\n",
    "            return True\n",
    "        else:\n",
    "            return False"
   ]
  },
  {
   "cell_type": "code",
   "execution_count": 93,
   "id": "dae99045-626a-4bf8-b3f7-0453b2397783",
   "metadata": {},
   "outputs": [],
   "source": [
    "def eval_postfix(expr):\n",
    "    #expr = expr.replace(' ', '')\n",
    "    expr1 = expr.split(' ')\n",
    "    num_stack = Stack()\n",
    "    for i in expr1:\n",
    "        try:\n",
    "            num_stack.push(int(i))\n",
    "        except:\n",
    "            b = num_stack.pop()\n",
    "            a = num_stack.pop()\n",
    "            op_dict = {'+': operator.add(a,b), '-': operator.sub(a,b), '/': operator.truediv(a,b), '*':operator.mul(a,b)}\n",
    "            num_stack.push(op_dict[i])\n",
    "\n",
    "    return num_stack.peek()\n",
    "\n"
   ]
  },
  {
   "cell_type": "code",
   "execution_count": 64,
   "id": "eb922b2f",
   "metadata": {},
   "outputs": [
    {
     "data": {
      "text/plain": [
       "-8"
      ]
     },
     "execution_count": 64,
     "metadata": {},
     "output_type": "execute_result"
    }
   ],
   "source": [
    "eval_postfix('4 7 5 + -')"
   ]
  },
  {
   "cell_type": "code",
   "execution_count": 92,
   "id": "e28b987b",
   "metadata": {},
   "outputs": [
    {
     "data": {
      "text/plain": [
       "['7', '5', '-', '4', '10', '+', '*']"
      ]
     },
     "execution_count": 92,
     "metadata": {},
     "output_type": "execute_result"
    }
   ],
   "source": [
    "str1 = '7 5 - 4 10 + *'\n",
    "str1.split(' ')"
   ]
  },
  {
   "cell_type": "code",
   "execution_count": 89,
   "id": "f90e46cd",
   "metadata": {},
   "outputs": [
    {
     "data": {
      "text/plain": [
       "[' ', '7', ' ', '5', ' ', '-', ' ', '4', ' ', '1', '0', ' ', '+', ' ', '*']"
      ]
     },
     "execution_count": 89,
     "metadata": {},
     "output_type": "execute_result"
    }
   ],
   "source": [
    "lst = list(' 7 5 - 4 10 + *')\n",
    "lst"
   ]
  },
  {
   "cell_type": "code",
   "execution_count": 94,
   "id": "86a57db9",
   "metadata": {},
   "outputs": [
    {
     "data": {
      "text/plain": [
       "(-3, 28)"
      ]
     },
     "execution_count": 94,
     "metadata": {},
     "output_type": "execute_result"
    }
   ],
   "source": [
    "eval_postfix('4 7 -'), eval_postfix('7 5 - 4 10 + *')"
   ]
  },
  {
   "cell_type": "markdown",
   "id": "fc8cef6d-6670-43af-b65d-6a3325fb6e1b",
   "metadata": {},
   "source": [
    "___\n",
    "\n",
    "### Nodes\n",
    "Below is a class `Node` that will store a key and data, along with links to neighboring nodes in a `DLinkedList`. "
   ]
  },
  {
   "cell_type": "code",
   "execution_count": 4,
   "id": "07523dbb-bcb4-49a6-a5b4-0483c172511d",
   "metadata": {},
   "outputs": [],
   "source": [
    "class Node:\n",
    "    def __init__(self, key, data):\n",
    "        self.key = key\n",
    "        self.data = data\n",
    "        self.prev = None\n",
    "        self.next = None"
   ]
  },
  {
   "cell_type": "markdown",
   "id": "75f84115-f4d3-449e-b3d4-e3f8e33f7cd1",
   "metadata": {},
   "source": [
    "### DLinkedList\n",
    "Use the `DLinkedList` class (defined in a previous assignment) with the  attribute:\n",
    "* **`head`** \n",
    "\n",
    "and the  methods:\n",
    "* **`insert`**, **`delete`**, **`search`**, **`keys`**."
   ]
  },
  {
   "cell_type": "code",
   "execution_count": 21,
   "id": "57d01121-a1fc-482b-8ffe-7057e60a8e3a",
   "metadata": {},
   "outputs": [],
   "source": [
    "class DLinkedList:\n",
    "    def __init__(self):\n",
    "        self.head = None\n",
    "    \n",
    "    def insert(self,node):\n",
    "        if self.head == None:\n",
    "            self.head = node\n",
    "        else:\n",
    "            node.next = self.head\n",
    "            self.head.prev = node\n",
    "            self.head = node\n",
    "\n",
    "    def delete(self, node):\n",
    "        if node.next == None and node.prev == None:\n",
    "            self.head = None\n",
    "        elif node.next == None:\n",
    "            node.prev.next = None\n",
    "        elif node.prev == None:\n",
    "            node.next.prev = None\n",
    "            self.head = node.next\n",
    "        else:\n",
    "            node.prev.next = node.next\n",
    "            node.next.prev = node.prev\n",
    "\n",
    "    def search(self, value):\n",
    "        if self.head == None:\n",
    "            return None\n",
    "        node = self.head\n",
    "        while node.next != None:\n",
    "            if node.key == value:\n",
    "                return node\n",
    "            else:\n",
    "                node = node.next\n",
    "        if node.key == value:\n",
    "            return node\n",
    "        else:\n",
    "            return None\n",
    "\n",
    "\n",
    "    def keys(self):\n",
    "        key_lst = []\n",
    "        if self.head == None:\n",
    "            return None\n",
    "        node = self.head\n",
    "        while node.next != None:\n",
    "            key_lst.append(node.key)\n",
    "            node = node.next\n",
    "        key_lst.append(node.key)\n",
    "        return key_lst        \n"
   ]
  },
  {
   "cell_type": "markdown",
   "id": "66225571-d484-43f6-a7b6-bd96f12244f3",
   "metadata": {
    "tags": []
   },
   "source": [
    "### Free Ski Pass Giveaway\n",
    "\n",
    "A free ski pass will be awarded to a lucky CU student. Students who sign up for this free giveaway will be arranged in a line. Then every $k$th student will be eliminated, one at a time, until the lucky winner is left. For example, suppose $k=3$ and there are 10 students named A, B, ..., J. Then eliminating every 3rd student (with wraparound) produces this result with student D as the winner.\n",
    "```\n",
    "A B C D E F G H I J\n",
    "A B   D E   G H   J\n",
    "A     D E     H   J\n",
    "      D E         J\n",
    "      D           J\n",
    "      D                   \n",
    "```\n",
    "\n",
    "Write a function **`giveaway(participants, k)`** that takes a list of participant names, simulates this procedure for a positive integer `k`, and returns the name of the winner. The function should store the names as keys in a `DLinkedList`, then eliminate the participants by removing their corresponding nodes, one at a time.\n",
    "\n",
    "Example:<br>\n",
    "`giveaway(list('ABCDEFGHIJ'), 3)` returns `'D'`."
   ]
  },
  {
   "cell_type": "code",
   "execution_count": 36,
   "id": "738e14c0",
   "metadata": {},
   "outputs": [],
   "source": [
    "def if_last(node, linklst):\n",
    "    if node.next == None:\n",
    "        return linklst.head\n",
    "    else:\n",
    "        return node.next"
   ]
  },
  {
   "cell_type": "code",
   "execution_count": 77,
   "id": "e8e3a4ec-6067-46d2-b9fc-67d4b85d8f22",
   "metadata": {},
   "outputs": [],
   "source": [
    "def giveaway(participants, k):\n",
    "    ct = 0\n",
    "    part_linklst = DLinkedList()\n",
    "    for n in range(len(participants)-1, -1,-1):\n",
    "        j = Node(participants[n], n)\n",
    "        part_linklst.insert(j)\n",
    "    #print(part_linklst.keys())\n",
    "    curr_node = part_linklst.head\n",
    "    while len(part_linklst.keys()) > 1:\n",
    "        for i in range(k-1):\n",
    "            curr_node = if_last(curr_node, part_linklst)\n",
    "        #print(f'Curr = {curr_node.key}')\n",
    "        part_linklst.delete(curr_node)\n",
    "        curr_node = if_last(curr_node, part_linklst)\n",
    "        ct+=1\n",
    "        # print(f'{ct}')\n",
    "        #print(f'{part_linklst.keys()}')\n",
    "    return (part_linklst.keys()[0])\n",
    "\n",
    "\n",
    "        "
   ]
  },
  {
   "cell_type": "code",
   "execution_count": 78,
   "id": "88401c5b",
   "metadata": {},
   "outputs": [
    {
     "data": {
      "text/plain": [
       "'E'"
      ]
     },
     "execution_count": 78,
     "metadata": {},
     "output_type": "execute_result"
    }
   ],
   "source": [
    "giveaway(list('ABCDEFGHIJ'),4)"
   ]
  },
  {
   "cell_type": "markdown",
   "id": "3d697a6c-9e05-4a07-9600-49e8b2486dcd",
   "metadata": {},
   "source": [
    "Read in the file **`giveaway_names.txt`** which contains the names of 100 participants, one name on each line. Store the names in a list called **`participant_names`**. Then `giveaway(participant_names, 7)` should return `'Lennox'`."
   ]
  },
  {
   "cell_type": "code",
   "execution_count": 79,
   "id": "5b0f7ec9-0804-4aba-8919-990d3490b004",
   "metadata": {},
   "outputs": [
    {
     "data": {
      "text/plain": [
       "'Lennox'"
      ]
     },
     "execution_count": 79,
     "metadata": {},
     "output_type": "execute_result"
    }
   ],
   "source": [
    "with open('giveaway_names.txt', 'r') as give:\n",
    "    participant_names = give.read().split('\\n')[:-1]\n",
    "giveaway(participant_names, 7)"
   ]
  },
  {
   "cell_type": "code",
   "execution_count": null,
   "id": "d86e9aed",
   "metadata": {},
   "outputs": [],
   "source": []
  }
 ],
 "metadata": {
  "kernelspec": {
   "display_name": "Python 3 (ipykernel)",
   "language": "python",
   "name": "python3"
  },
  "language_info": {
   "codemirror_mode": {
    "name": "ipython",
    "version": 3
   },
   "file_extension": ".py",
   "mimetype": "text/x-python",
   "name": "python",
   "nbconvert_exporter": "python",
   "pygments_lexer": "ipython3",
   "version": "3.11.4"
  }
 },
 "nbformat": 4,
 "nbformat_minor": 5
}
