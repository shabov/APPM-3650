{
 "cells": [
  {
   "cell_type": "markdown",
   "id": "7bd1388e-4e2a-425f-a772-f5cbe65d7d74",
   "metadata": {
    "tags": []
   },
   "source": [
    "# HW 3\n",
    "\n",
    "**Upload one file** to Gradescope: \n",
    "* `HW3.py` (which will be autograded)\n",
    "\n",
    "___"
   ]
  },
  {
   "cell_type": "code",
   "execution_count": 91,
   "id": "193a137f-a070-4638-bd84-ea27a596d21a",
   "metadata": {},
   "outputs": [],
   "source": [
    "import math\n",
    "import random\n",
    "import numpy as np\n",
    "import matplotlib.pyplot as plt\n",
    "import time"
   ]
  },
  {
   "cell_type": "markdown",
   "id": "d1c1b6dc-4d2d-41fe-b198-f577dddb18e0",
   "metadata": {},
   "source": [
    "### Function Threshold\n",
    "\n",
    "Suppose `func(n)` is a monotonically increasing function. Write a function **`exceed_func3(func, thresh, start, end)`** that **uses binary search** to find the largest `n` between positive integers `start` and `end`, inclusive, such that `func(n)` is less than or equal to a given threshold. If there is no such `n`, return `None`."
   ]
  },
  {
   "cell_type": "markdown",
   "id": "74bc38dd",
   "metadata": {},
   "source": [
    "Find largest $n$ such that $func(n) \\leq$ thresh"
   ]
  },
  {
   "cell_type": "code",
   "execution_count": 35,
   "id": "2bd3efa7-1e1c-4285-bea1-8c4be564b770",
   "metadata": {},
   "outputs": [],
   "source": [
    "# def exceed_func3(func, thresh, start, end):\n",
    "#     range_vals = [n for n in range(start, end+1)]\n",
    "#     if func(start) > func(end):\n",
    "#         return None\n",
    "#     else:\n",
    "#         left = range_vals[:len(range_vals)//2]\n",
    "#         right = range_vals[len(range_vals)//2+1:]\n",
    "#         if func(range_vals[len(range_vals)//2]) >= thresh:\n",
    "#             return range_vals[(len(range_vals)//2)-1]\n",
    "#         else:\n",
    "#             if func(left[len(left)//2]) > func(range_vals[len(range_vals)//2]):\n",
    "#                 exceed_func3(func, thresh, start, left[-1])\n",
    "#             elif func(right[len(right)//2]) > func(range_vals[len(range_vals)//2]):\n",
    "#                 exceed_func3(func, thresh, right[0], end)\n",
    "        \n"
   ]
  },
  {
   "cell_type": "code",
   "execution_count": 194,
   "id": "7ad856dd",
   "metadata": {},
   "outputs": [],
   "source": [
    "# def exceed_func3(func, thresh, start, end):\n",
    "#     range_vals = [n for n in range(start, end+1)]\n",
    "#     if func(start) > func(end):\n",
    "#         return None\n",
    "#     else:\n",
    "#         if func(range_vals[len(range_vals)//2]) >= thresh:\n",
    "#             return range_vals[len(range_vals)//2]\n",
    "#         if func(range_vals[len(range_vals)//2]) < thresh:\n",
    "#           return exceed_func3(func, thresh, range_vals[len(range_vals)//2]+1, end)\n",
    "#         else:\n",
    "#              return exceed_func3(func, thresh, start, range_vals[len(range_vals)//2]-1)"
   ]
  },
  {
   "cell_type": "code",
   "execution_count": 196,
   "id": "992273c1",
   "metadata": {},
   "outputs": [],
   "source": [
    "def exceed_func3(func, thresh, start,end):\n",
    "    if start> end:\n",
    "        return None\n",
    "    else:\n",
    "        mid = (start+end)//2\n",
    "        if start == end:\n",
    "            return mid - 1\n",
    "        if func(end) < thresh:\n",
    "            return exceed_func3(func,thresh,mid+1,end)\n",
    "        if func(end) > thresh and func(mid) < thresh:\n",
    "            return exceed_func3(func,thresh,mid+1,end)\n",
    "        if func(mid) > thresh:\n",
    "            return exceed_func3(func,thresh, start, mid)\n",
    "        else:\n",
    "            return mid"
   ]
  },
  {
   "cell_type": "code",
   "execution_count": 22,
   "id": "077a432a",
   "metadata": {},
   "outputs": [],
   "source": [
    "func_n = lambda n: n**3"
   ]
  },
  {
   "cell_type": "code",
   "execution_count": 197,
   "id": "3b953bfb",
   "metadata": {},
   "outputs": [
    {
     "data": {
      "text/plain": [
       "100"
      ]
     },
     "execution_count": 197,
     "metadata": {},
     "output_type": "execute_result"
    }
   ],
   "source": [
    "exceed_func3(func_n, 10**6, 50,105)"
   ]
  },
  {
   "cell_type": "code",
   "execution_count": null,
   "id": "30104caf",
   "metadata": {},
   "outputs": [],
   "source": []
  },
  {
   "cell_type": "markdown",
   "id": "456aeee8-f203-40b4-a6bc-5d4c65f32ff4",
   "metadata": {},
   "source": [
    "### Max SubList Problem\n",
    "Given a list of numbers, find a contiguous sublist with the largest sum. If there is more than one sublist with the same max sum, return any of them. Assume that the list contains both positive and negative numbers.\n",
    "\n",
    "* Write a function **`max_sublist1(nums, start, end)`** that implements the brute-force (exhaustive search) solution, examining every possible sublist. It returns a 3-element tuple containing the indices that correspond to the first and last elements of the max sublist (inclusive), and the max sum.\n",
    "\n",
    "  Example:<br>\n",
    "  `max_sublist1([1, -4, 13, -5, 7], 0, 4)` returns `(2, 4, 15)` which corresponds to the max sum of $13-5+7 = 15$ and the starting and ending indices of $2$ and $4$.\n",
    "\n",
    "* Write a function **`max_sublist2(nums, start, end)`** that implements the divide-and-conquer solution. Recall that this is a $\\Theta(n \\log n)$ algorithm.\n",
    "\n",
    "* Find a linear time algorithm for the max sublist problem. Write a function **`max_sublist3(nums, start, end)`** that implements this $\\Theta(n)$ algorithm. (*Hint:* Given a starting index, as long as the accumulated sum is positive, keep adding elements. If the sum becomes negative, reset the starting index.)"
   ]
  },
  {
   "cell_type": "code",
   "execution_count": 88,
   "id": "52d98f93-0149-4f6e-96d8-5bafe01930df",
   "metadata": {},
   "outputs": [],
   "source": [
    "def max_sublist1(nums, start, end):\n",
    "    max_sum = sum(nums)\n",
    "    start_idx = 0\n",
    "    end_edx = 0\n",
    "    for i in range(start,end+1):\n",
    "        for j in range(1,end+2):\n",
    "            if sum(nums[i:j]) > max_sum:\n",
    "                max_sum = sum(nums[i:j])\n",
    "                start_idx = i\n",
    "                end_edx = j\n",
    "    return (start_idx,end_edx-1,max_sum)\n",
    "            \n",
    "\n",
    "    "
   ]
  },
  {
   "cell_type": "code",
   "execution_count": 90,
   "id": "51d0b004",
   "metadata": {},
   "outputs": [
    {
     "data": {
      "text/plain": [
       "(2, 4, 15)"
      ]
     },
     "execution_count": 90,
     "metadata": {},
     "output_type": "execute_result"
    }
   ],
   "source": [
    "max_sublist1([1,-4,13,-5,7], 0,4)"
   ]
  },
  {
   "cell_type": "code",
   "execution_count": 169,
   "id": "a71e1a3a",
   "metadata": {},
   "outputs": [],
   "source": [
    "def max_sublist_crossing(nums, start, mid, end):\n",
    "    left_sum = -math.inf\n",
    "    tot_sum = 0\n",
    "    max_left=0\n",
    "    for i in range(mid,start+1,-1):\n",
    "        tot_sum += nums[i]\n",
    "        if tot_sum > left_sum:\n",
    "            left_sum = tot_sum\n",
    "            max_left = i\n",
    "    right_sum = -math.inf\n",
    "    tot_sum = 0\n",
    "    max_right = 0\n",
    "    for j in range(mid+1, end+1):\n",
    "        tot_sum += nums[j]\n",
    "        if tot_sum > right_sum:\n",
    "            right_sum = tot_sum\n",
    "            max_right = j\n",
    "    return (max_left, max_right, left_sum+right_sum)\n",
    "\n"
   ]
  },
  {
   "cell_type": "code",
   "execution_count": 148,
   "id": "29d50759",
   "metadata": {},
   "outputs": [],
   "source": [
    "nums = [1,-4,13,-5,7]"
   ]
  },
  {
   "cell_type": "code",
   "execution_count": 170,
   "id": "2cbbefba",
   "metadata": {},
   "outputs": [
    {
     "data": {
      "text/plain": [
       "(2, 4, 15)"
      ]
     },
     "execution_count": 170,
     "metadata": {},
     "output_type": "execute_result"
    }
   ],
   "source": [
    "max_sublist_crossing(nums, 0,2,4)"
   ]
  },
  {
   "cell_type": "code",
   "execution_count": 161,
   "id": "9eba67e0",
   "metadata": {},
   "outputs": [],
   "source": [
    "def max_sublist2(nums,start,end):\n",
    "    if start==end:\n",
    "        return (start, end, nums[start])\n",
    "    else:\n",
    "        mid = math.floor((start+end)/2)\n",
    "        (left_start, left_end, left_sum) = max_sublist2(nums, start, mid)\n",
    "        (right_start, right_end, right_sum) = max_sublist2(nums, mid+1, end)\n",
    "        (crossing_start, crossing_end, crossing_sum) = max_sublist_crossing(nums, start, mid, end)\n",
    "        if left_sum >= right_sum and left_sum >= crossing_sum:\n",
    "            return (left_start, left_end, left_sum)\n",
    "        elif right_sum >= left_sum and right_sum >= crossing_sum:\n",
    "            return (right_start, right_end, right_sum)\n",
    "        else:\n",
    "            return (crossing_start, crossing_end, crossing_sum)\n",
    "        "
   ]
  },
  {
   "cell_type": "code",
   "execution_count": 162,
   "id": "1f9e505b",
   "metadata": {},
   "outputs": [
    {
     "data": {
      "text/plain": [
       "(2, 4, 15)"
      ]
     },
     "execution_count": 162,
     "metadata": {},
     "output_type": "execute_result"
    }
   ],
   "source": [
    "max_sublist2([1,-4,13,-5,7], 0,4)"
   ]
  },
  {
   "cell_type": "code",
   "execution_count": 175,
   "id": "e3e2c7f3",
   "metadata": {},
   "outputs": [
    {
     "data": {
      "text/plain": [
       "[]"
      ]
     },
     "execution_count": 175,
     "metadata": {},
     "output_type": "execute_result"
    }
   ],
   "source": [
    "nums[0:0]"
   ]
  },
  {
   "cell_type": "code",
   "execution_count": 202,
   "id": "8dbbcd4a",
   "metadata": {},
   "outputs": [],
   "source": [
    "def max_sublist3(nums, start, end):\n",
    "    i=start\n",
    "    start_val = 0\n",
    "    j=end\n",
    "    index = 0\n",
    "\n",
    "    max_sum = nums[start]\n",
    "    for n in range(start,end+1):\n",
    "        if index + nums[n] >= 0:\n",
    "            index += nums[n]\n",
    "            if index > max_sum:\n",
    "               max_sum = index\n",
    "               start_val = i\n",
    "               j = n\n",
    "        else:\n",
    "            index = 0\n",
    "            i = n+1\n",
    "\n",
    "    return (start_val,j,max_sum)\n",
    "    \n",
    "    "
   ]
  },
  {
   "cell_type": "code",
   "execution_count": 203,
   "id": "875a4300",
   "metadata": {},
   "outputs": [
    {
     "data": {
      "text/plain": [
       "(2, 4, 15)"
      ]
     },
     "execution_count": 203,
     "metadata": {},
     "output_type": "execute_result"
    }
   ],
   "source": [
    "max_sublist3(nums,0,4)"
   ]
  },
  {
   "cell_type": "markdown",
   "id": "12dc6b19-c9c1-46ad-95d2-a206400c32b8",
   "metadata": {},
   "source": [
    "**Compare the runtimes for the 3 versions.**"
   ]
  },
  {
   "cell_type": "code",
   "execution_count": 191,
   "id": "4460588a-692e-4974-8d85-1a5b6d9621f5",
   "metadata": {},
   "outputs": [
    {
     "name": "stdout",
     "output_type": "stream",
     "text": [
      "0.00015282630920410156\n"
     ]
    }
   ],
   "source": [
    "# start = time.time()\n",
    "# max_sublist1(nums,0,4)\n",
    "# end= time.time()\n",
    "# print(end-start)"
   ]
  },
  {
   "cell_type": "code",
   "execution_count": 192,
   "id": "c86b1ea0",
   "metadata": {},
   "outputs": [
    {
     "name": "stdout",
     "output_type": "stream",
     "text": [
      "0.0013630390167236328\n"
     ]
    }
   ],
   "source": [
    "# start = time.time()\n",
    "# max_sublist2(nums,0,4)\n",
    "# end= time.time()\n",
    "# print(end-start)"
   ]
  },
  {
   "cell_type": "code",
   "execution_count": 193,
   "id": "d7a15248",
   "metadata": {},
   "outputs": [
    {
     "name": "stdout",
     "output_type": "stream",
     "text": [
      "0.00010204315185546875\n"
     ]
    }
   ],
   "source": [
    "# start = time.time()\n",
    "# max_sublist3(nums,0,4)\n",
    "# end= time.time()\n",
    "# print(end-start)"
   ]
  },
  {
   "cell_type": "code",
   "execution_count": null,
   "id": "0827c98e",
   "metadata": {},
   "outputs": [],
   "source": []
  }
 ],
 "metadata": {
  "kernelspec": {
   "display_name": "Python 3 (ipykernel)",
   "language": "python",
   "name": "python3"
  },
  "language_info": {
   "codemirror_mode": {
    "name": "ipython",
    "version": 3
   },
   "file_extension": ".py",
   "mimetype": "text/x-python",
   "name": "python",
   "nbconvert_exporter": "python",
   "pygments_lexer": "ipython3",
   "version": "3.11.4"
  }
 },
 "nbformat": 4,
 "nbformat_minor": 5
}
