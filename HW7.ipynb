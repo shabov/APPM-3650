{
 "cells": [
  {
   "cell_type": "markdown",
   "id": "4957fb18-0eee-453a-ae88-603c7e26348b",
   "metadata": {
    "tags": []
   },
   "source": [
    "# HW 7\n",
    "\n",
    "**Upload two files** to Gradescope: \n",
    "* `HW7.ipynb` (run all cells to make sure that outputs are visible, especially plots)\n",
    "* `HW7.py` (which will be autograded)\n",
    "\n",
    "___"
   ]
  },
  {
   "cell_type": "code",
   "execution_count": 14,
   "id": "da04a0d1-e656-46de-8583-4d1a5325a504",
   "metadata": {},
   "outputs": [],
   "source": [
    "import matplotlib.pyplot as plt"
   ]
  },
  {
   "cell_type": "markdown",
   "id": "71c6ad78-d5b7-4b6f-9659-7508f4c4daa4",
   "metadata": {
    "tags": []
   },
   "source": [
    "### Binary Search Tree\n",
    "The code below defines the class **`BST`** which represents a binary search tree containing **`BSTNode`** objects. A `BST` object has the attribute\n",
    "* `root` which points to the `BSTNode` located at the root of the tree\n",
    "\n",
    "and a `BSTNode` object has the attributes\n",
    "* `key`\n",
    "* `data`\n",
    "* `parent`\n",
    "* `left`\n",
    "* `right`."
   ]
  },
  {
   "cell_type": "code",
   "execution_count": 1,
   "id": "47db3d6b-8991-42ac-b6da-ee74dda0c8a3",
   "metadata": {},
   "outputs": [],
   "source": [
    "class BSTNode:\n",
    "    '''A node in a binary search tree'''\n",
    "    def __init__(self, key, satellite):\n",
    "        self.key = key\n",
    "        self.data = satellite\n",
    "        self.parent = None\n",
    "        self.left = None\n",
    "        self.right = None\n",
    "    \n",
    "    def keys(self):\n",
    "        return\n",
    "    def search(self, key):\n",
    "        return \n",
    "        \n",
    "class BST:\n",
    "    '''Binary search tree containing BSTNodes'''\n",
    "    def __init__(self, node):\n",
    "        self.root = node\n",
    "    \n",
    "    def insert(self, node):\n",
    "\n"
   ]
  },
  {
   "cell_type": "markdown",
   "id": "6ad74b2c-3c81-4d7c-813a-93f0c0f4a9bb",
   "metadata": {},
   "source": [
    "Add these `BSTNode` methods:\n",
    "* **`keys()`** returns a list of the keys in the BST (or subtree) in order starting with the given node. (Do not call a sort routine.)\n",
    "* **`search(key)`** returns the node corresponding to `key` or returns `None` if `key` is not found. The search begins with the given node and extends to its subtree.\n"
   ]
  },
  {
   "cell_type": "markdown",
   "id": "d0994263-03f5-417e-9454-08e1c63adc0d",
   "metadata": {},
   "source": [
    "Add this `BST` method:\n",
    "* **`insert(node)`** inserts a new `BSTNode` into the tree in an appropriate position. No value is returned.\n",
    "\n",
    "Example:<br>\n",
    "```\n",
    "ralph = BSTNode('buff8039', 'Ralphie')\n",
    "pyth = BSTNode('pyth2022', 'Guido Von Rossum')\n",
    "marie = BSTNode('macu1234', 'Marie Curie')\n",
    "\n",
    "tree = BST(ralph)\n",
    "tree.insert(pyth)\n",
    "tree.insert(marie)\n",
    "tree.root.keys(), pyth.search('macu1234').data\n",
    "```\n",
    "returns\n",
    "```\n",
    "(['buff8039', 'macu1234', 'pyth2022'], 'Marie Curie')\n",
    "```\n"
   ]
  },
  {
   "cell_type": "code",
   "execution_count": null,
   "id": "eb80502a-11e9-483e-abd7-17347214ce15",
   "metadata": {},
   "outputs": [],
   "source": []
  },
  {
   "cell_type": "markdown",
   "id": "58c9acb9-37b0-4cdb-a81d-79d46882494f",
   "metadata": {},
   "source": [
    "Add these `BSTNode` methods:\n",
    "* **`min()`** returns the node corresponding to the smallest key in the tree or subtree. The given node is the root.\n",
    "* **`max()`** returns the node corresponding to the largest key in the tree or subtree. The given node is the root.\n",
    "\n",
    "Add the `BST` method:\n",
    "* **`successor(node)`** returns the successor to the given node.\n"
   ]
  },
  {
   "cell_type": "code",
   "execution_count": null,
   "id": "009839ea-4920-4f04-b05b-a9f49bbb6f80",
   "metadata": {},
   "outputs": [],
   "source": []
  },
  {
   "cell_type": "markdown",
   "id": "f9e4e75a-3216-4a6f-80aa-e734a859a178",
   "metadata": {
    "tags": []
   },
   "source": [
    "### Insertion Sort\n",
    "Write a function **`insertion_sort(nums)`** that takes a list of numbers and uses the insertion sort algorithm to sort the numbers in place, modifying the `nums` argument. The function does not return a value.\n",
    "\n",
    "For example,\n",
    "```\n",
    "ints = [11, 13, 8, 7, 10]\n",
    "insertion_sort(ints)\n",
    "ints\n",
    "```\n",
    "displays\n",
    "```\n",
    "[7, 8, 10, 11, 13]\n",
    "```"
   ]
  },
  {
   "cell_type": "code",
   "execution_count": null,
   "id": "cced0313-b528-4ec4-af69-e27a685aec5a",
   "metadata": {},
   "outputs": [],
   "source": []
  },
  {
   "cell_type": "markdown",
   "id": "28806e73-d4cf-43b2-9f1f-f418319a67ba",
   "metadata": {},
   "source": [
    "### Displaying Numbers as Bars\n",
    "Here is a sample bar chart with labels."
   ]
  },
  {
   "cell_type": "code",
   "execution_count": 79,
   "id": "f27d2a54-9f96-4aa6-b178-651e23cca651",
   "metadata": {},
   "outputs": [
    {
     "data": {
      "image/png": "[encoded data removed]",
      "text/plain": [
       "<Figure size 640x480 with 1 Axes>"
      ]
     },
     "metadata": {},
     "output_type": "display_data"
    }
   ],
   "source": [
    "nums = [11, 13, 7, 8, 10, 16, 5, 6, 14, 3]\n",
    "\n",
    "fig, ax = plt.subplots()\n",
    "ax.set_xticks([])\n",
    "ax.set_yticks([])\n",
    "\n",
    "bars = ax.bar(range(len(nums)), nums)  \n",
    "ax.bar_label(bars)\n",
    "plt.show()"
   ]
  },
  {
   "cell_type": "code",
   "execution_count": null,
   "id": "e6ccc8b5-e29e-4cbe-b4aa-98167f0fed2d",
   "metadata": {},
   "outputs": [],
   "source": []
  },
  {
   "cell_type": "markdown",
   "id": "efc61fc9-1dbb-4b9c-b7cc-e4c9529b3003",
   "metadata": {},
   "source": [
    "### Insertion Sort Visualization\n",
    "Write a variation of `insertion_sort` called **`insertion_sort_viz(nums)`** which **displays the numbers as vertical bars** after each key is moved into its ordered position. The number of plots will match the number of elements in `nums`. Use one color for the sorted numbers on the left and a different color for the unsorted numbers on the right. The current `key` should be highlighted in a third color. Below is a sample plot after four iterations.\n",
    "\n",
    "<img src = \"http://www.coloradomath.org/python/insertion_sort_viz.jpg\" width=\"450\" height=\"300\" />\n"
   ]
  },
  {
   "cell_type": "code",
   "execution_count": null,
   "id": "37a82528-81d8-4a3a-8056-b7d7d1d51fd1",
   "metadata": {},
   "outputs": [],
   "source": []
  },
  {
   "cell_type": "markdown",
   "id": "cc1a6d1d-e088-4b90-90cc-525a4967ebad",
   "metadata": {},
   "source": [
    "**Run the visualization** on the `nums` list defined below."
   ]
  },
  {
   "cell_type": "code",
   "execution_count": null,
   "id": "6d062c87-c912-47a6-99e9-e6663ab6cac6",
   "metadata": {},
   "outputs": [],
   "source": [
    "nums = [25, 15, 30, 23, 10, 12, 27, 16]"
   ]
  },
  {
   "cell_type": "code",
   "execution_count": null,
   "id": "758edd52-a4cd-4282-a319-da7ad276ff7c",
   "metadata": {},
   "outputs": [],
   "source": []
  }
 ],
 "metadata": {
  "kernelspec": {
   "display_name": "Python 3 (ipykernel)",
   "language": "python",
   "name": "python3"
  },
  "language_info": {
   "codemirror_mode": {
    "name": "ipython",
    "version": 3
   },
   "file_extension": ".py",
   "mimetype": "text/x-python",
   "name": "python",
   "nbconvert_exporter": "python",
   "pygments_lexer": "ipython3",
   "version": "3.8.17"
  }
 },
 "nbformat": 4,
 "nbformat_minor": 5
}
