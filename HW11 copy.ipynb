{
 "cells": [
  {
   "cell_type": "markdown",
   "id": "1a12f781-d846-4005-8946-593abdf31b3d",
   "metadata": {
    "tags": []
   },
   "source": [
    "# HW 11\n",
    "\n",
    "**Upload one file** to Gradescope: \n",
    "* `HW11.py` (which will be autograded)\n",
    "\n",
    "___"
   ]
  },
  {
   "cell_type": "code",
   "execution_count": 1,
   "id": "864307f0-3b82-4757-87c8-6a4664b92a9c",
   "metadata": {},
   "outputs": [],
   "source": [
    "from collections import Counter"
   ]
  },
  {
   "cell_type": "markdown",
   "id": "e46e2db3-0ca8-4678-a17c-418d826ec5ea",
   "metadata": {},
   "source": [
    "### Counting Frequencies\n",
    "An inefficient way to count the letter frequencies in a string is to call `.count()` for each letter of the alphabet.\n",
    "\n",
    "A more efficient method is to use a `Counter` which is a subclass of `dict`. Documentation can be found here: https://docs.python.org/3/library/collections.html#collections.Counter.\n",
    "\n",
    "Example:\n",
    "```\n",
    "from collections import Counter\n",
    "ct = Counter()\n",
    "ct.update('banana')\n",
    "ct.update('bun')\n",
    "ct\n",
    "```\n",
    "returns \n",
    "```\n",
    "Counter({'b': 2, 'a': 3, 'n': 3, 'u': 1})\n",
    "```\n",
    "which can be used like a dictionary. To sort by most frequent to least frequent, call\n",
    "```\n",
    "ct.most_common()\n",
    "```\n",
    "which will return the list\n",
    "```\n",
    "[('a', 3), ('n', 3), ('b', 2), ('u', 1)]\n",
    "```"
   ]
  },
  {
   "cell_type": "markdown",
   "id": "7bc8ecd3-3a98-4e9c-9686-115f27fff536",
   "metadata": {},
   "source": [
    "### Flatland\n",
    "\n",
    "The file `'flatland.txt'` contains the text of the book *Flatland* by Edwin A. Abbott, which is a satire about Victorian England. Its main characters are geometric shapes. **Calculate the frequencies** of the 26 letters of the alphabet in the text using a `Counter`. Save the result in **`flatland_freq`**.\n",
    "\n",
    "* For space efficiency, **read the file line by line**. For example:\n",
    "```\n",
    "with open('flatland.txt') as fp:\n",
    "    for line in fp:\n",
    "        ...\n",
    "```\n",
    "* Use `.isalpha()` to distinguish letters from non-alphabetic characters.\n",
    "* Use `.lower()` to convert upper case characters to lower case."
   ]
  },
  {
   "cell_type": "code",
   "execution_count": 2,
   "id": "ffda202a-22b3-48ee-94f6-8d58218dd72f",
   "metadata": {},
   "outputs": [],
   "source": [
    "alphabet = 'abcdefghijklmnopqrstuvwxyz' \n",
    "curr_str = ''\n",
    "\n",
    "with open('flatland.txt') as fp:\n",
    "    for line in fp:\n",
    "        for char in line:\n",
    "            if char.isalpha():\n",
    "                curr_str += char.lower()\n",
    "\n",
    "flatland_freq = Counter()\n",
    "\n",
    "flatland_freq.update(curr_str)"
   ]
  },
  {
   "cell_type": "markdown",
   "id": "174bfac6-8562-4aa7-b767-d8160e1afcce",
   "metadata": {},
   "source": [
    "### Flatland Fixed-Length Encodings\n",
    "Suppose the letters in the alphabet are represented using fixed-length ternary (base 3) codes. **Calculate the total number of ternary digits needed** to encode the 26 letters in *Flatland* (converting upper case letters to lower case). Store the result in `flatland_digit_ct_fixed`.\n",
    "\n",
    "For example, the first 5 letters of the alphabet can be represented as two-digit base 3 numbers: `a=00`, `b=01`, `c=02`, `d=10`, and `e=11`. Then the encoding for the word `aced` would require 8 digits: `00021110`."
   ]
  },
  {
   "cell_type": "code",
   "execution_count": 38,
   "id": "1598b1af-8f3c-4c41-ab82-354911166711",
   "metadata": {},
   "outputs": [],
   "source": [
    "flatland_digit_ct_fixed = 445932\n",
    "#a=000 b=001 c=002 d=010 e=011 f=012 g=020 h=021 i=022 j=100 k=101 l=102 m= 110 n=111 o=112 p=120 q=121 r= 122 s = 200 t=201 u = 202 v=210 w=211 x=212 y=220 z=221"
   ]
  },
  {
   "cell_type": "code",
   "execution_count": 104,
   "id": "ec9db66c",
   "metadata": {},
   "outputs": [
    {
     "data": {
      "text/plain": [
       "dict_values([3694, 6402, 11460, 13582, 10814, 5686, 8706, 11790, 3986, 4438, 18666, 3125, 11154, 9785, 2665, 2148, 2810, 7955, 4488, 2588, 193, 502, 1418, 85, 379, 125])"
      ]
     },
     "execution_count": 104,
     "metadata": {},
     "output_type": "execute_result"
    }
   ],
   "source": [
    "flatland_freq.values()"
   ]
  },
  {
   "cell_type": "code",
   "execution_count": 177,
   "id": "3cc169cc-8a08-479c-bba1-5fff647a534c",
   "metadata": {},
   "outputs": [
    {
     "data": {
      "text/plain": [
       "445932"
      ]
     },
     "execution_count": 177,
     "metadata": {},
     "output_type": "execute_result"
    }
   ],
   "source": [
    "sum1 = 0\n",
    "for i in list(flatland_freq.values()):\n",
    "    sum1 += 3*i\n",
    "sum1"
   ]
  },
  {
   "cell_type": "markdown",
   "id": "d41b47bd-9b21-4e38-a1b7-787fd713effc",
   "metadata": {},
   "source": [
    "### Huffman Code\n",
    "\n",
    "Write a function **`huffman(char_freq)`** that takes a Counter containing `ch: freq` key-value pairs representing letter frequencies, and **returns a dictionary** containing the ternary encodings for the characters. The dictionary keys will be the characters, and the values will be the base 3 encodings in string format. Assume that there are at least 3 characters in `char_freq`.\n",
    "\n",
    "The algorithm will use a **ternary tree** (instead of a binary tree) composed of `HuffNode`s (defined below) with each node having up to 3 children. The children should be arranged from left to right in order of increasing frequency. (It is not necessary for the function to implement an efficient min-priority queue; it may call `sorted()`.)\n",
    "\n",
    "**Note**: An optimal encoding can be found if the number of characters is odd. If there is an even number of characters, add a dummy character `'@'` with frequency 0. This will ensure that the root will have 3 children.\n",
    "\n",
    "**Example**: \n",
    "```\n",
    "char_freq = Counter({'a': 45, 'b': 10, 'c': 18, \n",
    "                     'd': 48, 'e': 22, 'f': 33})\n",
    "huffman(char_freq)\n",
    "\n",
    "```\n",
    "returns (in some order)\n",
    "```\n",
    "{'b': '211', 'f': '22', 'a': '0', 'd': '1', 'c': '212', 'e': '20'}\n",
    "\n",
    "```"
   ]
  },
  {
   "cell_type": "code",
   "execution_count": 4,
   "id": "28fea4b9-b2ac-4778-adf1-ac04f46da472",
   "metadata": {},
   "outputs": [],
   "source": [
    "class HuffNode:\n",
    "    def __init__(self, ch, freq):\n",
    "        self.char = ch  # set to '' if internal node\n",
    "        self.freq = freq\n",
    "        self.parent = None\n",
    "        self.left = None\n",
    "        self.middle = None\n",
    "        self.right = None"
   ]
  },
  {
   "cell_type": "code",
   "execution_count": 196,
   "id": "b9f45b89",
   "metadata": {},
   "outputs": [],
   "source": [
    "def extract_min(sorted_vals):\n",
    "    min_val = sorted_vals[-1]\n",
    "    sorted_vals.pop(-1)\n",
    "    return min_val\n"
   ]
  },
  {
   "cell_type": "code",
   "execution_count": 197,
   "id": "19620d27",
   "metadata": {},
   "outputs": [],
   "source": [
    "def create_parent(sorted_vals):\n",
    "    new_parent = HuffNode('',0)\n",
    "    x = extract_min(sorted_vals)\n",
    "    y = extract_min(sorted_vals)\n",
    "    z = extract_min(sorted_vals)\n",
    "\n",
    "    new_parent.left = x[0]\n",
    "    new_parent.middle = y[0]\n",
    "    new_parent.right = z[0]\n",
    "    new_parent.freq = x[1] + y[1] + z[1]\n",
    "\n",
    "    sorted_vals.append((new_parent, new_parent.freq))\n",
    "    sorted_vals = sorted(sorted_vals, key = lambda x: x[1], reverse = True)"
   ]
  },
  {
   "cell_type": "code",
   "execution_count": 233,
   "id": "f57d0089",
   "metadata": {},
   "outputs": [],
   "source": [
    "def node_children(node):\n",
    "    char_nodes = []\n",
    "    children_node = []\n",
    "\n",
    "    if type(node.left) == str:\n",
    "        char_nodes.append((node.left, 'L'))\n",
    "    else:\n",
    "        children_node.append((node.left, 'L'))\n",
    "    if type(node.middle) == str:\n",
    "        char_nodes.append((node.middle, 'M'))\n",
    "    else:\n",
    "        children_node.append((node.middle, 'M'))\n",
    "\n",
    "    if type(node.right) == str:\n",
    "        char_nodes.append((node.right, 'R'))\n",
    "    else:\n",
    "        children_node.append((node.right, 'R'))\n",
    "    \n",
    "    return (children_node, len(children_node) == 0), (char_nodes, len(char_nodes) == 0)\n",
    "    \n"
   ]
  },
  {
   "cell_type": "code",
   "execution_count": 317,
   "id": "a752c7b1",
   "metadata": {},
   "outputs": [],
   "source": [
    "def tree_search(node):\n",
    "    running = node_children(node)[0][1]\n",
    "    huff_encoding = '0'\n",
    "    lst1 = []\n",
    "    not_visted = []\n",
    "    while running == False:\n",
    "        chars = node_children(node)[1][0]\n",
    "        children = node_children(node)[0][0]\n",
    "        for ch in chars:\n",
    "            if ch[0] == '@':\n",
    "                pass\n",
    "            else:\n",
    "                if ch[1] == 'L':\n",
    "                    lst1.append((ch[0], int(huff_encoding)))\n",
    "                if ch[1] == 'M':\n",
    "                    lst1.append((ch[0], int(huff_encoding)+1))\n",
    "\n",
    "                if ch[1] == 'R':\n",
    "                    lst1.append((ch[0], int(huff_encoding)+2))\n",
    "\n",
    "        running = node_children(node)[0][1]\n",
    "        if len(children) == 1:\n",
    "            node = children[0][0]\n",
    "            last_en = children[0][1]\n",
    "            if last_en == 'R':\n",
    "                huff_encoding = str(int(huff_encoding) + 2) + '0'\n",
    "            elif last_en == 'M':\n",
    "                huff_encoding = str(int(huff_encoding)+1) + '0'\n",
    "            else:\n",
    "                huff_encoding += '0'\n",
    "        else:\n",
    "            running = True\n",
    "    \n",
    "    dict_freq = {}\n",
    "    for i in lst1:\n",
    "        dict_freq[i[0]] = i[1]\n",
    "    return dict_freq\n",
    "\n",
    "            \n",
    "    "
   ]
  },
  {
   "cell_type": "code",
   "execution_count": null,
   "id": "4ac62705",
   "metadata": {},
   "outputs": [],
   "source": [
    "# def two_node_helper(node_lst, huff_encoding):\n",
    "#     node1 = node_lst[0][0]\n",
    "    \n",
    "    \n",
    "    "
   ]
  },
  {
   "cell_type": "code",
   "execution_count": 315,
   "id": "43ad1b3a",
   "metadata": {},
   "outputs": [],
   "source": [
    "def huffman(char_freq):\n",
    "    if len(char_freq) % 2 == 0:\n",
    "        sorted_vals = char_freq.most_common() + [('@',0)]\n",
    "    else:\n",
    "        sorted_vals = char_freq.most_common()\n",
    "    N = len(sorted_vals)\n",
    "    for i in range(0, N//2):\n",
    "       create_parent(sorted_vals)\n",
    "       sorted_vals = sorted(sorted_vals, key = lambda x: x[1], reverse = True)\n",
    "    return  tree_search(extract_min(sorted_vals)[0])"
   ]
  },
  {
   "cell_type": "code",
   "execution_count": 316,
   "id": "d442fc37",
   "metadata": {},
   "outputs": [
    {
     "data": {
      "text/plain": [
       "{'a': 0, 'd': 1, 'e': 20, 'f': 22, 'b': 211, 'c': 212}"
      ]
     },
     "execution_count": 316,
     "metadata": {},
     "output_type": "execute_result"
    }
   ],
   "source": [
    "char_freq = Counter({'a': 45, 'b': 10, 'c': 18, 'd': 48, 'e': 22, 'f': 33})\n",
    "huffman(char_freq)\n"
   ]
  },
  {
   "cell_type": "markdown",
   "id": "fc777eeb",
   "metadata": {},
   "source": []
  },
  {
   "cell_type": "markdown",
   "id": "439a47f4-6021-4378-ba82-54609a540c19",
   "metadata": {
    "tags": []
   },
   "source": [
    "### Flatland Encodings\n",
    "Call `huffman(flatland_freq)` and store the result in `flatland_huffman_codes`."
   ]
  },
  {
   "cell_type": "code",
   "execution_count": 312,
   "id": "2d4810d7-3a8f-43df-a9bf-20a1b0bdd5e4",
   "metadata": {},
   "outputs": [
    {
     "data": {
      "text/plain": [
       "{'e': 0,\n",
       " 't': 1,\n",
       " 'o': 20,\n",
       " 'a': 21,\n",
       " 'i': 220,\n",
       " 'n': 221,\n",
       " 's': 2220,\n",
       " 'r': 2221,\n",
       " 'h': 22220,\n",
       " 'l': 22221,\n",
       " 'd': 222220,\n",
       " 'u': 222221,\n",
       " 'c': 2222220,\n",
       " 'm': 2222221,\n",
       " 'f': 22222220,\n",
       " 'y': 22222221,\n",
       " 'g': 222222220,\n",
       " 'w': 222222221,\n",
       " 'p': 2222222220,\n",
       " 'b': 2222222221,\n",
       " 'v': 22222222220,\n",
       " 'k': 22222222221,\n",
       " 'x': 222222222220,\n",
       " 'q': 222222222221,\n",
       " 'j': 2222222222220,\n",
       " 'z': 2222222222221}"
      ]
     },
     "execution_count": 312,
     "metadata": {},
     "output_type": "execute_result"
    }
   ],
   "source": [
    "flatland_huffman_codes = {'e': 0,\n",
    " 't': 1,\n",
    " 'o': 20,\n",
    " 'a': 21,\n",
    " 'i': 220,\n",
    " 'n': 221,\n",
    " 's': 2220,\n",
    " 'r': 2221,\n",
    " 'h': 22220,\n",
    " 'l': 22221,\n",
    " 'd': 222220,\n",
    " 'u': 222221,\n",
    " 'c': 2222220,\n",
    " 'm': 2222221,\n",
    " 'f': 22222220,\n",
    " 'y': 22222221,\n",
    " 'g': 222222220,\n",
    " 'w': 222222221,\n",
    " 'p': 2222222220,\n",
    " 'b': 2222222221,\n",
    " 'v': 22222222220,\n",
    " 'k': 22222222221,\n",
    " 'x': 222222222220,\n",
    " 'q': 222222222221,\n",
    " 'j': 2222222222220,\n",
    " 'z': 2222222222221}\n",
    "flatland_huffman_codes"
   ]
  },
  {
   "cell_type": "markdown",
   "id": "f3a7d11f-3525-4763-8a8b-5c5d82c9a1ba",
   "metadata": {
    "tags": []
   },
   "source": [
    "**Calculate the number of ternary digits needed** to encode the letters in *Flatland* (converted to lower case) using `flatland_huffman_codes`. Store the result in `flatland_digit_ct_huffman`."
   ]
  },
  {
   "cell_type": "code",
   "execution_count": 311,
   "id": "caea1ed8-aac4-48f8-97df-bc85fa869962",
   "metadata": {},
   "outputs": [],
   "source": [
    "flatland_digit_ct_huffman = 592314"
   ]
  },
  {
   "cell_type": "code",
   "execution_count": null,
   "id": "a9e07bfc",
   "metadata": {},
   "outputs": [],
   "source": []
  }
 ],
 "metadata": {
  "kernelspec": {
   "display_name": "Python 3 (ipykernel)",
   "language": "python",
   "name": "python3"
  },
  "language_info": {
   "codemirror_mode": {
    "name": "ipython",
    "version": 3
   },
   "file_extension": ".py",
   "mimetype": "text/x-python",
   "name": "python",
   "nbconvert_exporter": "python",
   "pygments_lexer": "ipython3",
   "version": "3.11.8"
  }
 },
 "nbformat": 4,
 "nbformat_minor": 5
}
