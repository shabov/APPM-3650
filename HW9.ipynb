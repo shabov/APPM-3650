{
 "cells": [
  {
   "cell_type": "markdown",
   "id": "9141e7ff-bb17-4c37-a1d6-d0d3b4dab5b3",
   "metadata": {
    "tags": []
   },
   "source": [
    "# HW 9\n",
    "\n",
    "**Upload one file** to Gradescope: \n",
    "* `HW9.py` (which will be autograded)\n",
    "\n",
    "___"
   ]
  },
  {
   "cell_type": "code",
   "execution_count": 1,
   "id": "ffd2130e-8fe0-414e-a549-53c3e5515e8c",
   "metadata": {},
   "outputs": [],
   "source": [
    "import random\n",
    "import numpy as np"
   ]
  },
  {
   "cell_type": "markdown",
   "id": "452ca4ce-0bbb-483a-9c1a-a1968d94d04f",
   "metadata": {},
   "source": [
    "### Driving Routes\n",
    "Your local gym is located $m$ blocks south and $n$ blocks east of your current location. In addition,\n",
    "\n",
    "* The streets in your town are arranged in a rectangular grid along the north-south and east-west directions.\n",
    "* You always travel south or east toward the gym, driving the minimum number of blocks.\n",
    "* One or more intersections in the grid may be blocked due to road maintenance projects. \n",
    "\n",
    "How many possible driving routes to the gym are there? Write a function **`driving_routes(m, n, blocked)`** that returns the number of possible routes to your destination where `blocked` is a list of `(i, j)` blocked intersections located $i$ blocks south and $j$ blocks east of your current location, $0 \\le i \\le m$, $0 \\le j \\le n$. **Use dynamic programming** to compute the answer. Use a **numpy array** to count the routes. (Assume that the upper left and lower right intersections are not blocked.)\n",
    "\n",
    "Example:  \n",
    "`driving_routes(3, 5, [(0, 3), (2, 1)])` returns `31`. Shown below is one of the routes.\n",
    "\n",
    "<img src=\"http://www.coloradomath.org/python/car_to_gym.jpg\" width=\"349\" height=\"232\" />\n"
   ]
  },
  {
   "cell_type": "code",
   "execution_count": 30,
   "id": "53e1f4e4-c621-4c7c-afd3-3bf100096cd1",
   "metadata": {},
   "outputs": [],
   "source": [
    "def driving_routes(m, n, blocked):\n",
    "    blocks = np.ones((m+1,n+1), int)\n",
    "    for i in blocked:\n",
    "        blocks[i[0],i[1]] = 0\n",
    "        if i[0] == 0:\n",
    "            for k in range(i[1], n+1):\n",
    "                blocks[i[0],k] = 0\n",
    "        if i[1] == 0:\n",
    "            for k in range(i[0], m+1):\n",
    "                blocks[k, i[1]] = 0\n",
    "    \n",
    "    for j in range(1,n+1):\n",
    "        for k in range(1,m+1):\n",
    "            if blocks[k,j] == 0:\n",
    "                pass\n",
    "            else:\n",
    "                blocks[k,j] = blocks[k-1, j] + blocks[k, j-1]\n",
    "\n",
    "    return blocks[m,n]\n",
    "            \n",
    "            \n",
    "        \n",
    "    "
   ]
  },
  {
   "cell_type": "code",
   "execution_count": 31,
   "id": "7a35e183",
   "metadata": {},
   "outputs": [
    {
     "data": {
      "text/plain": [
       "31"
      ]
     },
     "execution_count": 31,
     "metadata": {},
     "output_type": "execute_result"
    }
   ],
   "source": [
    "driving_routes(3,5, [(0,3),(2,1)])"
   ]
  },
  {
   "cell_type": "markdown",
   "id": "57948bb4-ac04-457c-b870-1c611e0abb49",
   "metadata": {},
   "source": [
    "### Bears in a Tube\n",
    "Winnie has a prized collection of teddy bears stored in a clear tube. She plans to sell one teddy bear a year, beginning next year, always selecting the leftmost or rightmost bear. The $i$ th bear will yield a profit of $p_i$ dollars if sold in 1 year. After that the bears will increase in value over time so that the profit of the $i$ th bear will be $y\\cdot p_i$ dollars if sold after $y$ years.\n",
    "\n",
    "Write a function **`teddy(profits)`** that takes a list of the (positive) profits for the individual bears and returns a tuple `(order, max_profit)` containing the order in which the bears should be sold and the maximum possible profit. The `order` will be represented as a string of `L`s and `R`s, indicating whether the leftmost or rightmost bear, respectively, should be sold, with the letter `X` used for the final single bear. The function should use a **dynamic programming** approach.\n",
    "\n",
    "Example: Suppose Winnie has 5 bears with `profits = [2, 4, 6, 2, 5]`. Then `teddy(profits)` will return `('LRRLX', 64)` corresponding to the order Left-Right-Right-Left-Single, which will yield a max profit of $1\\cdot 2+2\\cdot 5+3\\cdot 2+4\\cdot 4+5\\cdot 6=64$ dollars."
   ]
  },
  {
   "cell_type": "markdown",
   "id": "dc660d45-315c-4920-a52c-4d43a27e2768",
   "metadata": {},
   "source": [
    "*Hints:* There are multiple ways to solve this problem using dynamic programming. You may wish to write a helper function that takes as input the indices for the subarray to be processed."
   ]
  },
  {
   "cell_type": "code",
   "execution_count": 32,
   "id": "1fbadd02",
   "metadata": {},
   "outputs": [],
   "source": [
    "def teddy_helper(profits, left, right, year, memo):\n",
    "    if left > right:\n",
    "        return 0\n",
    "    if memo[left][right][year] != -1:\n",
    "        return memo[left][right][year]\n",
    "  \n",
    "    left_profit = profits[left] * year + teddy_helper(profits, left + 1, right, year + 1, memo)\n",
    "    right_profit = profits[right] * year + teddy_helper(profits, left, right - 1, year + 1, memo)\n",
    "    \n",
    "    if left_profit > right_profit:\n",
    "        memo[left][right][year] = left_profit\n",
    "        return left_profit\n",
    "    else:\n",
    "        memo[left][right][year] = right_profit\n",
    "        return right_profit\n",
    "\n",
    "def teddy(profits):\n",
    "    n = len(profits)\n",
    "    memo = [[[-1] * (n + 1) for _ in range(n)] for _ in range(n)]\n",
    "    max_profit = teddy_helper(profits, 0, n - 1, 1, memo)\n",
    "    \n",
    "    order = ''\n",
    "    left, right = 0, n - 1\n",
    "    year = 1\n",
    "\n",
    "    while left < right: \n",
    "        left_profit = profits[left] * year + memo[left + 1][right][year + 1]\n",
    "        right_profit = profits[right] * year + memo[left][right - 1][year + 1]\n",
    "        if left_profit >= right_profit:\n",
    "            order += 'L'\n",
    "            left += 1\n",
    "        else:\n",
    "            order += 'R'\n",
    "            right -= 1\n",
    "        year += 1\n",
    "    \n",
    "    if left == right:\n",
    "        order += 'X'\n",
    "    \n",
    "    return (order, max_profit)\n"
   ]
  },
  {
   "cell_type": "code",
   "execution_count": 33,
   "id": "7f2e1a1f",
   "metadata": {},
   "outputs": [
    {
     "data": {
      "text/plain": [
       "('LRRLX', 64)"
      ]
     },
     "execution_count": 33,
     "metadata": {},
     "output_type": "execute_result"
    }
   ],
   "source": [
    "teddy([2,4,6,2,5])"
   ]
  },
  {
   "cell_type": "markdown",
   "id": "7f206d00-f24c-48b8-a87f-c3b704e67780",
   "metadata": {},
   "source": [
    "Calculate the result for `teddy(profits)` with `profits = [6, 3, 1, 6, 6, 5, 3, 1, 4, 5]`. The answer is `('RRRRLLLRLX', 237)`."
   ]
  },
  {
   "cell_type": "code",
   "execution_count": 34,
   "id": "b3b5c539",
   "metadata": {},
   "outputs": [
    {
     "data": {
      "text/plain": [
       "True"
      ]
     },
     "execution_count": 34,
     "metadata": {},
     "output_type": "execute_result"
    }
   ],
   "source": [
    "teddy([6, 3, 1, 6, 6, 5, 3, 1, 4, 5])[0] == 'RRRRLLLRLX'"
   ]
  },
  {
   "cell_type": "code",
   "execution_count": null,
   "id": "30479d9f",
   "metadata": {},
   "outputs": [],
   "source": []
  }
 ],
 "metadata": {
  "kernelspec": {
   "display_name": "Python 3 (ipykernel)",
   "language": "python",
   "name": "python3"
  },
  "language_info": {
   "codemirror_mode": {
    "name": "ipython",
    "version": 3
   },
   "file_extension": ".py",
   "mimetype": "text/x-python",
   "name": "python",
   "nbconvert_exporter": "python",
   "pygments_lexer": "ipython3",
   "version": "3.11.8"
  }
 },
 "nbformat": 4,
 "nbformat_minor": 5
}
