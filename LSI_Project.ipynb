{
 "cells": [
  {
   "cell_type": "code",
   "execution_count": 1,
   "metadata": {},
   "outputs": [],
   "source": [
    "import pandas as pd"
   ]
  },
  {
   "cell_type": "code",
   "execution_count": 28,
   "metadata": {},
   "outputs": [
    {
     "name": "stderr",
     "output_type": "stream",
     "text": [
      "/var/folders/m0/hm9km66526j0glr2dndtgmyr0000gn/T/ipykernel_7117/1235671378.py:1: DtypeWarning: Columns (10) have mixed types. Specify dtype option on import or set low_memory=False.\n",
      "  movies_full = pd.read_csv('movies_metadata.csv')\n"
     ]
    }
   ],
   "source": [
    "movies_full = pd.read_csv('movies_metadata.csv')\n",
    "\n"
   ]
  },
  {
   "cell_type": "code",
   "execution_count": 35,
   "metadata": {},
   "outputs": [],
   "source": [
    "movies_full['overview'][32]\n",
    "movies_sub1 = movies_full.dropna(subset= ['overview'])"
   ]
  },
  {
   "cell_type": "code",
   "execution_count": 36,
   "metadata": {},
   "outputs": [
    {
     "ename": "KeyError",
     "evalue": "32",
     "output_type": "error",
     "traceback": [
      "\u001b[0;31m---------------------------------------------------------------------------\u001b[0m",
      "\u001b[0;31mKeyError\u001b[0m                                  Traceback (most recent call last)",
      "File \u001b[0;32m~/anaconda3/lib/python3.11/site-packages/pandas/core/indexes/base.py:3791\u001b[0m, in \u001b[0;36mIndex.get_loc\u001b[0;34m(self, key)\u001b[0m\n\u001b[1;32m   3790\u001b[0m \u001b[38;5;28;01mtry\u001b[39;00m:\n\u001b[0;32m-> 3791\u001b[0m     \u001b[38;5;28;01mreturn\u001b[39;00m \u001b[38;5;28;43mself\u001b[39;49m\u001b[38;5;241;43m.\u001b[39;49m\u001b[43m_engine\u001b[49m\u001b[38;5;241;43m.\u001b[39;49m\u001b[43mget_loc\u001b[49m\u001b[43m(\u001b[49m\u001b[43mcasted_key\u001b[49m\u001b[43m)\u001b[49m\n\u001b[1;32m   3792\u001b[0m \u001b[38;5;28;01mexcept\u001b[39;00m \u001b[38;5;167;01mKeyError\u001b[39;00m \u001b[38;5;28;01mas\u001b[39;00m err:\n",
      "File \u001b[0;32mindex.pyx:152\u001b[0m, in \u001b[0;36mpandas._libs.index.IndexEngine.get_loc\u001b[0;34m()\u001b[0m\n",
      "File \u001b[0;32mindex.pyx:181\u001b[0m, in \u001b[0;36mpandas._libs.index.IndexEngine.get_loc\u001b[0;34m()\u001b[0m\n",
      "File \u001b[0;32mpandas/_libs/hashtable_class_helper.pxi:2606\u001b[0m, in \u001b[0;36mpandas._libs.hashtable.Int64HashTable.get_item\u001b[0;34m()\u001b[0m\n",
      "File \u001b[0;32mpandas/_libs/hashtable_class_helper.pxi:2630\u001b[0m, in \u001b[0;36mpandas._libs.hashtable.Int64HashTable.get_item\u001b[0;34m()\u001b[0m\n",
      "\u001b[0;31mKeyError\u001b[0m: 32",
      "\nThe above exception was the direct cause of the following exception:\n",
      "\u001b[0;31mKeyError\u001b[0m                                  Traceback (most recent call last)",
      "Cell \u001b[0;32mIn[36], line 1\u001b[0m\n\u001b[0;32m----> 1\u001b[0m \u001b[43mmovies_sub1\u001b[49m\u001b[43m[\u001b[49m\u001b[38;5;124;43m'\u001b[39;49m\u001b[38;5;124;43moverview\u001b[39;49m\u001b[38;5;124;43m'\u001b[39;49m\u001b[43m]\u001b[49m\u001b[43m[\u001b[49m\u001b[38;5;241;43m32\u001b[39;49m\u001b[43m]\u001b[49m\n",
      "File \u001b[0;32m~/anaconda3/lib/python3.11/site-packages/pandas/core/series.py:1040\u001b[0m, in \u001b[0;36mSeries.__getitem__\u001b[0;34m(self, key)\u001b[0m\n\u001b[1;32m   1037\u001b[0m     \u001b[38;5;28;01mreturn\u001b[39;00m \u001b[38;5;28mself\u001b[39m\u001b[38;5;241m.\u001b[39m_values[key]\n\u001b[1;32m   1039\u001b[0m \u001b[38;5;28;01melif\u001b[39;00m key_is_scalar:\n\u001b[0;32m-> 1040\u001b[0m     \u001b[38;5;28;01mreturn\u001b[39;00m \u001b[38;5;28;43mself\u001b[39;49m\u001b[38;5;241;43m.\u001b[39;49m\u001b[43m_get_value\u001b[49m\u001b[43m(\u001b[49m\u001b[43mkey\u001b[49m\u001b[43m)\u001b[49m\n\u001b[1;32m   1042\u001b[0m \u001b[38;5;66;03m# Convert generator to list before going through hashable part\u001b[39;00m\n\u001b[1;32m   1043\u001b[0m \u001b[38;5;66;03m# (We will iterate through the generator there to check for slices)\u001b[39;00m\n\u001b[1;32m   1044\u001b[0m \u001b[38;5;28;01mif\u001b[39;00m is_iterator(key):\n",
      "File \u001b[0;32m~/anaconda3/lib/python3.11/site-packages/pandas/core/series.py:1156\u001b[0m, in \u001b[0;36mSeries._get_value\u001b[0;34m(self, label, takeable)\u001b[0m\n\u001b[1;32m   1153\u001b[0m     \u001b[38;5;28;01mreturn\u001b[39;00m \u001b[38;5;28mself\u001b[39m\u001b[38;5;241m.\u001b[39m_values[label]\n\u001b[1;32m   1155\u001b[0m \u001b[38;5;66;03m# Similar to Index.get_value, but we do not fall back to positional\u001b[39;00m\n\u001b[0;32m-> 1156\u001b[0m loc \u001b[38;5;241m=\u001b[39m \u001b[38;5;28;43mself\u001b[39;49m\u001b[38;5;241;43m.\u001b[39;49m\u001b[43mindex\u001b[49m\u001b[38;5;241;43m.\u001b[39;49m\u001b[43mget_loc\u001b[49m\u001b[43m(\u001b[49m\u001b[43mlabel\u001b[49m\u001b[43m)\u001b[49m\n\u001b[1;32m   1158\u001b[0m \u001b[38;5;28;01mif\u001b[39;00m is_integer(loc):\n\u001b[1;32m   1159\u001b[0m     \u001b[38;5;28;01mreturn\u001b[39;00m \u001b[38;5;28mself\u001b[39m\u001b[38;5;241m.\u001b[39m_values[loc]\n",
      "File \u001b[0;32m~/anaconda3/lib/python3.11/site-packages/pandas/core/indexes/base.py:3798\u001b[0m, in \u001b[0;36mIndex.get_loc\u001b[0;34m(self, key)\u001b[0m\n\u001b[1;32m   3793\u001b[0m     \u001b[38;5;28;01mif\u001b[39;00m \u001b[38;5;28misinstance\u001b[39m(casted_key, \u001b[38;5;28mslice\u001b[39m) \u001b[38;5;129;01mor\u001b[39;00m (\n\u001b[1;32m   3794\u001b[0m         \u001b[38;5;28misinstance\u001b[39m(casted_key, abc\u001b[38;5;241m.\u001b[39mIterable)\n\u001b[1;32m   3795\u001b[0m         \u001b[38;5;129;01mand\u001b[39;00m \u001b[38;5;28many\u001b[39m(\u001b[38;5;28misinstance\u001b[39m(x, \u001b[38;5;28mslice\u001b[39m) \u001b[38;5;28;01mfor\u001b[39;00m x \u001b[38;5;129;01min\u001b[39;00m casted_key)\n\u001b[1;32m   3796\u001b[0m     ):\n\u001b[1;32m   3797\u001b[0m         \u001b[38;5;28;01mraise\u001b[39;00m InvalidIndexError(key)\n\u001b[0;32m-> 3798\u001b[0m     \u001b[38;5;28;01mraise\u001b[39;00m \u001b[38;5;167;01mKeyError\u001b[39;00m(key) \u001b[38;5;28;01mfrom\u001b[39;00m \u001b[38;5;21;01merr\u001b[39;00m\n\u001b[1;32m   3799\u001b[0m \u001b[38;5;28;01mexcept\u001b[39;00m \u001b[38;5;167;01mTypeError\u001b[39;00m:\n\u001b[1;32m   3800\u001b[0m     \u001b[38;5;66;03m# If we have a listlike key, _check_indexing_error will raise\u001b[39;00m\n\u001b[1;32m   3801\u001b[0m     \u001b[38;5;66;03m#  InvalidIndexError. Otherwise we fall through and re-raise\u001b[39;00m\n\u001b[1;32m   3802\u001b[0m     \u001b[38;5;66;03m#  the TypeError.\u001b[39;00m\n\u001b[1;32m   3803\u001b[0m     \u001b[38;5;28mself\u001b[39m\u001b[38;5;241m.\u001b[39m_check_indexing_error(key)\n",
      "\u001b[0;31mKeyError\u001b[0m: 32"
     ]
    }
   ],
   "source": [
    "movies_sub1['overview'][32]"
   ]
  },
  {
   "cell_type": "code",
   "execution_count": 37,
   "metadata": {},
   "outputs": [],
   "source": [
    "with open('overview.txt', 'a') as fp:\n",
    "    for i in movies_sub1['overview']:\n",
    "        fp.write(i+ '\\n')\n"
   ]
  },
  {
   "cell_type": "code",
   "execution_count": 43,
   "metadata": {},
   "outputs": [
    {
     "data": {
      "text/plain": [
       "\"Led by Woody, Andy's toys live happily in his room until Andy's birthday brings Buzz Lightyear onto the scene. Afraid of losing his place in Andy's heart, Woody plots against Buzz. But when circumstances separate Buzz and Woody from their owner, the duo eventually learns to put aside their differences.\\n\""
      ]
     },
     "execution_count": 43,
     "metadata": {},
     "output_type": "execute_result"
    }
   ],
   "source": [
    "with open('overview.txt', 'r') as fp:\n",
    "    k = fp.readlines()\n"
   ]
  },
  {
   "cell_type": "code",
   "execution_count": 71,
   "metadata": {},
   "outputs": [
    {
     "data": {
      "text/plain": [
       "False"
      ]
     },
     "execution_count": 71,
     "metadata": {},
     "output_type": "execute_result"
    }
   ],
   "source": [
    "o = ':'\n",
    "o.isalpha()"
   ]
  },
  {
   "cell_type": "code",
   "execution_count": 60,
   "metadata": {},
   "outputs": [
    {
     "data": {
      "text/plain": [
       "False"
      ]
     },
     "execution_count": 60,
     "metadata": {},
     "output_type": "execute_result"
    }
   ],
   "source": [
    "char_lst = list(range(65,91)) + list(range(97,123))\n",
    "ord('A') not in char_lst"
   ]
  },
  {
   "cell_type": "code",
   "execution_count": 95,
   "metadata": {},
   "outputs": [],
   "source": [
    "lst1 = []\n",
    "for i in k:\n",
    "    word = ''\n",
    "    for l in i:\n",
    "        if l == ' ':\n",
    "            lst1.append(word)\n",
    "            word = ''\n",
    "        elif l.isalpha():\n",
    "            word += l.lower() \n",
    "        else:\n",
    "            pass\n",
    "    lst1.append(word)\n",
    "    lst1\n",
    "\n",
    "\n",
    "dict_word = {}\n",
    "for m in lst1:\n",
    "    if m in dict_word:\n",
    "        dict_word[m] += 1\n",
    "    else:\n",
    "        dict_word[m] = 1\n",
    "sorted_tup = sorted(dict_word.items(), key= lambda x: x[1],reverse=True)"
   ]
  },
  {
   "cell_type": "code",
   "execution_count": 102,
   "metadata": {},
   "outputs": [
    {
     "data": {
      "text/plain": [
       "{'the': 138474,\n",
       " 'a': 99057,\n",
       " 'and': 75413,\n",
       " 'to': 73447,\n",
       " 'of': 69725,\n",
       " 'in': 48235,\n",
       " 'is': 36553,\n",
       " 'his': 36212,\n",
       " 'with': 23934,\n",
       " 'her': 21523,\n",
       " 'he': 20501,\n",
       " '': 18388,\n",
       " 'for': 18366,\n",
       " 'on': 17470,\n",
       " 'an': 16808,\n",
       " 'by': 15806,\n",
       " 'that': 15404,\n",
       " 'as': 14756,\n",
       " 'who': 14408,\n",
       " 'their': 13175,\n",
       " 'from': 12542,\n",
       " 'but': 11066,\n",
       " 'when': 10799,\n",
       " 'they': 10140,\n",
       " 'she': 9692,\n",
       " 'has': 9495,\n",
       " 'are': 9024,\n",
       " 'at': 8787,\n",
       " 'him': 8359,\n",
       " 'life': 7424,\n",
       " 'this': 7374,\n",
       " 'it': 7246,\n",
       " 'one': 7230,\n",
       " 'into': 6690,\n",
       " 'young': 6410,\n",
       " 'after': 6384,\n",
       " 'up': 5975,\n",
       " 'out': 5966,\n",
       " 'film': 5774,\n",
       " 'be': 5684,\n",
       " 'new': 5576,\n",
       " 'about': 5152,\n",
       " 'two': 5140,\n",
       " 'love': 5123,\n",
       " 'man': 5100,\n",
       " 'all': 4643,\n",
       " 'story': 4552,\n",
       " 'family': 4477,\n",
       " 'have': 4472,\n",
       " 'them': 4465,\n",
       " 'world': 4311,\n",
       " 'was': 4148,\n",
       " 'will': 4146,\n",
       " 'not': 3692,\n",
       " 'find': 3581,\n",
       " 'only': 3519,\n",
       " 'years': 3449,\n",
       " 'which': 3448,\n",
       " 'woman': 3368,\n",
       " 'its': 3362,\n",
       " 'time': 3268,\n",
       " 'while': 3200,\n",
       " 'where': 3153,\n",
       " 'get': 3030,\n",
       " 'father': 2861,\n",
       " 'finds': 2842,\n",
       " 'can': 2773,\n",
       " 'back': 2755,\n",
       " 'friends': 2744,\n",
       " 'first': 2742,\n",
       " 'lives': 2711,\n",
       " 'what': 2701,\n",
       " 'more': 2671,\n",
       " 'other': 2653,\n",
       " 'through': 2649,\n",
       " 'must': 2617,\n",
       " 'war': 2613,\n",
       " 'wife': 2604,\n",
       " 'girl': 2586,\n",
       " 'old': 2576,\n",
       " 'home': 2562,\n",
       " 'own': 2555,\n",
       " 'been': 2477,\n",
       " 'town': 2438,\n",
       " 'way': 2417,\n",
       " 'over': 2376,\n",
       " 'between': 2354,\n",
       " 'help': 2308,\n",
       " 'so': 2305,\n",
       " 'school': 2304,\n",
       " 'during': 2295,\n",
       " 'takes': 2292,\n",
       " 'day': 2281,\n",
       " 'people': 2265,\n",
       " 'or': 2230,\n",
       " 'becomes': 2224,\n",
       " 'himself': 2216,\n",
       " 'three': 2206,\n",
       " 'most': 2172,\n",
       " 'take': 2158,\n",
       " 'mother': 2157,\n",
       " 'now': 2133,\n",
       " 'son': 2133,\n",
       " 'being': 2121,\n",
       " 'also': 2102,\n",
       " 'no': 2095,\n",
       " 'before': 2074,\n",
       " 'daughter': 2051,\n",
       " 'friend': 2051,\n",
       " 'death': 2047,\n",
       " 'group': 2040,\n",
       " 'make': 2027,\n",
       " 'some': 2025,\n",
       " 'off': 2017,\n",
       " 'soon': 2015,\n",
       " 'just': 2000,\n",
       " 'there': 1965,\n",
       " 'gets': 1955,\n",
       " 'set': 1948,\n",
       " 'city': 1941,\n",
       " 'against': 1869,\n",
       " 'together': 1854,\n",
       " 'then': 1853,\n",
       " 'each': 1795,\n",
       " 'go': 1778,\n",
       " 'men': 1777,\n",
       " 'down': 1765,\n",
       " 'become': 1762,\n",
       " 'american': 1744,\n",
       " 's': 1726,\n",
       " 'meets': 1710,\n",
       " 'than': 1665,\n",
       " 'small': 1659,\n",
       " 'police': 1650,\n",
       " 'house': 1649,\n",
       " 'begins': 1647,\n",
       " 'work': 1628,\n",
       " 'documentary': 1623,\n",
       " 'goes': 1614,\n",
       " 'night': 1604,\n",
       " 'both': 1593,\n",
       " 'how': 1590,\n",
       " 'falls': 1589,\n",
       " 'boy': 1533,\n",
       " 'hes': 1528,\n",
       " 'comes': 1518,\n",
       " 'best': 1497,\n",
       " 'do': 1480,\n",
       " 'even': 1475,\n",
       " 'however': 1474,\n",
       " 'living': 1469,\n",
       " 'murder': 1458,\n",
       " 'husband': 1456,\n",
       " 'tries': 1450,\n",
       " 'movie': 1440,\n",
       " 'local': 1433,\n",
       " 'year': 1432,\n",
       " 'live': 1423,\n",
       " 'based': 1419,\n",
       " 'around': 1413,\n",
       " 'like': 1401,\n",
       " 'decides': 1399,\n",
       " 'wants': 1396,\n",
       " 'mysterious': 1367,\n",
       " 'job': 1365,\n",
       " 'high': 1363,\n",
       " 'money': 1360,\n",
       " 'true': 1348,\n",
       " 'very': 1342,\n",
       " 'brother': 1338,\n",
       " 'women': 1337,\n",
       " 'discovers': 1332,\n",
       " 'beautiful': 1330,\n",
       " 'york': 1309,\n",
       " 'named': 1301,\n",
       " 'secret': 1298,\n",
       " 'past': 1291,\n",
       " 'former': 1287,\n",
       " 'relationship': 1285,\n",
       " 'come': 1283,\n",
       " 'had': 1278,\n",
       " 'another': 1277,\n",
       " 'until': 1258,\n",
       " 'if': 1256,\n",
       " 'little': 1237,\n",
       " 'children': 1227,\n",
       " 'team': 1221,\n",
       " 'last': 1218,\n",
       " 'away': 1204,\n",
       " 'comedy': 1203,\n",
       " 'whose': 1196,\n",
       " 'turns': 1195,\n",
       " 'order': 1194,\n",
       " 'save': 1183,\n",
       " 'us': 1180,\n",
       " 'journey': 1171,\n",
       " 'end': 1159,\n",
       " 'things': 1137,\n",
       " 'place': 1135,\n",
       " 'parents': 1133,\n",
       " 'tells': 1132,\n",
       " 'same': 1131,\n",
       " 'series': 1131,\n",
       " 'later': 1124,\n",
       " 'dead': 1109,\n",
       " 'gang': 1090,\n",
       " 'follows': 1087,\n",
       " 'four': 1068,\n",
       " 'many': 1065,\n",
       " 'never': 1062,\n",
       " 'country': 1057,\n",
       " 'themselves': 1047,\n",
       " 'trying': 1046,\n",
       " 'couple': 1044,\n",
       " 'real': 1040,\n",
       " 'returns': 1039,\n",
       " 'long': 1039,\n",
       " 'sister': 1038,\n",
       " 'along': 1032,\n",
       " 'fight': 1032,\n",
       " 'well': 1031,\n",
       " 'were': 1031,\n",
       " 'village': 1029,\n",
       " 'forced': 1025,\n",
       " 'under': 1025,\n",
       " 'married': 1022,\n",
       " 'big': 1012,\n",
       " 'john': 1010,\n",
       " 'director': 1000,\n",
       " 'these': 998,\n",
       " 'meet': 995,\n",
       " 'makes': 992,\n",
       " 'behind': 990,\n",
       " 'crime': 989,\n",
       " 'once': 986,\n",
       " 'evil': 981,\n",
       " 'does': 980,\n",
       " 'killer': 977,\n",
       " 'you': 976,\n",
       " 'herself': 973,\n",
       " 'left': 962,\n",
       " 'escape': 952,\n",
       " 'prison': 951,\n",
       " 'starts': 950,\n",
       " 'show': 948,\n",
       " 'music': 944,\n",
       " 'may': 937,\n",
       " 'good': 933,\n",
       " 'killed': 933,\n",
       " 'discover': 923,\n",
       " 'days': 923,\n",
       " 'again': 916,\n",
       " 'star': 916,\n",
       " 'turn': 913,\n",
       " 'made': 912,\n",
       " 'yearold': 912,\n",
       " 'girlfriend': 912,\n",
       " 'black': 908,\n",
       " 'girls': 907,\n",
       " 'too': 904,\n",
       " 'still': 904,\n",
       " 'everything': 903,\n",
       " 'face': 900,\n",
       " 'child': 895,\n",
       " 'part': 894,\n",
       " 'much': 893,\n",
       " 'try': 893,\n",
       " 'we': 891,\n",
       " 'stop': 890,\n",
       " 'marriage': 886,\n",
       " 'human': 883,\n",
       " 'battle': 878,\n",
       " 'events': 875,\n",
       " 'run': 870,\n",
       " 'found': 869,\n",
       " 'because': 868,\n",
       " 'business': 865,\n",
       " 'see': 860,\n",
       " 'lost': 857,\n",
       " 'every': 857,\n",
       " 'power': 856,\n",
       " 'great': 855,\n",
       " 'student': 854,\n",
       " 'having': 852,\n",
       " 'doesnt': 847,\n",
       " 'island': 847,\n",
       " 'working': 838,\n",
       " 'leads': 834,\n",
       " 'start': 834,\n",
       " 'would': 830,\n",
       " 'dreams': 830,\n",
       " 'army': 827,\n",
       " 'going': 826,\n",
       " 'seems': 817,\n",
       " 'including': 817,\n",
       " 'car': 815,\n",
       " 'shes': 811,\n",
       " 'college': 811,\n",
       " 'earth': 810,\n",
       " 'look': 805,\n",
       " 'search': 801,\n",
       " 'called': 801,\n",
       " 'history': 799,\n",
       " 'return': 796,\n",
       " 'future': 794,\n",
       " 'without': 790,\n",
       " 'know': 789,\n",
       " 'game': 787,\n",
       " 'revenge': 785,\n",
       " 'different': 784,\n",
       " 'ever': 784,\n",
       " 'keep': 776,\n",
       " 'brothers': 776,\n",
       " 'play': 773,\n",
       " 'fall': 773,\n",
       " 'th': 772,\n",
       " 'known': 770,\n",
       " 'career': 767,\n",
       " 'head': 766,\n",
       " 'band': 766,\n",
       " 'mission': 765,\n",
       " 'next': 764,\n",
       " 'french': 764,\n",
       " 'sent': 763,\n",
       " 'boys': 759,\n",
       " 'decide': 757,\n",
       " 'since': 756,\n",
       " 'any': 755,\n",
       " 'dr': 749,\n",
       " 'kill': 745,\n",
       " 'across': 743,\n",
       " 'agent': 742,\n",
       " 'plan': 740,\n",
       " 'works': 739,\n",
       " 'leave': 739,\n",
       " 'upon': 737,\n",
       " 'british': 736,\n",
       " 'strange': 732,\n",
       " 'those': 730,\n",
       " 'finally': 726,\n",
       " 'begin': 722,\n",
       " 'something': 719,\n",
       " 'trip': 719,\n",
       " 'detective': 717,\n",
       " 'drama': 716,\n",
       " 'special': 716,\n",
       " 'put': 715,\n",
       " 'forces': 715,\n",
       " 'five': 713,\n",
       " 'king': 712,\n",
       " 'company': 709,\n",
       " 'tale': 708,\n",
       " 'rich': 705,\n",
       " 'de': 703,\n",
       " 'stories': 701,\n",
       " 'films': 698,\n",
       " 'personal': 698,\n",
       " 'several': 697,\n",
       " 'sets': 697,\n",
       " 'case': 697,\n",
       " 'attempt': 696,\n",
       " 'party': 696,\n",
       " 'leaves': 694,\n",
       " 'could': 689,\n",
       " 'learns': 688,\n",
       " 'change': 686,\n",
       " 'famous': 685,\n",
       " 'whom': 683,\n",
       " 'involved': 683,\n",
       " 'making': 682,\n",
       " 'paris': 680,\n",
       " 'land': 679,\n",
       " 'dark': 671,\n",
       " 'chance': 668,\n",
       " 'heart': 665,\n",
       " 'bring': 664,\n",
       " 'drug': 663,\n",
       " 'body': 661,\n",
       " 'doctor': 654,\n",
       " 'dream': 650,\n",
       " 'white': 649,\n",
       " 'summer': 648,\n",
       " 'few': 648,\n",
       " 'our': 645,\n",
       " 'taken': 644,\n",
       " 'christmas': 642,\n",
       " 'name': 641,\n",
       " 'wealthy': 640,\n",
       " 'century': 639,\n",
       " 'government': 632,\n",
       " 'lead': 631,\n",
       " 'sex': 628,\n",
       " 'plans': 627,\n",
       " 'friendship': 623,\n",
       " 'stars': 623,\n",
       " 'accident': 621,\n",
       " 'south': 620,\n",
       " 'crew': 619,\n",
       " 'dangerous': 619,\n",
       " 'though': 610,\n",
       " 'america': 610,\n",
       " 'officer': 605,\n",
       " 'others': 604,\n",
       " 'everyone': 604,\n",
       " 'early': 604,\n",
       " 'childhood': 603,\n",
       " 'murdered': 603,\n",
       " 'teacher': 602,\n",
       " 'taking': 602,\n",
       " 'boss': 601,\n",
       " 'attempts': 599,\n",
       " 'owner': 598,\n",
       " 'political': 598,\n",
       " 'moves': 598,\n",
       " 'characters': 594,\n",
       " 'always': 593,\n",
       " 'shows': 592,\n",
       " 'teenage': 592,\n",
       " 'london': 591,\n",
       " 'yet': 589,\n",
       " 'students': 588,\n",
       " 'eventually': 587,\n",
       " 'arrives': 587,\n",
       " 'looking': 587,\n",
       " 'road': 586,\n",
       " 'use': 586,\n",
       " 'ends': 586,\n",
       " 'affair': 586,\n",
       " 'boyfriend': 584,\n",
       " 'late': 584,\n",
       " 'want': 581,\n",
       " 'getting': 579,\n",
       " 'plot': 578,\n",
       " 'fathers': 577,\n",
       " 'cant': 574,\n",
       " 'directed': 573,\n",
       " 'book': 570,\n",
       " 'race': 569,\n",
       " 'leader': 568,\n",
       " 'really': 568,\n",
       " 'nothing': 568,\n",
       " 'truth': 568,\n",
       " 'suddenly': 567,\n",
       " 'second': 567,\n",
       " 'age': 567,\n",
       " 'lover': 566,\n",
       " 'david': 566,\n",
       " 'powerful': 564,\n",
       " 'control': 561,\n",
       " 'written': 559,\n",
       " 'jack': 559,\n",
       " 'bad': 557,\n",
       " 'quickly': 557,\n",
       " 'german': 556,\n",
       " 'apartment': 555,\n",
       " 'female': 549,\n",
       " 'killing': 549,\n",
       " 'give': 549,\n",
       " 'determined': 548,\n",
       " 'romance': 547,\n",
       " 'society': 544,\n",
       " 'adventure': 544,\n",
       " 'alone': 544,\n",
       " 'novel': 543,\n",
       " 'marry': 541,\n",
       " 'criminal': 541,\n",
       " 'force': 540,\n",
       " 'kids': 540,\n",
       " 'successful': 538,\n",
       " 'community': 538,\n",
       " 'following': 538,\n",
       " 'james': 537,\n",
       " 'such': 536,\n",
       " 'learn': 536,\n",
       " 'artist': 535,\n",
       " 'despite': 532,\n",
       " 'reality': 531,\n",
       " 'michael': 529,\n",
       " 'plays': 527,\n",
       " 'train': 527,\n",
       " 'brings': 526,\n",
       " 'rock': 526,\n",
       " 'deadly': 524,\n",
       " 'using': 523,\n",
       " 'move': 522,\n",
       " 'stay': 522,\n",
       " 'deal': 520,\n",
       " 'military': 519,\n",
       " 'runs': 519,\n",
       " 'meanwhile': 518,\n",
       " 'short': 518,\n",
       " 'cop': 515,\n",
       " 'romantic': 515,\n",
       " 'win': 514,\n",
       " 'free': 514,\n",
       " 'street': 514,\n",
       " 'whos': 512,\n",
       " 'right': 512,\n",
       " 'struggle': 512,\n",
       " 'action': 511,\n",
       " 'baby': 511,\n",
       " 'survive': 511,\n",
       " 'side': 510,\n",
       " 'trouble': 509,\n",
       " 'missing': 506,\n",
       " 'problems': 506,\n",
       " 'art': 506,\n",
       " 'japanese': 506,\n",
       " 'form': 503,\n",
       " 'final': 502,\n",
       " 'russian': 502,\n",
       " 'close': 502,\n",
       " 'rescue': 500,\n",
       " 'bank': 498,\n",
       " 'caught': 498,\n",
       " 'led': 497,\n",
       " 'released': 497,\n",
       " 'course': 496,\n",
       " 'inside': 495,\n",
       " 'tv': 494,\n",
       " 'los': 489,\n",
       " 'violent': 488,\n",
       " 'shot': 488,\n",
       " 'worlds': 487,\n",
       " 'gives': 487,\n",
       " 'social': 486,\n",
       " 'writer': 486,\n",
       " 'within': 484,\n",
       " 'modern': 484,\n",
       " 'soldiers': 484,\n",
       " 'sees': 484,\n",
       " 'join': 482,\n",
       " 'members': 481,\n",
       " 'paul': 481,\n",
       " 'west': 480,\n",
       " 'visit': 477,\n",
       " 'footage': 477,\n",
       " 'dies': 475,\n",
       " 'top': 475,\n",
       " 'hands': 475,\n",
       " 'middle': 474,\n",
       " 'classic': 471,\n",
       " 'sexual': 471,\n",
       " 'la': 470,\n",
       " 'hit': 470,\n",
       " 'break': 469,\n",
       " 'far': 468,\n",
       " 'wrong': 468,\n",
       " 'changes': 467,\n",
       " 'captain': 467,\n",
       " 'among': 467,\n",
       " 'tom': 466,\n",
       " 'i': 466,\n",
       " 'musical': 466,\n",
       " 'ii': 465,\n",
       " 'struggles': 463,\n",
       " 'full': 463,\n",
       " 'knows': 462,\n",
       " 'popular': 462,\n",
       " 'perfect': 462,\n",
       " 'hope': 459,\n",
       " 'enough': 459,\n",
       " 'master': 458,\n",
       " 'angeles': 458,\n",
       " 'professor': 458,\n",
       " 'hospital': 457,\n",
       " 'camp': 457,\n",
       " 'single': 456,\n",
       " 'dog': 455,\n",
       " 'state': 452,\n",
       " 'legendary': 450,\n",
       " 'partner': 449,\n",
       " 'mr': 447,\n",
       " 'space': 447,\n",
       " 'remote': 447,\n",
       " 'instead': 446,\n",
       " 'wild': 445,\n",
       " 'guy': 445,\n",
       " 'wedding': 443,\n",
       " 'mind': 442,\n",
       " 'care': 442,\n",
       " 'loves': 440,\n",
       " 'desperate': 438,\n",
       " 'planet': 437,\n",
       " 'interviews': 437,\n",
       " 'unexpected': 437,\n",
       " 'singer': 436,\n",
       " 'hotel': 436,\n",
       " 'room': 433,\n",
       " 'older': 433,\n",
       " 'france': 433,\n",
       " 'george': 431,\n",
       " 'hard': 431,\n",
       " 'major': 431,\n",
       " 'mystery': 429,\n",
       " 'told': 429,\n",
       " 'class': 428,\n",
       " 'robert': 427,\n",
       " 'travels': 427,\n",
       " 'person': 427,\n",
       " 'hollywood': 426,\n",
       " 'united': 425,\n",
       " 'might': 425,\n",
       " 'suicide': 425,\n",
       " 'fellow': 424,\n",
       " 'filmmaker': 424,\n",
       " 'six': 423,\n",
       " 'identity': 422,\n",
       " 'attack': 422,\n",
       " 'private': 422,\n",
       " 'travel': 422,\n",
       " 'protect': 421,\n",
       " 'leading': 421,\n",
       " 'follow': 421,\n",
       " 'fighting': 421,\n",
       " 'states': 420,\n",
       " 'uses': 420,\n",
       " 'various': 419,\n",
       " 'poor': 419,\n",
       " 'international': 418,\n",
       " 'given': 418,\n",
       " 'happy': 418,\n",
       " 'quest': 417,\n",
       " 'scientist': 417,\n",
       " 'realizes': 417,\n",
       " 'times': 417,\n",
       " 'law': 417,\n",
       " 'needs': 417,\n",
       " 'leaving': 416,\n",
       " 'role': 415,\n",
       " 'joe': 414,\n",
       " 'why': 414,\n",
       " 'ship': 414,\n",
       " 'gold': 414,\n",
       " 'seen': 413,\n",
       " 'becoming': 412,\n",
       " 'call': 411,\n",
       " 'italian': 410,\n",
       " 'ago': 410,\n",
       " 'hero': 409,\n",
       " 'spirit': 408,\n",
       " 'turned': 407,\n",
       " 'believes': 407,\n",
       " 'struggling': 407,\n",
       " 'experience': 406,\n",
       " 'deep': 404,\n",
       " 'ancient': 403,\n",
       " 'better': 403,\n",
       " 'frank': 400,\n",
       " 'peter': 399,\n",
       " 'dont': 399,\n",
       " 'violence': 398,\n",
       " 'uncle': 397,\n",
       " 'looks': 396,\n",
       " 'north': 396,\n",
       " 'thing': 396,\n",
       " 'near': 394,\n",
       " 'stage': 391,\n",
       " 'sea': 390,\n",
       " 'murders': 390,\n",
       " 'desert': 389,\n",
       " 'anything': 388,\n",
       " 'horror': 388,\n",
       " 'success': 388,\n",
       " 'situation': 388,\n",
       " 'younger': 388,\n",
       " 'streets': 388,\n",
       " 'appears': 387,\n",
       " 'accidentally': 387,\n",
       " 'although': 386,\n",
       " 'someone': 385,\n",
       " 'pair': 385,\n",
       " 'brought': 384,\n",
       " 'blood': 383,\n",
       " 'ways': 383,\n",
       " 'thinks': 383,\n",
       " 'original': 383,\n",
       " 'building': 382,\n",
       " 'abandoned': 381,\n",
       " 'sam': 381,\n",
       " 'able': 380,\n",
       " 'act': 380,\n",
       " 'mans': 380,\n",
       " 'farm': 378,\n",
       " 'sisters': 377,\n",
       " 'serial': 374,\n",
       " 'spend': 374,\n",
       " 'happens': 373,\n",
       " 'hell': 372,\n",
       " 'gay': 372,\n",
       " 'fate': 371,\n",
       " 'investigate': 370,\n",
       " 'indian': 369,\n",
       " 'scene': 368,\n",
       " 'pregnant': 368,\n",
       " 'hopes': 368,\n",
       " 'trapped': 367,\n",
       " 'encounter': 367,\n",
       " 'your': 367,\n",
       " 'destroy': 366,\n",
       " 'public': 366,\n",
       " 'seeks': 366,\n",
       " 'feature': 366,\n",
       " 'mary': 365,\n",
       " 'amp': 364,\n",
       " 'station': 363,\n",
       " 'alien': 362,\n",
       " 'alive': 361,\n",
       " 'secrets': 360,\n",
       " 'forever': 360,\n",
       " 'point': 359,\n",
       " 'hand': 359,\n",
       " 'entire': 358,\n",
       " 'prove': 357,\n",
       " 'encounters': 357,\n",
       " 'coming': 356,\n",
       " 'outside': 356,\n",
       " 'english': 356,\n",
       " 'charlie': 356,\n",
       " 'due': 355,\n",
       " 'asks': 355,\n",
       " 'tour': 354,\n",
       " 'actor': 353,\n",
       " 'isnt': 353,\n",
       " 'character': 353,\n",
       " 'california': 352,\n",
       " 'sons': 351,\n",
       " 'investigation': 351,\n",
       " 'whole': 351,\n",
       " 'kidnapped': 350,\n",
       " 'england': 349,\n",
       " 'present': 349,\n",
       " 'offers': 349,\n",
       " 'almost': 348,\n",
       " 'theyre': 348,\n",
       " 'stolen': 348,\n",
       " 'hidden': 348,\n",
       " 'lawyer': 347,\n",
       " 'used': 347,\n",
       " 'cast': 346,\n",
       " 'playing': 346,\n",
       " 'richard': 345,\n",
       " 'prince': 345,\n",
       " 'realize': 345,\n",
       " 'front': 345,\n",
       " 'actress': 344,\n",
       " 'rise': 344,\n",
       " 'teenager': 344,\n",
       " 'soldier': 343,\n",
       " 'loses': 343,\n",
       " 'rival': 341,\n",
       " 'escapes': 341,\n",
       " 'queen': 341,\n",
       " 'president': 340,\n",
       " 'apart': 340,\n",
       " 'bill': 340,\n",
       " 'food': 340,\n",
       " 'share': 340,\n",
       " 'civil': 339,\n",
       " 'played': 338,\n",
       " 'lonely': 337,\n",
       " 'adventures': 336,\n",
       " 'fact': 336,\n",
       " 'died': 336,\n",
       " 'believe': 336,\n",
       " 'helps': 336,\n",
       " 'victims': 336,\n",
       " 'need': 335,\n",
       " 'henry': 335,\n",
       " 'actually': 335,\n",
       " 'hired': 334,\n",
       " 'drugs': 334,\n",
       " 'born': 334,\n",
       " 'red': 334,\n",
       " 'means': 333,\n",
       " 'seven': 333,\n",
       " 'enemy': 333,\n",
       " 'track': 333,\n",
       " 'comic': 332,\n",
       " 'water': 330,\n",
       " 'problem': 330,\n",
       " 'feels': 330,\n",
       " 'joins': 329,\n",
       " 'beauty': 329,\n",
       " 'die': 329,\n",
       " 'troubled': 328,\n",
       " 'pay': 328,\n",
       " 'families': 328,\n",
       " 'princess': 327,\n",
       " 'television': 327,\n",
       " 'store': 326,\n",
       " 'daughters': 325,\n",
       " 'professional': 325,\n",
       " 'cannot': 325,\n",
       " 'brutal': 325,\n",
       " 'rest': 324,\n",
       " 'video': 324,\n",
       " 'driver': 324,\n",
       " 'reporter': 324,\n",
       " 'lady': 323,\n",
       " 'seemingly': 323,\n",
       " 'growing': 323,\n",
       " 'tell': 323,\n",
       " 'large': 321,\n",
       " 'alex': 321,\n",
       " 'eyes': 321,\n",
       " 'dance': 321,\n",
       " 'jim': 320,\n",
       " 'theres': 320,\n",
       " 'stand': 320,\n",
       " 'finding': 319,\n",
       " 'culture': 319,\n",
       " 'thriller': 318,\n",
       " 'greatest': 318,\n",
       " 'justice': 318,\n",
       " 'mothers': 318,\n",
       " 'fear': 318,\n",
       " 'became': 318,\n",
       " 'faces': 317,\n",
       " 'gangster': 317,\n",
       " 'nature': 317,\n",
       " 'magic': 317,\n",
       " 'chinese': 317,\n",
       " 'kills': 317,\n",
       " 'months': 316,\n",
       " 'got': 316,\n",
       " 'youth': 316,\n",
       " 'freedom': 315,\n",
       " 'news': 315,\n",
       " 'idea': 315,\n",
       " 'victim': 315,\n",
       " 'lot': 315,\n",
       " 'club': 315,\n",
       " 'recently': 315,\n",
       " 'eve': 314,\n",
       " 'lee': 314,\n",
       " 'member': 314,\n",
       " 'east': 313,\n",
       " 'running': 312,\n",
       " 'mike': 312,\n",
       " 'stranger': 312,\n",
       " 'breaks': 312,\n",
       " 'martin': 312,\n",
       " 'ruthless': 310,\n",
       " 'haunted': 310,\n",
       " 'powers': 309,\n",
       " 'line': 309,\n",
       " 'general': 309,\n",
       " 'million': 308,\n",
       " 'nazi': 307,\n",
       " 'lord': 306,\n",
       " 'national': 306,\n",
       " 'university': 304,\n",
       " 'beyond': 304,\n",
       " 'holiday': 302,\n",
       " 'ultimately': 302,\n",
       " 'often': 302,\n",
       " 'tragedy': 302,\n",
       " 'project': 301,\n",
       " 'question': 301,\n",
       " 'already': 301,\n",
       " 'unique': 300,\n",
       " 'moving': 300,\n",
       " 'ten': 299,\n",
       " 'relationships': 299,\n",
       " 'figure': 299,\n",
       " 'park': 298,\n",
       " 'starring': 297,\n",
       " 'dying': 297,\n",
       " 'experiences': 296,\n",
       " 'fortune': 296,\n",
       " 'steal': 295,\n",
       " 'process': 295,\n",
       " 'hunt': 295,\n",
       " 'puts': 295,\n",
       " 'meeting': 295,\n",
       " 'open': 294,\n",
       " 'met': 294,\n",
       " 'god': 294,\n",
       " 'test': 294,\n",
       " 'kid': 293,\n",
       " 'sends': 293,\n",
       " 'rather': 293,\n",
       " 'important': 293,\n",
       " 'criminals': 293,\n",
       " 'tragic': 292,\n",
       " 'simple': 292,\n",
       " 'eye': 292,\n",
       " 'existence': 292,\n",
       " 'portrait': 291,\n",
       " 'suspect': 291,\n",
       " 'beloved': 291,\n",
       " 'kind': 290,\n",
       " 'peace': 290,\n",
       " 'weekend': 290,\n",
       " 'innocent': 289,\n",
       " 'passion': 289,\n",
       " 'filmed': 289,\n",
       " 'fun': 289,\n",
       " 'unknown': 289,\n",
       " 'complicated': 288,\n",
       " 'crisis': 288,\n",
       " 'handsome': 288,\n",
       " 'germany': 288,\n",
       " 'explores': 288,\n",
       " 'else': 287,\n",
       " 'falling': 287,\n",
       " 'epic': 286,\n",
       " 'harry': 286,\n",
       " 'monster': 286,\n",
       " 'businessman': 286,\n",
       " 'danger': 286,\n",
       " 'nick': 286,\n",
       " 'journalist': 286,\n",
       " 'china': 285,\n",
       " 'seem': 285,\n",
       " 'system': 284,\n",
       " 'did': 284,\n",
       " 'familys': 284,\n",
       " 'san': 283,\n",
       " 'refuses': 283,\n",
       " 'soviet': 283,\n",
       " 'mexico': 282,\n",
       " 'vacation': 282,\n",
       " 'mark': 282,\n",
       " 'beginning': 282,\n",
       " 'should': 282,\n",
       " 'accused': 281,\n",
       " 'drawn': 281,\n",
       " 'third': 281,\n",
       " 'unable': 281,\n",
       " 'japan': 281,\n",
       " 'grows': 280,\n",
       " 'legend': 280,\n",
       " 'teen': 280,\n",
       " 'manager': 279,\n",
       " 'security': 279,\n",
       " 'number': 279,\n",
       " 'underground': 278,\n",
       " 'inspired': 278,\n",
       " 'survival': 278,\n",
       " 'causes': 278,\n",
       " 'doing': 277,\n",
       " 'threatens': 277,\n",
       " 'corrupt': 277,\n",
       " 'bizarre': 277,\n",
       " 'bond': 276,\n",
       " 'unfortunately': 276,\n",
       " 'difficult': 276,\n",
       " 'europe': 276,\n",
       " 'service': 275,\n",
       " 'mob': 275,\n",
       " 'notorious': 274,\n",
       " 'memories': 274,\n",
       " 'rural': 274,\n",
       " 'cat': 274,\n",
       " 'jail': 274,\n",
       " 'unlikely': 274,\n",
       " 'texas': 273,\n",
       " 'gone': 273,\n",
       " 'mountain': 273,\n",
       " 'production': 272,\n",
       " 'slowly': 272,\n",
       " 'movies': 272,\n",
       " 'fights': 272,\n",
       " 'office': 272,\n",
       " 'hot': 271,\n",
       " 'mental': 271,\n",
       " 'charles': 271,\n",
       " 'sheriff': 271,\n",
       " 'increasingly': 270,\n",
       " 'anyone': 270,\n",
       " 'hours': 270,\n",
       " 'western': 270,\n",
       " 'discovered': 270,\n",
       " 'reveals': 270,\n",
       " 'losing': 269,\n",
       " 'william': 269,\n",
       " 'thought': 269,\n",
       " 'thomas': 269,\n",
       " 'lies': 269,\n",
       " 'tough': 269,\n",
       " 'air': 269,\n",
       " 'main': 269,\n",
       " 'max': 268,\n",
       " 'hilarious': 268,\n",
       " 'forest': 268,\n",
       " 'door': 267,\n",
       " 'feelings': 267,\n",
       " 'calls': 267,\n",
       " 'court': 267,\n",
       " 'anna': 267,\n",
       " 'create': 267,\n",
       " 'whether': 267,\n",
       " 'light': 267,\n",
       " 'arts': 267,\n",
       " 'lovers': 266,\n",
       " 'agrees': 266,\n",
       " 'jewish': 266,\n",
       " 'shop': 265,\n",
       " ...}"
      ]
     },
     "execution_count": 102,
     "metadata": {},
     "output_type": "execute_result"
    }
   ],
   "source": [
    "new_dict = {}\n",
    "for i in sorted_tup:\n",
    "    new_dict[i[0]] = i[1]\n",
    "new_dict"
   ]
  },
  {
   "cell_type": "code",
   "execution_count": 96,
   "metadata": {},
   "outputs": [
    {
     "data": {
      "text/plain": [
       "90011"
      ]
     },
     "execution_count": 96,
     "metadata": {},
     "output_type": "execute_result"
    }
   ],
   "source": [
    "len(sorted_tup)"
   ]
  },
  {
   "cell_type": "code",
   "execution_count": 81,
   "metadata": {},
   "outputs": [
    {
     "data": {
      "text/plain": [
       "1"
      ]
     },
     "execution_count": 81,
     "metadata": {},
     "output_type": "execute_result"
    }
   ],
   "source": [
    "dict_word['led'] \n"
   ]
  },
  {
   "cell_type": "code",
   "execution_count": 82,
   "metadata": {},
   "outputs": [
    {
     "data": {
      "text/plain": [
       "True"
      ]
     },
     "execution_count": 82,
     "metadata": {},
     "output_type": "execute_result"
    }
   ],
   "source": [
    "'led' in dict_word"
   ]
  },
  {
   "cell_type": "code",
   "execution_count": 78,
   "metadata": {},
   "outputs": [
    {
     "data": {
      "text/plain": [
       "2"
      ]
     },
     "execution_count": 78,
     "metadata": {},
     "output_type": "execute_result"
    }
   ],
   "source": [
    "dict_word['led']"
   ]
  },
  {
   "cell_type": "markdown",
   "metadata": {},
   "source": [
    "## Smaller Test from Paper"
   ]
  },
  {
   "cell_type": "code",
   "execution_count": 2,
   "metadata": {},
   "outputs": [],
   "source": [
    "import numpy as np"
   ]
  },
  {
   "cell_type": "code",
   "execution_count": 3,
   "metadata": {},
   "outputs": [],
   "source": [
    "document_dict = {'B1': 'A Course on Integral Equations', 'B2': 'Attractors for Semigroups and Evolution Equations', 'B3': 'Automatic Differentiation of Algorithms: Theory, Implementation, and Application',\n",
    "'B4': 'Geometrical Aspects of Partial Differential Equations', 'B5' : 'Ideals, Varieties, and Algorithms An Introduction to Computational Algebraic Geometry and Commutative Algebra',\n",
    "'B6': 'Introduction to Hamiltonian Dynamical Systems and the N-Body Problem', 'B7': 'Knapsack Problems: Algorithms and Computer Implementations', 'B8': 'Methods of Solving Singular Systems of Ordinary Differential Equations',\n",
    "'B9': 'Nonlinear Systems', 'B10': 'Ordinary Differential Equations', 'B11': 'Oscillation Theory for Neutral Differential Equations with Delay', 'B12': 'Oscillation Theory of Delay Differential Equations',\n",
    "'B13': 'Pseudodifferential Operators and Nonlinear Partial Differential Equations', 'B14': 'Sinc Methods for Quadrature and Differential Equations', 'B15': 'Stability of Stochastic Differential Equations with Respect to Semi-Martingales',\n",
    "'B16': 'The Boundary Integral Approach to Static and Dynamic Contact Problems', 'B17': 'The Double Mellin-Barnes Type Integrals and Their Applications to Convolution Theory'}\n",
    "\n",
    "term_lst = ['algorithms','application','delay','differential','equations','implementation','integral','introduction','methods','nonlinear','ordinary','oscillation','partial','problem','systems','theory']"
   ]
  },
  {
   "cell_type": "code",
   "execution_count": 4,
   "metadata": {},
   "outputs": [
    {
     "data": {
      "text/plain": [
       "16"
      ]
     },
     "execution_count": 4,
     "metadata": {},
     "output_type": "execute_result"
    }
   ],
   "source": [
    "len(document_dict)\n",
    "len(term_lst)"
   ]
  },
  {
   "cell_type": "code",
   "execution_count": 5,
   "metadata": {},
   "outputs": [
    {
     "data": {
      "text/plain": [
       "{'B1': ['a', 'course', 'on', 'integral', 'equations'],\n",
       " 'B2': ['attractors', 'for', 'semigroups', 'and', 'evolution', 'equations'],\n",
       " 'B3': ['automatic',\n",
       "  'differentiation',\n",
       "  'of',\n",
       "  'algorithms',\n",
       "  'theory',\n",
       "  'implementation',\n",
       "  'and',\n",
       "  'application'],\n",
       " 'B4': ['geometrical',\n",
       "  'aspects',\n",
       "  'of',\n",
       "  'partial',\n",
       "  'differential',\n",
       "  'equations'],\n",
       " 'B5': ['ideals',\n",
       "  'varieties',\n",
       "  'and',\n",
       "  'algorithms',\n",
       "  'an',\n",
       "  'introduction',\n",
       "  'to',\n",
       "  'computational',\n",
       "  'algebraic',\n",
       "  'geometry',\n",
       "  'and',\n",
       "  'commutative',\n",
       "  'algebra'],\n",
       " 'B6': ['introduction',\n",
       "  'to',\n",
       "  'hamiltonian',\n",
       "  'dynamical',\n",
       "  'systems',\n",
       "  'and',\n",
       "  'the',\n",
       "  'nbody',\n",
       "  'problem'],\n",
       " 'B7': ['knapsack',\n",
       "  'problems',\n",
       "  'algorithms',\n",
       "  'and',\n",
       "  'computer',\n",
       "  'implementations'],\n",
       " 'B8': ['methods',\n",
       "  'of',\n",
       "  'solving',\n",
       "  'singular',\n",
       "  'systems',\n",
       "  'of',\n",
       "  'ordinary',\n",
       "  'differential',\n",
       "  'equations'],\n",
       " 'B9': ['nonlinear', 'systems'],\n",
       " 'B10': ['ordinary', 'differential', 'equations'],\n",
       " 'B11': ['oscillation',\n",
       "  'theory',\n",
       "  'for',\n",
       "  'neutral',\n",
       "  'differential',\n",
       "  'equations',\n",
       "  'with',\n",
       "  'delay'],\n",
       " 'B12': ['oscillation', 'theory', 'of', 'delay', 'differential', 'equations'],\n",
       " 'B13': ['pseudodifferential',\n",
       "  'operators',\n",
       "  'and',\n",
       "  'nonlinear',\n",
       "  'partial',\n",
       "  'differential',\n",
       "  'equations'],\n",
       " 'B14': ['sinc',\n",
       "  'methods',\n",
       "  'for',\n",
       "  'quadrature',\n",
       "  'and',\n",
       "  'differential',\n",
       "  'equations'],\n",
       " 'B15': ['stability',\n",
       "  'of',\n",
       "  'stochastic',\n",
       "  'differential',\n",
       "  'equations',\n",
       "  'with',\n",
       "  'respect',\n",
       "  'to',\n",
       "  'semimartingales'],\n",
       " 'B16': ['the',\n",
       "  'boundary',\n",
       "  'integral',\n",
       "  'approach',\n",
       "  'to',\n",
       "  'static',\n",
       "  'and',\n",
       "  'dynamic',\n",
       "  'contact',\n",
       "  'problems'],\n",
       " 'B17': ['the',\n",
       "  'double',\n",
       "  'mellinbarnes',\n",
       "  'type',\n",
       "  'integrals',\n",
       "  'and',\n",
       "  'their',\n",
       "  'applications',\n",
       "  'to',\n",
       "  'convolution',\n",
       "  'theory']}"
      ]
     },
     "execution_count": 5,
     "metadata": {},
     "output_type": "execute_result"
    }
   ],
   "source": [
    "for i in document_dict:\n",
    "    lst1 = []\n",
    "    word = ''\n",
    "    for j in document_dict[i]:\n",
    "        if j == ' ':\n",
    "            lst1.append(word)\n",
    "            word = ''\n",
    "        elif j.isalpha():\n",
    "            word += j.lower()\n",
    "        else:\n",
    "            pass\n",
    "    lst1.append(word)\n",
    "    document_dict[i] = lst1\n",
    "\n",
    "document_dict"
   ]
  },
  {
   "cell_type": "code",
   "execution_count": 121,
   "metadata": {},
   "outputs": [
    {
     "name": "stdout",
     "output_type": "stream",
     "text": [
      "['a', 'course', 'on', 'integral', 'equations']\n",
      "['attractors', 'for', 'semigroups', 'and', 'evolution', 'equations']\n",
      "['automatic', 'differentiation', 'of', 'algorithms', 'theory', 'implementation', 'and', 'application']\n",
      "['geometrical', 'aspects', 'of', 'partial', 'differential', 'equations']\n",
      "['ideals', 'varieties', 'and', 'algorithms', 'an', 'introduction', 'to', 'computational', 'algebraic', 'geometry', 'and', 'commutative', 'algebra']\n",
      "['introduction', 'to', 'hamiltonian', 'dynamical', 'systems', 'and', 'the', 'nbody', 'problem']\n",
      "['knapsack', 'problems', 'algorithms', 'and', 'computer', 'implementations']\n",
      "['methods', 'of', 'solving', 'singular', 'systems', 'of', 'ordinary', 'differential', 'equations']\n",
      "['nonlinear', 'systems']\n",
      "['ordinary', 'differential', 'equations']\n",
      "['oscillation', 'theory', 'for', 'neutral', 'differential', 'equations', 'with', 'delay']\n",
      "['oscillation', 'theory', 'of', 'delay', 'differential', 'equations']\n",
      "['pseudodifferential', 'operators', 'and', 'nonlinear', 'partial', 'differential', 'equations']\n",
      "['sinc', 'methods', 'for', 'quadrature', 'and', 'differential', 'equations']\n",
      "['stability', 'of', 'stochastic', 'differential', 'equations', 'with', 'respect', 'to', 'semimartingales']\n",
      "['the', 'boundary', 'integral', 'approach', 'to', 'static', 'and', 'dynamic', 'contact', 'problems']\n",
      "['the', 'double', 'mellinbarnes', 'type', 'integrals', 'and', 'their', 'applications', 'to', 'convolution', 'theory']\n"
     ]
    }
   ],
   "source": [
    "\n",
    "    "
   ]
  },
  {
   "cell_type": "code",
   "execution_count": 129,
   "metadata": {},
   "outputs": [
    {
     "data": {
      "text/plain": [
       "'application'"
      ]
     },
     "execution_count": 129,
     "metadata": {},
     "output_type": "execute_result"
    }
   ],
   "source": [
    "term_lst[1]"
   ]
  },
  {
   "cell_type": "code",
   "execution_count": 135,
   "metadata": {},
   "outputs": [
    {
     "data": {
      "text/plain": [
       "16"
      ]
     },
     "execution_count": 135,
     "metadata": {},
     "output_type": "execute_result"
    }
   ],
   "source": [
    "len(document_dict)\n",
    "len(term_lst)"
   ]
  },
  {
   "cell_type": "code",
   "execution_count": 133,
   "metadata": {},
   "outputs": [
    {
     "data": {
      "text/plain": [
       "array([[0, 0, 0, 0, 0, 0, 0, 0, 0, 0, 0, 0, 0, 0, 0, 0, 0],\n",
       "       [0, 0, 0, 0, 0, 0, 0, 0, 0, 0, 0, 0, 0, 0, 0, 0, 0],\n",
       "       [0, 0, 0, 0, 0, 0, 0, 0, 0, 0, 0, 0, 0, 0, 0, 0, 0],\n",
       "       [0, 0, 0, 0, 0, 0, 0, 0, 0, 0, 0, 0, 0, 0, 0, 0, 0],\n",
       "       [0, 0, 0, 0, 0, 0, 0, 0, 0, 0, 0, 0, 0, 0, 0, 0, 0],\n",
       "       [0, 0, 0, 0, 0, 0, 0, 0, 0, 0, 0, 0, 0, 0, 0, 0, 0],\n",
       "       [0, 0, 0, 0, 0, 0, 0, 0, 0, 0, 0, 0, 0, 0, 0, 0, 0],\n",
       "       [0, 0, 0, 0, 0, 0, 0, 0, 0, 0, 0, 0, 0, 0, 0, 0, 0],\n",
       "       [0, 0, 0, 0, 0, 0, 0, 0, 0, 0, 0, 0, 0, 0, 0, 0, 0],\n",
       "       [0, 0, 0, 0, 0, 0, 0, 0, 0, 0, 0, 0, 0, 0, 0, 0, 0],\n",
       "       [0, 0, 0, 0, 0, 0, 0, 0, 0, 0, 0, 0, 0, 0, 0, 0, 0],\n",
       "       [0, 0, 0, 0, 0, 0, 0, 0, 0, 0, 0, 0, 0, 0, 0, 0, 0],\n",
       "       [0, 0, 0, 0, 0, 0, 0, 0, 0, 0, 0, 0, 0, 0, 0, 0, 0],\n",
       "       [0, 0, 0, 0, 0, 0, 0, 0, 0, 0, 0, 0, 0, 0, 0, 0, 0],\n",
       "       [0, 0, 0, 0, 0, 0, 0, 0, 0, 0, 0, 0, 0, 0, 0, 0, 0],\n",
       "       [0, 0, 0, 0, 0, 0, 0, 0, 0, 0, 0, 0, 0, 0, 0, 0, 0]])"
      ]
     },
     "execution_count": 133,
     "metadata": {},
     "output_type": "execute_result"
    }
   ],
   "source": [
    "term_doc = np.zeros((len(term_lst), len(document_dict)), int)\n",
    "term_doc"
   ]
  },
  {
   "cell_type": "code",
   "execution_count": 10,
   "metadata": {},
   "outputs": [],
   "source": [
    "import scipy as sp"
   ]
  },
  {
   "cell_type": "code",
   "execution_count": 144,
   "metadata": {},
   "outputs": [
    {
     "data": {
      "text/plain": [
       "array([[0, 0, 1, 0, 1, 0, 1, 0, 0, 0, 0, 0, 0, 0, 0, 0, 0],\n",
       "       [0, 0, 1, 0, 0, 0, 0, 0, 0, 0, 0, 0, 0, 0, 0, 0, 1],\n",
       "       [0, 0, 0, 0, 0, 0, 0, 0, 0, 0, 1, 1, 0, 0, 0, 0, 0],\n",
       "       [0, 0, 0, 1, 0, 0, 0, 1, 0, 1, 1, 1, 1, 1, 1, 0, 0],\n",
       "       [1, 1, 0, 1, 0, 0, 0, 1, 0, 1, 1, 1, 1, 1, 1, 0, 0],\n",
       "       [0, 0, 1, 0, 0, 0, 1, 0, 0, 0, 0, 0, 0, 0, 0, 0, 0],\n",
       "       [1, 0, 0, 0, 0, 0, 0, 0, 0, 0, 0, 0, 0, 0, 0, 1, 1],\n",
       "       [0, 0, 0, 0, 1, 1, 0, 0, 0, 0, 0, 0, 0, 0, 0, 0, 0],\n",
       "       [0, 0, 0, 0, 0, 0, 0, 1, 0, 0, 0, 0, 0, 1, 0, 0, 0],\n",
       "       [0, 0, 0, 0, 0, 0, 0, 0, 1, 0, 0, 0, 1, 0, 0, 0, 0],\n",
       "       [0, 0, 0, 0, 0, 0, 0, 1, 0, 1, 0, 0, 0, 0, 0, 0, 0],\n",
       "       [0, 0, 0, 0, 0, 0, 0, 0, 0, 0, 1, 1, 0, 0, 0, 0, 0],\n",
       "       [0, 0, 0, 1, 0, 0, 0, 0, 0, 0, 0, 0, 1, 0, 0, 0, 0],\n",
       "       [0, 0, 0, 0, 0, 1, 1, 0, 0, 0, 0, 0, 0, 0, 0, 1, 0],\n",
       "       [0, 0, 0, 0, 0, 1, 0, 1, 1, 0, 0, 0, 0, 0, 0, 0, 0],\n",
       "       [0, 0, 1, 0, 0, 0, 0, 0, 0, 0, 1, 1, 0, 0, 0, 0, 1]])"
      ]
     },
     "execution_count": 144,
     "metadata": {},
     "output_type": "execute_result"
    }
   ],
   "source": [
    "for n in range(0, len(term_lst)):\n",
    "    k=0\n",
    "    for i in document_dict:\n",
    "        counter = 0\n",
    "        for m in document_dict[i]:\n",
    "            if term_lst[n] == m:\n",
    "                counter += 1\n",
    "            elif term_lst[n] + 's' == m:\n",
    "                counter += 1\n",
    "        term_doc[n,k] = counter\n",
    "        k+=1\n",
    "term_doc"
   ]
  },
  {
   "cell_type": "code",
   "execution_count": 152,
   "metadata": {},
   "outputs": [],
   "source": [
    "sigma = sp.linalg.svd(term_doc, full_matrices= True, compute_uv= False)"
   ]
  },
  {
   "cell_type": "code",
   "execution_count": 153,
   "metadata": {},
   "outputs": [],
   "source": [
    "u = sp.linalg.svd(term_doc, full_matrices= True)[0]\n",
    "v = sp.linalg.svd(term_doc, full_matrices= True)[2]"
   ]
  },
  {
   "cell_type": "code",
   "execution_count": 154,
   "metadata": {},
   "outputs": [],
   "source": [
    "p = u[0:,0:2]"
   ]
  },
  {
   "cell_type": "code",
   "execution_count": 258,
   "metadata": {},
   "outputs": [
    {
     "data": {
      "text/plain": [
       "array([[ 0.01587183, -0.43172461],\n",
       "       [ 0.02658716, -0.37562925],\n",
       "       [ 0.17848338, -0.169208  ],\n",
       "       [ 0.60137052,  0.11868135],\n",
       "       [ 0.66906885,  0.12092048],\n",
       "       [ 0.01477933, -0.36025347],\n",
       "       [ 0.05197048, -0.2248061 ],\n",
       "       [ 0.00656127, -0.11201441],\n",
       "       [ 0.15034312,  0.11265449],\n",
       "       [ 0.08131806,  0.06721475],\n",
       "       [ 0.15034312,  0.11265449],\n",
       "       [ 0.17848338, -0.169208  ],\n",
       "       [ 0.1414814 ,  0.09743877],\n",
       "       [ 0.01051679, -0.23631848],\n",
       "       [ 0.09521699,  0.03988718],\n",
       "       [ 0.20507054, -0.54483725]])"
      ]
     },
     "execution_count": 258,
     "metadata": {},
     "output_type": "execute_result"
    }
   ],
   "source": [
    "p"
   ]
  },
  {
   "cell_type": "code",
   "execution_count": 260,
   "metadata": {},
   "outputs": [],
   "source": [
    "q = v[0:,0:2]"
   ]
  },
  {
   "cell_type": "code",
   "execution_count": 261,
   "metadata": {},
   "outputs": [
    {
     "data": {
      "text/plain": [
       "array([[ 1.59119581e-01,  1.47650690e-01],\n",
       "       [ 3.76639200e-02, -4.38399378e-02],\n",
       "       [-3.62634676e-02, -1.19333263e-02],\n",
       "       [-4.98549710e-01, -7.45292033e-02],\n",
       "       [ 1.36242368e-01,  9.37918632e-02],\n",
       "       [-5.60955541e-02, -3.06592969e-02],\n",
       "       [-1.68372809e-01, -1.15733538e-01],\n",
       "       [-1.75288378e-01, -1.22713384e-01],\n",
       "       [-5.30625158e-01, -4.37923916e-01],\n",
       "       [-8.84269444e-17, -1.17337528e-16],\n",
       "       [-5.48278591e-02, -4.81262480e-01],\n",
       "       [ 2.35620651e-01, -1.37805328e-02],\n",
       "       [ 1.95490967e-01, -4.58999791e-01],\n",
       "       [ 5.14109386e-01, -5.46011861e-01],\n",
       "       [ 2.22044605e-16, -7.49400542e-16],\n",
       "       [ 2.44596010e-16, -2.37657116e-16],\n",
       "       [-8.32667268e-17,  1.11022302e-16]])"
      ]
     },
     "execution_count": 261,
     "metadata": {},
     "output_type": "execute_result"
    }
   ],
   "source": [
    "q"
   ]
  },
  {
   "cell_type": "code",
   "execution_count": 158,
   "metadata": {},
   "outputs": [],
   "source": [
    "s = sp.linalg.diagsvd(sigma, 16,17)[0:2,0:2]"
   ]
  },
  {
   "cell_type": "code",
   "execution_count": 159,
   "metadata": {},
   "outputs": [
    {
     "data": {
      "text/plain": [
       "array([[4.53143057, 0.        ],\n",
       "       [0.        , 2.75822646]])"
      ]
     },
     "execution_count": 159,
     "metadata": {},
     "output_type": "execute_result"
    }
   ],
   "source": [
    "s"
   ]
  },
  {
   "cell_type": "code",
   "execution_count": 262,
   "metadata": {},
   "outputs": [
    {
     "data": {
      "text/plain": [
       "array([[ 0.01587183, -0.43172461],\n",
       "       [ 0.02658716, -0.37562925],\n",
       "       [ 0.17848338, -0.169208  ],\n",
       "       [ 0.60137052,  0.11868135],\n",
       "       [ 0.66906885,  0.12092048],\n",
       "       [ 0.01477933, -0.36025347],\n",
       "       [ 0.05197048, -0.2248061 ],\n",
       "       [ 0.00656127, -0.11201441],\n",
       "       [ 0.15034312,  0.11265449],\n",
       "       [ 0.08131806,  0.06721475],\n",
       "       [ 0.15034312,  0.11265449],\n",
       "       [ 0.17848338, -0.169208  ],\n",
       "       [ 0.1414814 ,  0.09743877],\n",
       "       [ 0.01051679, -0.23631848],\n",
       "       [ 0.09521699,  0.03988718],\n",
       "       [ 0.20507054, -0.54483725]])"
      ]
     },
     "execution_count": 262,
     "metadata": {},
     "output_type": "execute_result"
    }
   ],
   "source": [
    "p"
   ]
  },
  {
   "cell_type": "code",
   "execution_count": 263,
   "metadata": {},
   "outputs": [],
   "source": [
    "step1 = np.matmul(p, s)"
   ]
  },
  {
   "cell_type": "code",
   "execution_count": 264,
   "metadata": {},
   "outputs": [],
   "source": [
    "r2 = np.matmul(step1, q.transpose())"
   ]
  },
  {
   "cell_type": "code",
   "execution_count": 265,
   "metadata": {},
   "outputs": [
    {
     "data": {
      "text/plain": [
       "(16, 17)"
      ]
     },
     "execution_count": 265,
     "metadata": {},
     "output_type": "execute_result"
    }
   ],
   "source": [
    "r2.shape"
   ]
  },
  {
   "cell_type": "code",
   "execution_count": 266,
   "metadata": {},
   "outputs": [
    {
     "data": {
      "text/plain": [
       "2"
      ]
     },
     "execution_count": 266,
     "metadata": {},
     "output_type": "execute_result"
    }
   ],
   "source": [
    "np.linalg.matrix_rank(r2)"
   ]
  },
  {
   "cell_type": "code",
   "execution_count": 267,
   "metadata": {},
   "outputs": [
    {
     "data": {
      "text/plain": [
       "array([[0, 1, 0, 0, 0, 0, 0, 0, 0, 0, 0, 0, 0, 0, 0, 1]])"
      ]
     },
     "execution_count": 267,
     "metadata": {},
     "output_type": "execute_result"
    }
   ],
   "source": [
    "query1 = np.zeros((1,16),int)\n",
    "query1[0,1] = 1\n",
    "query1[0,-1] = 1\n",
    "query1"
   ]
  },
  {
   "cell_type": "code",
   "execution_count": 166,
   "metadata": {},
   "outputs": [
    {
     "data": {
      "text/plain": [
       "array([[0.22068086, 0.        ],\n",
       "       [0.        , 0.36255181]])"
      ]
     },
     "execution_count": 166,
     "metadata": {},
     "output_type": "execute_result"
    }
   ],
   "source": [
    "np.linalg.inv(s)"
   ]
  },
  {
   "cell_type": "code",
   "execution_count": 268,
   "metadata": {},
   "outputs": [
    {
     "data": {
      "text/plain": [
       "array([[ 0.05112242, -0.3337168 ]])"
      ]
     },
     "execution_count": 268,
     "metadata": {},
     "output_type": "execute_result"
    }
   ],
   "source": [
    "query1_s1 = np.matmul(query1, p)\n",
    "query1_s1\n",
    "\n",
    "query1_s2 = np.matmul(query1_s1, np.linalg.inv(s) )\n",
    "query1_s2"
   ]
  },
  {
   "cell_type": "code",
   "execution_count": 111,
   "metadata": {},
   "outputs": [],
   "source": [
    "import matplotlib.pyplot as plt"
   ]
  },
  {
   "cell_type": "code",
   "execution_count": 269,
   "metadata": {},
   "outputs": [
    {
     "data": {
      "text/plain": [
       "array([-0.43172461, -0.37562925, -0.169208  ,  0.11868135,  0.12092048,\n",
       "       -0.36025347, -0.2248061 , -0.11201441,  0.11265449,  0.06721475,\n",
       "        0.11265449, -0.169208  ,  0.09743877, -0.23631848,  0.03988718,\n",
       "       -0.54483725])"
      ]
     },
     "execution_count": 269,
     "metadata": {},
     "output_type": "execute_result"
    }
   ],
   "source": [
    "p[0:, 1]"
   ]
  },
  {
   "cell_type": "code",
   "execution_count": 234,
   "metadata": {},
   "outputs": [
    {
     "data": {
      "text/plain": [
       "array([[ 0.01587183, -0.43172461],\n",
       "       [ 0.02658716, -0.37562925],\n",
       "       [ 0.17848338, -0.169208  ],\n",
       "       [ 0.60137052,  0.11868135],\n",
       "       [ 0.66906885,  0.12092048],\n",
       "       [ 0.01477933, -0.36025347],\n",
       "       [ 0.05197048, -0.2248061 ],\n",
       "       [ 0.00656127, -0.11201441],\n",
       "       [ 0.15034312,  0.11265449],\n",
       "       [ 0.08131806,  0.06721475],\n",
       "       [ 0.15034312,  0.11265449],\n",
       "       [ 0.17848338, -0.169208  ],\n",
       "       [ 0.1414814 ,  0.09743877],\n",
       "       [ 0.01051679, -0.23631848],\n",
       "       [ 0.09521699,  0.03988718],\n",
       "       [ 0.20507054, -0.54483725]])"
      ]
     },
     "execution_count": 234,
     "metadata": {},
     "output_type": "execute_result"
    }
   ],
   "source": [
    "p1 = p\n",
    "p1[0:,1] *= -1\n",
    "p1"
   ]
  },
  {
   "cell_type": "code",
   "execution_count": 240,
   "metadata": {},
   "outputs": [
    {
     "data": {
      "text/plain": [
       "array([-0.43172461, -0.37562925, -0.169208  ,  0.11868135,  0.12092048,\n",
       "       -0.36025347, -0.2248061 , -0.11201441,  0.11265449,  0.06721475,\n",
       "        0.11265449, -0.169208  ,  0.09743877, -0.23631848,  0.03988718,\n",
       "       -0.54483725])"
      ]
     },
     "execution_count": 240,
     "metadata": {},
     "output_type": "execute_result"
    }
   ],
   "source": [
    "p1[0:,1]"
   ]
  },
  {
   "cell_type": "code",
   "execution_count": 121,
   "metadata": {},
   "outputs": [
    {
     "data": {
      "text/plain": [
       "2.75822645939006"
      ]
     },
     "execution_count": 121,
     "metadata": {},
     "output_type": "execute_result"
    }
   ],
   "source": [
    "s[1,1]"
   ]
  },
  {
   "cell_type": "code",
   "execution_count": 239,
   "metadata": {},
   "outputs": [
    {
     "data": {
      "text/plain": [
       "4.5314305717806675"
      ]
     },
     "execution_count": 239,
     "metadata": {},
     "output_type": "execute_result"
    }
   ],
   "source": [
    "s[0,0]"
   ]
  },
  {
   "cell_type": "code",
   "execution_count": 246,
   "metadata": {},
   "outputs": [
    {
     "data": {
      "text/plain": [
       "array([[0.22068086, 0.        ],\n",
       "       [0.        , 0.36255181]])"
      ]
     },
     "execution_count": 246,
     "metadata": {},
     "output_type": "execute_result"
    }
   ],
   "source": [
    "s_inv = np.linalg.inv(s)\n",
    "s_inv"
   ]
  },
  {
   "cell_type": "code",
   "execution_count": 276,
   "metadata": {},
   "outputs": [
    {
     "data": {
      "text/plain": [
       "array([[4.53143057, 0.        ],\n",
       "       [0.        , 2.75822646]])"
      ]
     },
     "execution_count": 276,
     "metadata": {},
     "output_type": "execute_result"
    }
   ],
   "source": [
    "s"
   ]
  },
  {
   "cell_type": "code",
   "execution_count": 277,
   "metadata": {},
   "outputs": [],
   "source": [
    "xvals_terms = p[0:, 0] * s[0,0]\n",
    "xvals_terms\n",
    "\n",
    "yvals_terms = p[0:, 1] * s[1,1]\n",
    "\n",
    "xvals_docs = q[0:, 0] * s[0,0]\n",
    "yvals_docs = q[0:, 1] * s[1,1]"
   ]
  },
  {
   "cell_type": "code",
   "execution_count": 236,
   "metadata": {},
   "outputs": [
    {
     "data": {
      "text/plain": [
       "array([[ 0.01587183, -0.43172461],\n",
       "       [ 0.02658716, -0.37562925],\n",
       "       [ 0.17848338, -0.169208  ],\n",
       "       [ 0.60137052,  0.11868135],\n",
       "       [ 0.66906885,  0.12092048],\n",
       "       [ 0.01477933, -0.36025347],\n",
       "       [ 0.05197048, -0.2248061 ],\n",
       "       [ 0.00656127, -0.11201441],\n",
       "       [ 0.15034312,  0.11265449],\n",
       "       [ 0.08131806,  0.06721475],\n",
       "       [ 0.15034312,  0.11265449],\n",
       "       [ 0.17848338, -0.169208  ],\n",
       "       [ 0.1414814 ,  0.09743877],\n",
       "       [ 0.01051679, -0.23631848],\n",
       "       [ 0.09521699,  0.03988718],\n",
       "       [ 0.20507054, -0.54483725]])"
      ]
     },
     "execution_count": 236,
     "metadata": {},
     "output_type": "execute_result"
    }
   ],
   "source": [
    "p1"
   ]
  },
  {
   "cell_type": "code",
   "execution_count": 201,
   "metadata": {},
   "outputs": [
    {
     "data": {
      "text/plain": [
       "['algorithms',\n",
       " 'application',\n",
       " 'delay',\n",
       " 'differential',\n",
       " 'equations',\n",
       " 'implementation',\n",
       " 'integral',\n",
       " 'introduction',\n",
       " 'methods',\n",
       " 'nonlinear',\n",
       " 'ordinary',\n",
       " 'oscillation',\n",
       " 'partial',\n",
       " 'problem',\n",
       " 'systems',\n",
       " 'theory']"
      ]
     },
     "execution_count": 201,
     "metadata": {},
     "output_type": "execute_result"
    }
   ],
   "source": [
    "term_lst"
   ]
  },
  {
   "cell_type": "code",
   "execution_count": 272,
   "metadata": {},
   "outputs": [
    {
     "data": {
      "text/plain": [
       "array([0.07192208, 0.12047786, 0.80878506, 2.72506877, 3.03183905,\n",
       "       0.06697152, 0.23550064, 0.02973192, 0.68126943, 0.36848714,\n",
       "       0.68126943, 0.80878506, 0.64111312, 0.04765609, 0.4314692 ,\n",
       "       0.92926292])"
      ]
     },
     "execution_count": 272,
     "metadata": {},
     "output_type": "execute_result"
    }
   ],
   "source": [
    "xvals_terms"
   ]
  },
  {
   "cell_type": "code",
   "execution_count": 271,
   "metadata": {},
   "outputs": [
    {
     "data": {
      "text/plain": [
       "array([-1.19079423, -1.03607054, -0.46671397,  0.32735004,  0.33352606,\n",
       "       -0.99366067, -0.62006612, -0.30896112,  0.31072658,  0.1853935 ,\n",
       "        0.31072658, -0.46671397,  0.26875819, -0.65181989,  0.11001786,\n",
       "       -1.50278451])"
      ]
     },
     "execution_count": 271,
     "metadata": {},
     "output_type": "execute_result"
    }
   ],
   "source": [
    "yvals_terms"
   ]
  },
  {
   "cell_type": "code",
   "execution_count": 253,
   "metadata": {},
   "outputs": [
    {
     "data": {
      "text/plain": [
       "array([4.53143057e+00, 2.75822646e+00, 2.42106812e+00, 1.90429067e+00,\n",
       "       1.88132862e+00, 1.74548848e+00, 1.66035160e+00, 1.27606414e+00,\n",
       "       1.06271922e+00, 1.00000000e+00, 8.23336912e-01, 6.16245507e-01,\n",
       "       4.22660187e-01, 1.83137833e-01, 1.70078104e-16, 8.19254926e-17])"
      ]
     },
     "execution_count": 253,
     "metadata": {},
     "output_type": "execute_result"
    }
   ],
   "source": [
    "sigma"
   ]
  },
  {
   "cell_type": "code",
   "execution_count": 257,
   "metadata": {},
   "outputs": [
    {
     "data": {
      "text/plain": [
       "-1.1907263625186888"
      ]
     },
     "execution_count": 257,
     "metadata": {},
     "output_type": "execute_result"
    }
   ],
   "source": [
    "-0.4317 * sigma[1]"
   ]
  },
  {
   "cell_type": "code",
   "execution_count": 127,
   "metadata": {},
   "outputs": [
    {
     "data": {
      "text/plain": [
       "['algorithms',\n",
       " 'application',\n",
       " 'delay',\n",
       " 'differential',\n",
       " 'equations',\n",
       " 'implementation',\n",
       " 'integral',\n",
       " 'introduction',\n",
       " 'methods',\n",
       " 'nonlinear',\n",
       " 'ordinary',\n",
       " 'oscillation',\n",
       " 'partial',\n",
       " 'problem',\n",
       " 'systems',\n",
       " 'theory']"
      ]
     },
     "execution_count": 127,
     "metadata": {},
     "output_type": "execute_result"
    }
   ],
   "source": [
    "term_lst"
   ]
  },
  {
   "cell_type": "code",
   "execution_count": 185,
   "metadata": {},
   "outputs": [
    {
     "data": {
      "text/plain": [
       "array([[ 0.01587183, -0.43172461],\n",
       "       [ 0.02658716, -0.37562925],\n",
       "       [ 0.17848338, -0.169208  ],\n",
       "       [ 0.60137052,  0.11868135],\n",
       "       [ 0.66906885,  0.12092048],\n",
       "       [ 0.01477933, -0.36025347],\n",
       "       [ 0.05197048, -0.2248061 ],\n",
       "       [ 0.00656127, -0.11201441],\n",
       "       [ 0.15034312,  0.11265449],\n",
       "       [ 0.08131806,  0.06721475],\n",
       "       [ 0.15034312,  0.11265449],\n",
       "       [ 0.17848338, -0.169208  ],\n",
       "       [ 0.1414814 ,  0.09743877],\n",
       "       [ 0.01051679, -0.23631848],\n",
       "       [ 0.09521699,  0.03988718],\n",
       "       [ 0.20507054, -0.54483725]])"
      ]
     },
     "execution_count": 185,
     "metadata": {},
     "output_type": "execute_result"
    }
   ],
   "source": [
    "p1 = p\n",
    "p1[0:,1] *= -1\n",
    "p1"
   ]
  },
  {
   "cell_type": "code",
   "execution_count": 274,
   "metadata": {},
   "outputs": [
    {
     "data": {
      "text/plain": [
       "array([-0.43172461, -0.37562925, -0.169208  ,  0.11868135,  0.12092048,\n",
       "       -0.36025347, -0.2248061 , -0.11201441,  0.11265449,  0.06721475,\n",
       "        0.11265449, -0.169208  ,  0.09743877, -0.23631848,  0.03988718,\n",
       "       -0.54483725])"
      ]
     },
     "execution_count": 274,
     "metadata": {},
     "output_type": "execute_result"
    }
   ],
   "source": [
    "p[0:, 1]"
   ]
  },
  {
   "cell_type": "code",
   "execution_count": 131,
   "metadata": {},
   "outputs": [
    {
     "data": {
      "text/plain": [
       "['B1',\n",
       " 'B2',\n",
       " 'B3',\n",
       " 'B4',\n",
       " 'B5',\n",
       " 'B6',\n",
       " 'B7',\n",
       " 'B8',\n",
       " 'B9',\n",
       " 'B10',\n",
       " 'B11',\n",
       " 'B12',\n",
       " 'B13',\n",
       " 'B14',\n",
       " 'B15',\n",
       " 'B16',\n",
       " 'B17']"
      ]
     },
     "execution_count": 131,
     "metadata": {},
     "output_type": "execute_result"
    }
   ],
   "source": [
    "doc_title_lst = [i for i in document_dict]\n",
    "doc_title_lst"
   ]
  },
  {
   "cell_type": "code",
   "execution_count": 278,
   "metadata": {},
   "outputs": [
    {
     "data": {
      "image/png": "[encoded data removed]",
      "text/plain": [
       "<Figure size 640x480 with 1 Axes>"
      ]
     },
     "metadata": {},
     "output_type": "display_data"
    }
   ],
   "source": [
    "# plt.scatter(xvals_terms, yvals_terms)\n",
    "# for i,txt in enumerate(term_lst):\n",
    "#     plt.annotate(txt, (xvals_terms[i], yvals_terms[i]))\n",
    "plt.scatter(xvals_docs, yvals_docs, color = 'red')\n",
    "for i,txt in enumerate(doc_title_lst):\n",
    "    plt.annotate(txt, (xvals_docs[i], yvals_docs[i]))\n",
    "\n"
   ]
  },
  {
   "cell_type": "code",
   "execution_count": 280,
   "metadata": {},
   "outputs": [
    {
     "data": {
      "text/plain": [
       "array([[ 0.05112242, -0.3337168 ]])"
      ]
     },
     "execution_count": 280,
     "metadata": {},
     "output_type": "execute_result"
    }
   ],
   "source": [
    "query1_s2"
   ]
  },
  {
   "cell_type": "code",
   "execution_count": 279,
   "metadata": {},
   "outputs": [
    {
     "data": {
      "text/plain": [
       "array([[ 1.59119581e-01,  1.47650690e-01],\n",
       "       [ 3.76639200e-02, -4.38399378e-02],\n",
       "       [-3.62634676e-02, -1.19333263e-02],\n",
       "       [-4.98549710e-01, -7.45292033e-02],\n",
       "       [ 1.36242368e-01,  9.37918632e-02],\n",
       "       [-5.60955541e-02, -3.06592969e-02],\n",
       "       [-1.68372809e-01, -1.15733538e-01],\n",
       "       [-1.75288378e-01, -1.22713384e-01],\n",
       "       [-5.30625158e-01, -4.37923916e-01],\n",
       "       [-8.84269444e-17, -1.17337528e-16],\n",
       "       [-5.48278591e-02, -4.81262480e-01],\n",
       "       [ 2.35620651e-01, -1.37805328e-02],\n",
       "       [ 1.95490967e-01, -4.58999791e-01],\n",
       "       [ 5.14109386e-01, -5.46011861e-01],\n",
       "       [ 2.22044605e-16, -7.49400542e-16],\n",
       "       [ 2.44596010e-16, -2.37657116e-16],\n",
       "       [-8.32667268e-17,  1.11022302e-16]])"
      ]
     },
     "execution_count": 279,
     "metadata": {},
     "output_type": "execute_result"
    }
   ],
   "source": [
    "q"
   ]
  },
  {
   "cell_type": "code",
   "execution_count": 173,
   "metadata": {},
   "outputs": [
    {
     "data": {
      "text/plain": [
       "[(0.7210393342156193, 0.40725404007058796),\n",
       " (0.17067143846115412, -0.12092047628820518),\n",
       " (-0.16432538568429617, -0.03291481634433515),\n",
       " (-2.2591433997109114, -0.20556842044475562),\n",
       " (0.6173728310146228, 0.2586991987325396),\n",
       " (-0.2541931089791579, -0.08456528382738075),\n",
       " (-0.7629696962659925, -0.3192193080273792),\n",
       " (-0.7943071146859164, -0.33847130400636377),\n",
       " (-2.404491062462495, -1.2078933321166878),\n",
       " (-4.007005591974219e-16, -3.236434739756894e-16),\n",
       " (-0.24844863688853985, -1.3274309061694158),\n",
       " (1.0676986229775873, -0.038009830228927705),\n",
       " (0.8858537458606298, -1.266025368324081),\n",
       " (2.329650988979377, -1.5060243624038523),\n",
       " (1.006179711056247e-15, -2.067016402582989e-15),\n",
       " (1.1083698379603971e-15, -6.555121461895127e-16),\n",
       " (-3.7731739164609264e-16, 3.0622465223451687e-16)]"
      ]
     },
     "execution_count": 173,
     "metadata": {},
     "output_type": "execute_result"
    }
   ],
   "source": [
    "k = list(zip(xvals_docs,yvals_docs))\n",
    "k"
   ]
  },
  {
   "cell_type": "code",
   "execution_count": 177,
   "metadata": {},
   "outputs": [
    {
     "data": {
      "text/plain": [
       "0.3376098365400967"
      ]
     },
     "execution_count": 177,
     "metadata": {},
     "output_type": "execute_result"
    }
   ],
   "source": [
    "np.linalg.norm(query1_s2)"
   ]
  },
  {
   "cell_type": "code",
   "execution_count": 273,
   "metadata": {},
   "outputs": [
    {
     "name": "stdout",
     "output_type": "stream",
     "text": [
      "0\n",
      "1\n",
      "2\n",
      "3\n",
      "4\n",
      "5\n",
      "6\n",
      "7\n",
      "8\n",
      "9\n",
      "11\n",
      "12\n",
      "13\n",
      "15\n",
      "16\n"
     ]
    }
   ],
   "source": [
    "k2_vec = [[i[0],i[1]] for i in k]\n",
    "k2_vec\n",
    "\n",
    "for i in range(0,len(k2_vec)):\n",
    "    cos = np.dot(query1_s2, k2_vec[i])/(np.linalg.norm(query1_s2) * np.linalg.norm(k2_vec[i]))\n",
    "    if cos <= 0.9:\n",
    "        print(i)"
   ]
  },
  {
   "cell_type": "code",
   "execution_count": 196,
   "metadata": {},
   "outputs": [
    {
     "data": {
      "text/plain": [
       "[0.17067143846115412, -0.12092047628820518]"
      ]
     },
     "execution_count": 196,
     "metadata": {},
     "output_type": "execute_result"
    }
   ],
   "source": [
    "k2_vec[1]"
   ]
  },
  {
   "cell_type": "code",
   "execution_count": null,
   "metadata": {},
   "outputs": [],
   "source": []
  }
 ],
 "metadata": {
  "interpreter": {
   "hash": "bff285996b61d1cce75d586d554bbdb644f20e64756204b2dee51c0e7bed81f5"
  },
  "kernelspec": {
   "display_name": "Python 3.11.8 ('base')",
   "language": "python",
   "name": "python3"
  },
  "language_info": {
   "codemirror_mode": {
    "name": "ipython",
    "version": 3
   },
   "file_extension": ".py",
   "mimetype": "text/x-python",
   "name": "python",
   "nbconvert_exporter": "python",
   "pygments_lexer": "ipython3",
   "version": "3.11.8"
  },
  "orig_nbformat": 4
 },
 "nbformat": 4,
 "nbformat_minor": 2
}
