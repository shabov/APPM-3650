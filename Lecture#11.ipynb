{
 "cells": [
  {
   "cell_type": "markdown",
   "metadata": {},
   "source": [
    "A tree is an acyclic, connected graph\n",
    "A rooted tree\n",
    "$\\begin{forest}\n",
    "    [7\n",
    "        [3\n",
    "            [12\n",
    "                8]]]\n",
    "                \\end{forest}$"
   ]
  },
  {
   "cell_type": "markdown",
   "metadata": {},
   "source": []
  },
  {
   "cell_type": "markdown",
   "metadata": {},
   "source": [
    "### Binary Search Tree\n",
    "A binary tree is a rooted tree. Each node has $0,1,2$ binary subtrees. <br>\n",
    "A binary search tree is a special binary tree in which all nodes in the left subtree of $x$ have keys $\\leq$ `x.key` and all nodes in the right subtree of $x$ have keys $\\geq$ `x.key` <br>\n",
    "\n",
    "### Basic ops\n",
    "insert <br>\n",
    "delete <br>\n",
    "search <br>\n",
    "max/min <br>\n",
    "sort keys <br>"
   ]
  },
  {
   "cell_type": "markdown",
   "metadata": {},
   "source": [
    "### Binary Search Tree Advantages\n",
    "Nodes are in key order <br>\n",
    "### Binary Search Tree Attributes:\n",
    "`root` (pointer to root node) $\\newline$\n",
    "### Binary Search node attributes\n",
    "`key` $\\newline$\n",
    "`data` $\\newline$\n",
    "`left child pointer` ($l$) $\\newline$\n",
    "`right child pointer` ($r$) $\\newline$\n",
    "`parent pointer $\\newline$"
   ]
  },
  {
   "cell_type": "code",
   "execution_count": null,
   "metadata": {},
   "outputs": [],
   "source": [
    "def inorder_tree_walk(x):\n",
    "    if x != NIL:\n",
    "        inorder_tree_walk(x.left)\n",
    "        print(x.key)\n",
    "        inorder_tree_walk(x.right)\n"
   ]
  },
  {
   "cell_type": "markdown",
   "metadata": {},
   "source": [
    "### Analysis\n",
    "$\\Theta(n)$"
   ]
  },
  {
   "cell_type": "code",
   "execution_count": null,
   "metadata": {},
   "outputs": [],
   "source": [
    "def tree_search(x, k):\n",
    "    if x == NIL or k ==x.key:\n",
    "        return x\n",
    "    if k< x.key:\n",
    "        return tree_search(x.left,k)\n",
    "    else:\n",
    "        return tree_search(x.right, k)"
   ]
  },
  {
   "cell_type": "code",
   "execution_count": null,
   "metadata": {},
   "outputs": [],
   "source": [
    "def interative_tree_search(x, k):\n",
    "    while x != NIL and k != x.key:\n",
    "        if k < x.key:\n",
    "            x = x.left\n",
    "        else:\n",
    "            x = x.right\n",
    "    return x"
   ]
  },
  {
   "cell_type": "markdown",
   "metadata": {},
   "source": [
    "### Analysis\n",
    "if height $h = log(n)$ (balanced) $\\newline$\n",
    "$\\Theta(h)$ (possibly unbalanced tree)"
   ]
  },
  {
   "cell_type": "markdown",
   "metadata": {},
   "source": [
    "### Max/Min Keys\n",
    "Max key: rightmost key $\\newline$\n",
    "Min key: leftmost key $\\newline$\n",
    "*No Comparisons needed $\\newline$"
   ]
  },
  {
   "cell_type": "code",
   "execution_count": null,
   "metadata": {},
   "outputs": [],
   "source": [
    "def tree_minimum(x):\n",
    "    while x.left != NIL:\n",
    "        x = x.left\n",
    "    return x\n",
    "\n",
    "def tree_maximum(x)\n",
    "    while x.right != NIL:\n",
    "        x = x.right\n",
    "    return x"
   ]
  },
  {
   "cell_type": "markdown",
   "metadata": {},
   "source": [
    "### Successor Node\n",
    "Next node in order walk (next largest node, the largest node)"
   ]
  },
  {
   "cell_type": "code",
   "execution_count": null,
   "metadata": {},
   "outputs": [],
   "source": [
    "def tree_successor(x):\n",
    "    if x.right != NIL:\n",
    "        return tree_minimum(x.right)\n",
    "    parent = x.p\n",
    "    while parent != NIL and x == parent.right:\n",
    "        x = parent\n",
    "        parent = parent.p\n",
    "    return parent"
   ]
  },
  {
   "cell_type": "markdown",
   "metadata": {},
   "source": [
    "### Code Analysis\n",
    "$\\Theta(h)$"
   ]
  },
  {
   "cell_type": "markdown",
   "metadata": {},
   "source": [
    "## Insert a new node\n",
    "Start at root, compare value and move left if $>$ and right if $<$, continue until empty slot."
   ]
  },
  {
   "cell_type": "code",
   "execution_count": null,
   "metadata": {},
   "outputs": [],
   "source": [
    "def tree_insert(T, new):\n",
    "    prev = NIL\n",
    "    curr = T.root\n",
    "    while curr != NIL:\n",
    "        prev = curr\n",
    "        if new.key < curr.key:\n",
    "            curr = curr.left\n",
    "        else:\n",
    "            curr = curr.right\n",
    "    new.p = prev\n",
    "    if prev == NIL:\n",
    "        T.root = new\n",
    "    elif new.key < prev.key:\n",
    "        prev.left = new\n",
    "    else:\n",
    "        prev.right = new"
   ]
  },
  {
   "cell_type": "markdown",
   "metadata": {},
   "source": []
  },
  {
   "cell_type": "markdown",
   "metadata": {},
   "source": []
  }
 ],
 "metadata": {
  "language_info": {
   "name": "python"
  },
  "orig_nbformat": 4
 },
 "nbformat": 4,
 "nbformat_minor": 2
}
