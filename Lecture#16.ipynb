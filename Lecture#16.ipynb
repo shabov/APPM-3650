{
 "cells": [
  {
   "cell_type": "markdown",
   "metadata": {},
   "source": [
    "## Graph Algorithms\n",
    "$G = (V,E)$ <br>\n",
    "V = set of vertices (nodes) <br>\n",
    "E = edges <br>\n",
    "\n",
    "Undirected and Directed "
   ]
  },
  {
   "cell_type": "code",
   "execution_count": null,
   "metadata": {},
   "outputs": [],
   "source": []
  }
 ],
 "metadata": {
  "language_info": {
   "name": "python"
  },
  "orig_nbformat": 4
 },
 "nbformat": 4,
 "nbformat_minor": 2
}
