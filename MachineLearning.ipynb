{
 "cells": [
  {
   "cell_type": "markdown",
   "metadata": {},
   "source": [
    "## Machine Learning Algorithms\n",
    "Train on existing data (Training Phase)<br>\n",
    "Make predictions on new data (Prediction Phase)<br>\n",
    "Three Main Classes: <br>\n",
    "    -Supervised Learning: labeled data <br>\n",
    "    -Unsupervised Learning: algorithm labels the data <br>\n",
    "    -Reinforcment Learning <br>\n",
    "\n"
   ]
  },
  {
   "cell_type": "markdown",
   "metadata": {},
   "source": [
    "## Clustering \n",
    "Unsupervised <br>\n",
    "Group $n$ data points into k disjoint clusters <br>\n",
    "Input: $n$ examples, each with $d$ attributes or features <br>\n",
    "$\\vec{x} = (x_1, x_2,\\cdots, x_d)$ is a point in $\\mathbb{R}^d \\newline$\n",
    "Often the attribute values are scaled or normalized\n",
    "\n",
    "### Dissimilarity Measure\n",
    "$\\Delta(\\vec{x}, \\vec{y}) = |\\vec{x} - \\vec{y}|^2 = \\sum^{d}_{a=1} (x_a - y_a)^2 \\newline$\n",
    "Squared Distance <br>\n",
    "Let $S$ be a set of $n$ points in $\\mathbb{R}^d$ <br>\n",
    "A k-clustering of a set $S$ is a decomposition os $S$ into $k$ disjoints subsets (or clusters). <br>\n",
    "$S=S^{(1)} \\cup S^{(2)} \\cup \\cdots \\cup S^{(d)}$\n",
    "\n",
    "### Nearest Neighbor Rule\n",
    "A point $\\vec{x}$ belongs to cluster $S^{(l)}$ if $\\vec{x}$ is closest to center $c^{(l)}$: <br>\n",
    "$x \\in$\n",
    "\n",
    "### K-means Problem\n",
    "$f(S,C) = \\sum^{k}_{l=1} \\sum_{\\vec{x}\\in S^{(l)}} \\Delta(\\vec{x},\\vec{c}^{(l)}) \\newline$\n",
    "We wish to find centers $C$ to minimize $f(S,C)$\n",
    "\n"
   ]
  },
  {
   "cell_type": "markdown",
   "metadata": {},
   "source": [
    "## Lloyd's Procedure\n",
    "Given a set $S$ of $n$ points in $\\mathbb{R}^d$ <br>\n",
    "Choose $k$ points at random to be the initial set of centers <br>\n",
    "    -assign each point to cluster with closest center <br>\n",
    "    -recompute the centers <br>\n",
    "Repeat until no or few changes in points assigned to each cluster <br>\n",
    "(or until distance minimized, ..., or after max number of iterations) <br>"
   ]
  },
  {
   "cell_type": "markdown",
   "metadata": {},
   "source": [
    "## Theorem\n",
    "The centroid of a cluster minimizes: <br>\n",
    "$\\sum_{\\vec{x} \\in S^{(l)}} \\Delta(\\vec{x}, \\vec{C}^{(l)})$"
   ]
  },
  {
   "cell_type": "markdown",
   "metadata": {},
   "source": [
    "## Image Compression\n",
    "24 bits for each color <br>\n",
    "$2^{24}$ possible colors"
   ]
  },
  {
   "cell_type": "markdown",
   "metadata": {},
   "source": [
    "# Machine Learning Common Strategy\n",
    "## Multiplicitve-Weight Algorithms\n",
    "Make series of decisions or predictions <br>\n",
    "Suppose there are $n$ experts <br>\n",
    "### Learning From Experts\n",
    "Let $E_1, E_2, \\cdots, E_n$ be $n$ experts <br>\n",
    "Suppose T events each with outcome $o^{(t)} \\in {0,1}$ for event $t$ $0 = stock \\downarrow, 1 = stock \\uparrow$ <br>\n",
    "Each expert $E_i$ makes a prediction $q_i^{(t)} \\in {0,1}$ <br>\n",
    "You make a prediction $\\cdots$<br>\n",
    "\n",
    "### Goal\n",
    "Minimize number of mistakes <br>\n",
    "$m = \\sum^{T}_{t=1} |p^{(t)} - o^{(t)}|$ <br>\n",
    "$m_i = $ number mistakes by expert $E_i$ <br>\n",
    "Let $m^* = min \\{m_i\\}$, number mistakes by best expert <br>\n",
    "We wish to minimize $m-m^*$ (regret) <br>\n",
    "\n",
    "## Weighted-Majority Algorithm\n",
    "Let weights $w_i^{(t)}$ for $i = 1,2,\\cdots, n$ be assigned to the $n$ experts, $0 \\leq w_i^{(t)} \\leq 1$ <br>\n",
    "Parameter $\\gamma$ $0 < \\gamma < \\frac{1}{2}$ will control how the weights adjust <br>\n",
    "Upper bound for number of mistakes: <br>\n",
    "$m^{(T)} \\leq 2(1+\\gamma) \\cdots$"
   ]
  },
  {
   "cell_type": "code",
   "execution_count": null,
   "metadata": {},
   "outputs": [],
   "source": []
  }
 ],
 "metadata": {
  "language_info": {
   "name": "python"
  },
  "orig_nbformat": 4
 },
 "nbformat": 4,
 "nbformat_minor": 2
}
