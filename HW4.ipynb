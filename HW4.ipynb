{
 "cells": [
  {
   "cell_type": "markdown",
   "id": "091f7ab9-c524-40e1-a043-440a7f5138a7",
   "metadata": {
    "tags": []
   },
   "source": [
    "# HW 4\n",
    "\n",
    "**Upload one file** to Gradescope: \n",
    "* `HW4.py` (which will be autograded)\n",
    "\n",
    "___"
   ]
  },
  {
   "cell_type": "code",
   "execution_count": 3,
   "id": "fbdbf413-409e-4fcc-a0d5-dcc6cf4e5d16",
   "metadata": {},
   "outputs": [],
   "source": [
    "import numpy as np"
   ]
  },
  {
   "cell_type": "markdown",
   "id": "a6094a9d-0464-45eb-b09c-ecc1e8b509f3",
   "metadata": {},
   "source": [
    "### Polynomials\n",
    "A polynomial $P(x)$ can be represented by an array of coefficients in *increasing* degree order. Examples are shown in this table:\n",
    "\n",
    "| &nbsp; &nbsp; &nbsp; Polynomial &nbsp; &nbsp; &nbsp;|Coefficients|  \n",
    "|:---------:|:--:|\n",
    "|$8 - 6x + x^2$|`array([8, -6, 1])`|\n",
    "|$8 + x^2$|`array([8, 0, 1])`|\n",
    "|$- 6x + x^2$|`array([0, -6, 1])`|\n",
    "|$8$|`array([8])`|\n"
   ]
  },
  {
   "cell_type": "markdown",
   "id": "6c79c6ff-fc7d-4dec-9629-00f47fcb3b6b",
   "metadata": {},
   "source": [
    "**Use the `Polynomial` class defined below** for the following problems. \n",
    "\n",
    "**Add the following methods**:\n",
    "* **`__call__(x)`** evaluates the polynomial $P$ for a given value of $x$. It allows the use of the `P(x)` syntax. (You may use Horner's Method but it's not necessary.)\n",
    "* **`deriv()`** returns the derivative of $P(x)$ as a `Polynomial` with degree one less than $P$.\n",
    "\n",
    "For example,\n",
    "```\n",
    "poly = Polynomial([8, -6, 1])\n",
    "poly(-1)\n",
    "```\n",
    "returns `15` and\n",
    "```\n",
    "vars(poly.deriv())\n",
    "```\n",
    "returns `{'coeffs': array([-6,  2]), 'degree': 1}`.\n",
    "\n",
    "(*Optional:* You may add other methods to this class.)\n",
    "\n"
   ]
  },
  {
   "cell_type": "code",
   "execution_count": null,
   "id": "6fe86b20",
   "metadata": {},
   "outputs": [],
   "source": []
  },
  {
   "cell_type": "code",
   "execution_count": 1,
   "id": "0eb8f23a-ec31-4594-afea-dadfa3857f70",
   "metadata": {},
   "outputs": [],
   "source": [
    "class Polynomial:\n",
    "    def __init__(self, coeffs):\n",
    "        self.coeffs = np.array(coeffs)\n",
    "        self.degree = self.coeffs.size - 1\n",
    "        \n",
    "    def __call__(self, x):\n",
    "        result = 0\n",
    "        for coef in reversed(self.coeffs):\n",
    "            result  = coef + x*result\n",
    "        return result\n",
    "\n",
    "    def deriv(self):\n",
    "        new_coeffs = []\n",
    "        for k in range(len(self.coeffs)):\n",
    "            new_coeffs.append(self.coeffs[k] * k)\n",
    "        return Polynomial(new_coeffs[1:])\n",
    "    \n",
    "    def __repr__(self):\n",
    "        string_rep =''\n",
    "        for i in range(self.degree+1):\n",
    "            if i == 0:\n",
    "                string_rep += f'{self.coeffs[i]} '\n",
    "                if self.coeffs[i+1] > 0:\n",
    "                    string_rep+= '+ '\n",
    "                else:\n",
    "                    string_rep+='- '\n",
    "            elif i ==1:\n",
    "                string_rep+=f'{abs(self.coeffs[i])}x '\n",
    "                try:\n",
    "                    if self.coeffs[i+1] > 0:\n",
    "                        string_rep += '+ '\n",
    "                    else:\n",
    "                        string_rep += '- '\n",
    "                except:\n",
    "                    string_rep+=' '\n",
    "            else:\n",
    "                string_rep+= f'{abs(self.coeffs[i])}x^{i} '\n",
    "                try:\n",
    "                    if self.coeffs[i+1] > 0:\n",
    "                        string_rep+='+ '\n",
    "                    else:\n",
    "                        string_rep += '- '\n",
    "                except:\n",
    "                    string_rep+=' '\n",
    "        return string_rep\n",
    "\n"
   ]
  },
  {
   "cell_type": "code",
   "execution_count": 4,
   "id": "a1c5c64a",
   "metadata": {},
   "outputs": [
    {
     "data": {
      "text/plain": [
       "8 - 6x + 1x^2  "
      ]
     },
     "execution_count": 4,
     "metadata": {},
     "output_type": "execute_result"
    }
   ],
   "source": [
    "poly = Polynomial([8,-6,1])\n",
    "poly"
   ]
  },
  {
   "cell_type": "code",
   "execution_count": 5,
   "id": "9727967b",
   "metadata": {},
   "outputs": [
    {
     "data": {
      "text/plain": [
       "-6 + 2x  "
      ]
     },
     "execution_count": 5,
     "metadata": {},
     "output_type": "execute_result"
    }
   ],
   "source": [
    "poly.deriv()"
   ]
  },
  {
   "cell_type": "code",
   "execution_count": 11,
   "id": "a3e5da8f",
   "metadata": {},
   "outputs": [
    {
     "data": {
      "text/plain": [
       "2"
      ]
     },
     "execution_count": 11,
     "metadata": {},
     "output_type": "execute_result"
    }
   ],
   "source": [
    "j = np.array([8,-6,1])\n",
    "j=np.array(j[1:])\n",
    "len(j)"
   ]
  },
  {
   "cell_type": "code",
   "execution_count": 40,
   "id": "b2fce0cb-cd67-4e43-ab55-451b5379e150",
   "metadata": {},
   "outputs": [
    {
     "data": {
      "text/plain": [
       "[5, 4, 3, 2, 1]"
      ]
     },
     "execution_count": 40,
     "metadata": {},
     "output_type": "execute_result"
    }
   ],
   "source": [
    "lst = [1,2,3,4,5]\n",
    "lst[::-1]"
   ]
  },
  {
   "cell_type": "markdown",
   "id": "e37d2880-133a-4d50-8b66-d3eb1e9ea2e0",
   "metadata": {},
   "source": [
    "### Newton's Method for Polynomials"
   ]
  },
  {
   "cell_type": "markdown",
   "id": "b7330c07-adcf-42f6-bd9d-56e3ac03a266",
   "metadata": {},
   "source": [
    "Newton's Method is an iterative algorithm for finding a root of a differentiable function $f(x)$. Given an initial guess of $x_0$, the method converges to a solution by repeatedly applying this formula: \n",
    "\n",
    "$$ x_{n+1} = x_n - \\frac{f(x_n)}{f'(x_n)}.$$\n",
    "\n",
    "When Newton's Method converges, it usually does so quickly, however it does not always converge, for example, when $f'(x_n) = 0$.\n",
    "\n",
    "Write an iterative function **`newton(poly, x0, tol=1e-4, max_iter=50)`** that uses Newton's Method to find a root of a `Polynomial` $P(x)$ given an initial guess `x0`. The method terminates when $\\lvert P(x_n)\\rvert$ is less than the tolerance `tol`. If the method has not converged after `max_iter` iterations, the function returns `None`."
   ]
  },
  {
   "cell_type": "code",
   "execution_count": 155,
   "id": "59e7b97a-eaf9-44b0-9b11-d1b492a07f03",
   "metadata": {},
   "outputs": [],
   "source": [
    "def newton(poly, x0, tol=1e-4, max_iter = 50):\n",
    "    f_x = poly\n",
    "    f_x_deriv = f_x.deriv()\n",
    "    x_n = x0\n",
    "    iter_ct = 0\n",
    "    while abs(f_x(x_n)) >= tol and iter_ct <= max_iter:\n",
    "        if f_x_deriv(x_n) == 0:\n",
    "            print(f'Deriviative equals 0')\n",
    "            return None\n",
    "        x_n = x_n - (f_x(x_n)/f_x_deriv(x_n))\n",
    "        iter_ct+=1\n",
    "    if iter_ct > max_iter:\n",
    "        return None\n",
    "    return x_n\n"
   ]
  },
  {
   "cell_type": "code",
   "execution_count": 36,
   "id": "0a27fd19",
   "metadata": {},
   "outputs": [
    {
     "data": {
      "text/plain": [
       "5.000000068914138"
      ]
     },
     "execution_count": 36,
     "metadata": {},
     "output_type": "execute_result"
    }
   ],
   "source": [
    "newton(Polynomial([30,-11,-4,1]),10)"
   ]
  },
  {
   "cell_type": "code",
   "execution_count": 156,
   "id": "59a57245",
   "metadata": {},
   "outputs": [],
   "source": [
    "newton(Polynomial([-1,0,-1,1]),1,1e-4,3)"
   ]
  },
  {
   "cell_type": "markdown",
   "id": "e7e8e1ec-2a13-4589-84da-3544d7d35c68",
   "metadata": {},
   "source": [
    "### Recursive Newton's Method\n",
    "**Write a recursive version** of the previous function called **`newton_rec()`**."
   ]
  },
  {
   "cell_type": "code",
   "execution_count": 152,
   "id": "fa9151d7-70cd-457a-8b44-8005bd68240a",
   "metadata": {},
   "outputs": [],
   "source": [
    "def newton_rec(poly, x0,tol=1e-4, ):\n",
    "    poly_deriv = poly.deriv()\n",
    "    if abs(poly(x0)) <= tol:\n",
    "        return x0\n",
    "    else:\n",
    "        return newton_rec(poly, x0 - (poly(x0)/poly_deriv(x0)),tol)\n"
   ]
  },
  {
   "cell_type": "code",
   "execution_count": 44,
   "id": "f51540fa",
   "metadata": {},
   "outputs": [
    {
     "data": {
      "text/plain": [
       "5.000000068914138"
      ]
     },
     "execution_count": 44,
     "metadata": {},
     "output_type": "execute_result"
    }
   ],
   "source": [
    "newton_rec(Polynomial([30,-11,-4,1]),10)"
   ]
  },
  {
   "cell_type": "code",
   "execution_count": 153,
   "id": "644a6922",
   "metadata": {},
   "outputs": [
    {
     "data": {
      "text/plain": [
       "1.475431576496915"
      ]
     },
     "execution_count": 153,
     "metadata": {},
     "output_type": "execute_result"
    }
   ],
   "source": [
    "newton_rec(Polynomial([-1,0,-1,1]),5,1e-1)"
   ]
  },
  {
   "cell_type": "markdown",
   "id": "6bbd032b-1bbf-494f-9282-7e9878cc5674",
   "metadata": {},
   "source": [
    "### Bisection Method for Polynomials\n",
    "The *bisection method* is an alternate way to find a root of a `Polynomial`. Write a function **`bisection(poly, interval, tol=1e-4, max_iter=50)`** that uses **binary search** to find a root of $P(x)$. Begin with a closed interval $[a, b]$ represented by a 2-element tuple `(a, b)`. If $P(a)$ and $P(b)$ are opposite signs, then a root is guaranteed to exist in interval $[a, b]$ because $P(x)$ is continuous. \n",
    "\n",
    "The method repeats these steps until a root is found (within the tolerance) or `max_iter` is reached:\n",
    "* Calculate the midpoint of the interval. If it corresponds to a root, return the root.\n",
    "* If the midpoint is not a root, repeat the process using either the left half or the right half of the interval.\n",
    "\n",
    "The function returns `None` if $P(a)$ and $P(b)$ are not opposite signs.\n",
    "\n",
    "(*Hint:* You may wish to use `np.sign(val)` which returns 1, 0, or -1, depending on whether `val` is positive, zero, or negative, respectively.)"
   ]
  },
  {
   "cell_type": "code",
   "execution_count": 102,
   "id": "fc069c59",
   "metadata": {},
   "outputs": [],
   "source": [
    "def bisection(poly, interval, tol=0.0001, max_iter=50):\n",
    "    #print(f'int ={interval}, iter={max_iter}')\n",
    "    if np.sign(poly(interval[0])) == np.sign(poly(interval[1])) and max_iter !=0:\n",
    "        return None\n",
    "    mid = (interval[0]+interval[1])/2\n",
    "    #print(f'mid ={mid}, val= {abs(poly(mid))}')\n",
    "    if abs(poly(mid)) < tol:\n",
    "        return mid\n",
    "    elif np.sign(poly(interval[0])) != np.sign(poly(mid)):\n",
    "        return bisection(poly, (interval[0], mid), tol, max_iter= max_iter-1)\n",
    "    elif np.sign(poly(mid)) != np.sign(poly(interval[1])):\n",
    "        return bisection(poly, (mid,interval[1]), tol, max_iter = max_iter-1)\n",
    "    #print(f'{interval}, {max_iter},{mid}, {abs(poly(mid))}')"
   ]
  },
  {
   "cell_type": "code",
   "execution_count": 103,
   "id": "44d24170",
   "metadata": {},
   "outputs": [
    {
     "data": {
      "text/plain": [
       "1.521392822265625"
      ]
     },
     "execution_count": 103,
     "metadata": {},
     "output_type": "execute_result"
    }
   ],
   "source": [
    "bisection(Polynomial([-2,-1,0,1]),(-2,10))"
   ]
  },
  {
   "cell_type": "code",
   "execution_count": null,
   "id": "676685a5",
   "metadata": {},
   "outputs": [],
   "source": []
  }
 ],
 "metadata": {
  "kernelspec": {
   "display_name": "Python 3 (ipykernel)",
   "language": "python",
   "name": "python3"
  },
  "language_info": {
   "codemirror_mode": {
    "name": "ipython",
    "version": 3
   },
   "file_extension": ".py",
   "mimetype": "text/x-python",
   "name": "python",
   "nbconvert_exporter": "python",
   "pygments_lexer": "ipython3",
   "version": "3.11.4"
  }
 },
 "nbformat": 4,
 "nbformat_minor": 5
}
