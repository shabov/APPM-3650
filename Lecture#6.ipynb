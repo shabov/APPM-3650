{
 "cells": [
  {
   "cell_type": "markdown",
   "metadata": {},
   "source": [
    "## Binary Search\n",
    "\n",
    "Let a = # subproblems to divide into $\\newline$"
   ]
  },
  {
   "cell_type": "markdown",
   "metadata": {},
   "source": [
    "Note that $\\log{n}< n^k $ for any $ k>0$, for large $n$ $\\newline$\n",
    "$\\lim_{n \\to \\infty} \\frac{\\log{n}}{n^k} = \\lim_{n\\to\\infty} \\frac{1}{n}\\frac{1}{kn^{k-1}}=\\lim_{n\\to\\infty}\\frac{1}{kn^k}=0$"
   ]
  },
  {
   "cell_type": "markdown",
   "metadata": {},
   "source": [
    "Show that $a^{\\log_b{n}} = n^{\\log_b{a}}$ $\\newline$\n",
    "$\\log_b({a^{\\log_b{n}}})=\\log_b({n^{\\log_b{a}}})$\n"
   ]
  },
  {
   "cell_type": "markdown",
   "metadata": {},
   "source": [
    "### <italic>From lecture tree chart<italic>"
   ]
  },
  {
   "cell_type": "markdown",
   "metadata": {},
   "source": [
    "a = # subproblems $\\newline$\n",
    "$\\frac{n}{b}$ = subproblem size $\\newline$\n",
    "height of tree = $\\log_b{n}$ $\\newline$\n",
    "\\# of leaves = $\\theta(a^\\text{tree height}) = \\theta(a^{\\log_b{n}}) = \\theta(n^{\\log_b{a}})$ $\\newline$\n",
    "Total = $\\theta(n^{\\log_b{a}}) + \\sum_{j=0}^{\\log_b{n-1}} a^j f(\\frac{n}{b^j})$"
   ]
  },
  {
   "cell_type": "markdown",
   "metadata": {},
   "source": [
    "## Master Theorem\n",
    "Given $T(n) = aT(\\frac{n}{b}) + f(n)$, compare $f(n)$ to $n^k$, where $k = \\log_b{a}$ $\\newline$\n",
    "Case 1: If $f(n)$ is polynomially smaller then $n^k$, then $T(n)$ is $\\theta(n^k$ $\\newline$\n",
    "Case 2: If $f(n)$ and $n^k$ are the same order, then $T(n)$ is $\\theta(n^k\\log{n})$ $\\newline$\n",
    "Case 3: If $f(n)$ is polynomially larger than $n^k$, then $T(n)$ is $\\theta(f(n))$ $\\newline$"
   ]
  },
  {
   "cell_type": "markdown",
   "metadata": {},
   "source": [
    "### Min-Max:\n",
    "$T(n) = 2T(\\frac{n}{2}) + \\theta(1)$ $\\newline$\n",
    "Comapare $f(n) = \\theta(1)$ to $ n^k = n^1$"
   ]
  },
  {
   "cell_type": "markdown",
   "metadata": {},
   "source": [
    "### Binary Search example\n",
    "$T(n) = T(\\frac{n}{2}) + \\theta(1)$ $\\newline$\n",
    "$a=1, b=2, k=\\log_b{a}=0$ $\\newline$\n",
    "Compare $f(n) = \\theta(1)$ to $n^k = n^0 = 1$\n",
    "Case 2"
   ]
  },
  {
   "cell_type": "markdown",
   "metadata": {},
   "source": [
    "$T(n) = 3T(\\frac{n}{4}) + n\\log{n}$ $\\newline$\n",
    "$a = 3, b=4, k=\\log_4{3}$ $\\newline$\n",
    "$f(n) = n\\log{n}$ to $n^k<n^1$ $\\newline$\n",
    "so, $f(n)$ is larger"
   ]
  },
  {
   "cell_type": "markdown",
   "metadata": {},
   "source": [
    "## Max Subarray\n",
    "ie: Stock Prices - what is the max possible profit?\n",
    "Identify an interval for max possible profit\n",
    "\n"
   ]
  },
  {
   "cell_type": "code",
   "execution_count": 1,
   "metadata": {},
   "outputs": [],
   "source": [
    "import math"
   ]
  },
  {
   "cell_type": "code",
   "execution_count": 13,
   "metadata": {},
   "outputs": [
    {
     "data": {
      "text/plain": [
       "1.7712437491614221"
      ]
     },
     "execution_count": 13,
     "metadata": {},
     "output_type": "execute_result"
    }
   ],
   "source": [
    "math.log(7,3)\n"
   ]
  },
  {
   "cell_type": "markdown",
   "metadata": {},
   "source": [
    "## Exhaustive Search (Brute force)\n",
    "n days = 16"
   ]
  },
  {
   "cell_type": "code",
   "execution_count": null,
   "metadata": {},
   "outputs": [],
   "source": [
    "def exBruteForcePsuedo():\n",
    "    max_profit = 0\n",
    "    for i in range(n_days):\n",
    "        for j in range(i+1, n+1):\n",
    "            profit = ~ day i->j\n",
    "            if profit > max_profit:\n",
    "                max_profit = profit\n",
    "    return max_profit"
   ]
  },
  {
   "cell_type": "markdown",
   "metadata": {},
   "source": [
    "## Divide and Conquer:\n",
    "divide n into parts:\n",
    "    -calc max profit\n",
    "        -left half\n",
    "        -right half\n",
    "        -stradle middle"
   ]
  },
  {
   "cell_type": "code",
   "execution_count": 24,
   "metadata": {},
   "outputs": [
    {
     "data": {
      "text/plain": [
       "1.0744871473609634"
      ]
     },
     "execution_count": 24,
     "metadata": {},
     "output_type": "execute_result"
    }
   ],
   "source": []
  },
  {
   "cell_type": "code",
   "execution_count": 22,
   "metadata": {},
   "outputs": [
    {
     "data": {
      "text/plain": [
       "2"
      ]
     },
     "execution_count": 22,
     "metadata": {},
     "output_type": "execute_result"
    }
   ],
   "source": [
    "5//2"
   ]
  },
  {
   "cell_type": "code",
   "execution_count": 25,
   "metadata": {},
   "outputs": [
    {
     "data": {
      "text/plain": [
       "[1, 3, 5, 7, 9, 11, 13, 15, 17, 19]"
      ]
     },
     "execution_count": 25,
     "metadata": {},
     "output_type": "execute_result"
    }
   ],
   "source": []
  },
  {
   "cell_type": "code",
   "execution_count": null,
   "metadata": {},
   "outputs": [],
   "source": [
    "sum[ for n in range()]"
   ]
  },
  {
   "cell_type": "code",
   "execution_count": null,
   "metadata": {},
   "outputs": [],
   "source": []
  },
  {
   "cell_type": "markdown",
   "metadata": {},
   "source": [
    "185 1\n",
    "\n",
    "92 0\n",
    "\n",
    "46 0\n",
    "\n",
    "23 1\n",
    "\n",
    "11 1\n",
    "\n",
    "5 1\n",
    "\n",
    "2 0\n",
    "\n",
    "1 1\n",
    "\n",
    "\n",
    "1 0 0 1 1 1 0 1"
   ]
  },
  {
   "cell_type": "code",
   "execution_count": null,
   "metadata": {},
   "outputs": [],
   "source": []
  },
  {
   "cell_type": "code",
   "execution_count": null,
   "metadata": {},
   "outputs": [],
   "source": []
  },
  {
   "cell_type": "code",
   "execution_count": 2,
   "metadata": {},
   "outputs": [
    {
     "name": "stdout",
     "output_type": "stream",
     "text": [
      "150 500\n"
     ]
    }
   ],
   "source": [
    "def func(num1, num2): \n",
    "    a = num1\n",
    "    b = num2\n",
    "    result = 0\n",
    " \n",
    "    while (a > 0):     \n",
    "        if (a % 2 == 1):\n",
    "            result += b            \n",
    "        a //= 2\n",
    "        b *= 2\n",
    "     \n",
    "    return result\n",
    "\n",
    "print(func(10, 15), func(25, 20))"
   ]
  },
  {
   "cell_type": "code",
   "execution_count": 20,
   "metadata": {},
   "outputs": [
    {
     "data": {
      "text/plain": [
       "0"
      ]
     },
     "execution_count": 20,
     "metadata": {},
     "output_type": "execute_result"
    }
   ],
   "source": []
  },
  {
   "cell_type": "code",
   "execution_count": null,
   "metadata": {},
   "outputs": [],
   "source": []
  }
 ],
 "metadata": {
  "interpreter": {
   "hash": "bff285996b61d1cce75d586d554bbdb644f20e64756204b2dee51c0e7bed81f5"
  },
  "kernelspec": {
   "display_name": "Python 3.11.4 ('base')",
   "language": "python",
   "name": "python3"
  },
  "language_info": {
   "codemirror_mode": {
    "name": "ipython",
    "version": 3
   },
   "file_extension": ".py",
   "mimetype": "text/x-python",
   "name": "python",
   "nbconvert_exporter": "python",
   "pygments_lexer": "ipython3",
   "version": "3.11.4"
  },
  "orig_nbformat": 4
 },
 "nbformat": 4,
 "nbformat_minor": 2
}
