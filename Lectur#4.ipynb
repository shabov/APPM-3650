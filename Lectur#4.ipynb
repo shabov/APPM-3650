{
 "cells": [
  {
   "cell_type": "markdown",
   "metadata": {},
   "source": [
    "If $f(n)$ is $O(g(n))$ then $g(n)$ is $\\Omega(f(n))$"
   ]
  },
  {
   "cell_type": "markdown",
   "metadata": {},
   "source": [
    "## o (little 'o') Notation for Upper Bounds\n",
    "A function $f(n)$ is $o(g(n))$ for all constants $c > 0$, $\\newline$ if there is a constant $n_0$ such that \n",
    "    $0 \\leq f(n) < cg(n)$, $\\newline$ for all $n \\geq n_0$\n",
    "    $\\newline$\n",
    "    $\\newline f(n)$ is $O(g(n))$ but not $\\theta(g(n))$\n",
    "    $\\newline\\lim_{n\\to\\infty}\\frac{f(n)}{g(n)} = 0$"
   ]
  },
  {
   "cell_type": "markdown",
   "metadata": {},
   "source": [
    "## $\\omega$  Notation\n",
    "A function $f(n)$ is $\\omega(g(n))$ for all constants $c>0$, if there is a constant $n_0$ such that $\\newline 0 \\leq cg(n) < f(n)$\n",
    "$\\newline$ for all $n \\geq n_0$\n",
    "$\\newline f(n)$ is $\\Omega(g(n))$ but not $\\theta(g(n))$\n",
    "$\\newline$"
   ]
  },
  {
   "cell_type": "markdown",
   "metadata": {},
   "source": [
    "Suppose $\\lim_{n\\to\\infty}\\frac{f(n)}{g(n)} = c$ for $c>0$\n",
    "$\\newline$ Then $f(n)$ is $\\theta(g(n)), \\Omega(g(n)), O(g(n))$\n",
    "$\\newline g(n)"
   ]
  },
  {
   "cell_type": "markdown",
   "metadata": {},
   "source": [
    "Suppose $\\lim_{n\\to\\infty}\\frac{f(n)}{g(n)} = 0$ \n",
    "$\\newline$ Then $f(n)$ is $o(g(n)), O(g(n))$\n",
    "$\\newline g(n)$ is $\\omega(f(n)), \\Omega(f(n))$"
   ]
  },
  {
   "cell_type": "markdown",
   "metadata": {},
   "source": [
    "### Determine $T(n)$"
   ]
  },
  {
   "cell_type": "code",
   "execution_count": 1,
   "metadata": {},
   "outputs": [],
   "source": [
    "def triples_ytd(triples):\n",
    "    result = []\n",
    "    for i in range(1,len(triples)+1):\n",
    "        total = sum(triples[:i])\n",
    "        result.append(total)\n",
    "    return result\n"
   ]
  },
  {
   "cell_type": "markdown",
   "metadata": {},
   "source": [
    "T == running time\n",
    "$\\newline$ n == input size\n",
    "$\\newline$ in this case, n == len(triples)\n",
    "$\\newline f(n) \\in g(n)$\n",
    "\n",
    "$\\newline \\frac{cost * repitions}{c_1 *1} \\rightarrow c_2 * n \\rightarrow \\text{assignments}\\:c_3*n \\rightarrow \\text{\\# adds}\\: c_4 * (0+1+2+...+(n-1)) \\rightarrow c_5 *n \\rightarrow c_6*1$\n",
    "$\\newline T(n) = (c_1+c_6) * 1 + (c_2+c_3+c_5)n + c_4 * \\frac{(n-1)n}{2} \\newline$\n",
    "$T(n)$ is $\\theta(n^2)$"
   ]
  },
  {
   "cell_type": "code",
   "execution_count": null,
   "metadata": {},
   "outputs": [],
   "source": [
    "def triples_ytd2(triples):\n",
    "    result = [triples[0]]\n",
    "    for t in triples[1:]:\n",
    "        new_total = t + result[-1]\n",
    "        result.append(new_total)\n",
    "    return result"
   ]
  },
  {
   "cell_type": "markdown",
   "metadata": {},
   "source": [
    "$\\newline \\frac{cost * repitions}{c_1 *1} \\rightarrow c_2 * (n-1) \\rightarrow \\text{assignments}\\:c_3*(n-1) \\rightarrow \\text{\\# adds}\\: c_4 * (n-1))) \\rightarrow c_5 *1$\n",
    "$\\newline T(n) = (c_1+c_5) + (c_2+c_3+c_4)(n-1) + c_4\\newline$\n",
    "$T(n)$ is $\\theta(n)$"
   ]
  },
  {
   "cell_type": "markdown",
   "metadata": {},
   "source": [
    "## Permutations\n",
    "ABC = $3*2*1 = 3! = 6$\n",
    "$\\newline$ ABCDE = $5!=120 \\newline$\n",
    "Write a recursice function to find all permutations of n distinct chars"
   ]
  },
  {
   "cell_type": "markdown",
   "metadata": {},
   "source": [
    "ABC, CAB, BCA, ACB, BAC, CBA"
   ]
  },
  {
   "cell_type": "code",
   "execution_count": null,
   "metadata": {},
   "outputs": [],
   "source": [
    "def perm(chars):\n",
    "    perm_lst = [chars]"
   ]
  }
 ],
 "metadata": {
  "interpreter": {
   "hash": "bff285996b61d1cce75d586d554bbdb644f20e64756204b2dee51c0e7bed81f5"
  },
  "kernelspec": {
   "display_name": "Python 3.11.4 ('base')",
   "language": "python",
   "name": "python3"
  },
  "language_info": {
   "codemirror_mode": {
    "name": "ipython",
    "version": 3
   },
   "file_extension": ".py",
   "mimetype": "text/x-python",
   "name": "python",
   "nbconvert_exporter": "python",
   "pygments_lexer": "ipython3",
   "version": "3.11.4"
  },
  "orig_nbformat": 4
 },
 "nbformat": 4,
 "nbformat_minor": 2
}
