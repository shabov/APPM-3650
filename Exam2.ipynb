{
 "cells": [
  {
   "cell_type": "code",
   "execution_count": null,
   "metadata": {},
   "outputs": [],
   "source": []
  },
  {
   "cell_type": "markdown",
   "metadata": {},
   "source": [
    "# Exam 2 Review"
   ]
  },
  {
   "cell_type": "markdown",
   "metadata": {},
   "source": [
    "## Data Structures\n",
    "Stacks, Queues, Linked Lists <br>\n",
    "BST <br>\n",
    "Heaps <br>\n",
    "Hash Tables <br>\n",
    "### Operations\n",
    "Insert <br>\n",
    "Delete <br>\n",
    "Search <br>\n",
    "Max <br>"
   ]
  },
  {
   "cell_type": "markdown",
   "metadata": {},
   "source": [
    "Heaps and BST are binary trees <br>\n",
    "BST are not necissarly balanced, where as Heaps are balanced <br>\n",
    "Balanced tress have shorter run times <br>\n",
    "\n",
    "### Implementation\n",
    "Heap - array <br> \n",
    "BST - linked nodes <br>\n",
    "\n",
    "### Run Times\n",
    "Heap: <br>\n",
    "Search: $O(n)$ <br>\n",
    "Max: $O(n)$ <br>\n",
    "Sort: $O(nlogn)$<br>\n",
    "Insertion: $O(log(n))$\n",
    "Delete: $O(log(n))$\n",
    "<br> <br>\n",
    "BST: <br>\n",
    "Search: $O(n)$ <br>\n",
    "Max: $\\Theta(1)$ <br>\n",
    "Sort: inorder walk $\\rightarrow O(n)$ <br>\n",
    "Insert: $O(h)$ <br>\n",
    "Delete: $O(h)$ <br>\n",
    "<br><br>\n",
    "Hash Tables: <br>\n",
    "Insert: $\\Theta(1)/\\Theta(1)$ <br>\n",
    "Delete: $\\Theta(1)/O(n)$ <br>\n",
    "Search: $\\Theta(1)/O(n)$ <br>\n",
    "Max: $O(n)$"
   ]
  },
  {
   "cell_type": "markdown",
   "metadata": {},
   "source": [
    "## Sorting Algorithms\n",
    "#### Comparison\n",
    "Bubble Sort <br> \n",
    "Best: $O(n^2)$<br>\n",
    "Worst: $O(n^2)$<br>\n",
    "Stable: Yes <br>\n",
    "<br>\n",
    "Insertion Sort <br> \n",
    "Best: $O(n)$<br>\n",
    "Worst: $O(n^2)$<br>\n",
    "Stable: Yes<br>\n",
    "<br>\n",
    "Quicksort <br> \n",
    "Best: $O(nlog(n))$<br>\n",
    "Worst: $O(n^2)$<br>\n",
    "Stable: No<br>\n",
    "<br>\n",
    "Mergesort <br>\n",
    "Best: $O(nlog(n))$<br>\n",
    "Worst: $O(nlog(n))$<br>\n",
    "Stable: Yes <br>\n",
    "<br>\n",
    "Heapsort <br>\n",
    "Best: $O(nlog(n))$<br>\n",
    "Worst: $O(nlog(n))$<br>\n",
    "Stable: Yes <br>\n",
    "<br>\n",
    "#### Non-Comparison\n",
    "Counting sort <br>\n",
    "Best: $O(n+k)$<br>\n",
    "Worst: $O(n+k)$<br>\n",
    "Stable: Yes <br>\n",
    "<br>\n",
    "Radix sort <br>\n",
    "Best: $O(d(n+k))$<br>\n",
    "Worst: $O(d(n+k))$<br>\n",
    "Stable: Yes <br>\n",
    "<br>\n",
    "\n",
    "BST <br>\n",
    "Best: $O(nlog(n)+O(n))$<br>\n",
    "Worst: $O(n^2)+O(n)$<br>\n",
    "Stable: Yes <br>\n",
    "<br>"
   ]
  },
  {
   "cell_type": "markdown",
   "metadata": {},
   "source": [
    "## Build a Max Heap\n",
    "`[14,8,9,18,7,3,12,10]`\n",
    "$\\rightarrow$  `[18,14,12,10,7,3,9,8]` <br> <br>\n",
    "Heapsort: <br>\n",
    "`[18,14,12,10,7,3,9,8]` <br>\n",
    "`[8,14,12,10,7,3,9,18]` <br>\n",
    "`[14,10,12,8,7,3,9,18]` <br>\n",
    "`[9,10,12,8,7,3,14,18]` <br>\n",
    "`[12,10,9,8,7,3,14,18]` <br>\n",
    "etc."
   ]
  },
  {
   "cell_type": "markdown",
   "metadata": {},
   "source": [
    "## BFS and DFS\n",
    "Breadth First Search: Looks at all neighboring nodes <br>\n",
    "Depth First Search: Shortest Path <br>\n"
   ]
  },
  {
   "cell_type": "markdown",
   "metadata": {},
   "source": [
    "## Dynamic vs Greedy\n",
    "### Dynamic\n",
    "Rod Cutting <br>\n",
    "LCS <br>\n",
    "Max Path<br>\n",
    "Fib <br>\n",
    "<br>\n",
    "Bottom Up<br>\n",
    "Top Down <br>\n",
    "\n",
    "### Greedy\n",
    "Activity Scheduling (optimal)<br>\n",
    "Knapsack <br>\n",
    "Huffman optimal<br>\n"
   ]
  },
  {
   "cell_type": "markdown",
   "metadata": {},
   "source": []
  }
 ],
 "metadata": {
  "language_info": {
   "name": "python"
  },
  "orig_nbformat": 4
 },
 "nbformat": 4,
 "nbformat_minor": 2
}
