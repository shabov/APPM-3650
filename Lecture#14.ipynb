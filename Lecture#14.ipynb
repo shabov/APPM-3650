{
 "cells": [
  {
   "cell_type": "markdown",
   "metadata": {},
   "source": [
    "## Max Path\n",
    "Start with a $n$ x $n$ grid <br>\n",
    "Find the path of max value <br>\n",
    "Move roght or down with each step (from top left to bottom right) <br>\n",
    "\n",
    "$\\begin{array}{lcr} 4&3&8&5\\\\9&5&6&2\\\\1&9&7&6 \\end{array}$\n",
    "\n",
    "### Brute force (exhaustive search)\n",
    " Check total value starting at `A[1,2]` and `A[2,1]` <br>\n",
    " add `A[1,1]`\n",
    "\n",
    "### Dynamic Programming\n",
    "$A =\\begin{array}{lcr} 4&3&8&5\\\\9&5&6&2\\\\1&9&7&6 \\end{array}$ <br>\n",
    "Maximize total # points moving right or down\n",
    "\n",
    "$Val = \\begin{array}{lcr} 4&7&15&20\\\\13&18&24&26\\\\14&27&34&40 \\end{array}$ $Solution = \\begin{array}{lcr} S&\\leftarrow&\\leftarrow&\\leftarrow\\\\\\uparrow&\\leftarrow&\\leftarrow&\\leftarrow\\\\\\uparrow&\\uparrow&\\leftarrow&\\leftarrow \\end{array}$"
   ]
  },
  {
   "cell_type": "markdown",
   "metadata": {},
   "source": [
    "## Longest Common Subsequence (LCS)\n",
    "i.e DNA Bases <br>\n",
    "Subsequence characters must match in order, not necessarily consecutive <br>\n",
    "`X = UMBRELLA` <br>\n",
    "`Y = MEGA` <br>\n",
    "Longest subsequence length = 3 <br>\n",
    "`X = _M__E__A` <br>\n",
    "`Y = ME_A` <br>\n",
    "\n",
    "### Brute Force\n",
    "Compute all poss subsequences of X = $2^m$ <br>\n",
    "Compute all poss subsequences of Y = $2^n$ <br>\n",
    "Check matches <br>\n",
    "$O(2^m2^n) = O(2^{m+n})$ <br>\n",
    "\n",
    "### Dynamic Programming\n",
    "Create matrix C <br>\n",
    "`C[i,j]` = Length of longest subsequence using $X_i, Y_j$ <br>\n",
    "`X = UMBRELLA` <br>\n",
    "`Y = MEGA` <br>\n",
    "Last characters match, increment LCS length, truncate X,Y <br>\n",
    "`X = UMBRELL_` <br>\n",
    "`Y = MEG_` <br>\n",
    "No Match, truncate X <br>\n",
    "`X = UMBREL__` <br>\n",
    "`Y = MEG_` <br>\n",
    "No Match, truncate X <br>\n",
    "`X = UMBRE___` <br>\n",
    "`Y = MEG_` <br>\n",
    "No Match, check table, truncate Y<br>\n",
    "`X = UMBRE__` <br>\n",
    "`Y = ME__` <br>\n",
    "Lat characters match, increment LCS length, truncate X,Y <br>\n",
    "`X = UMBR___` <br>\n",
    "`Y = M___` <br>\n",
    "\n"
   ]
  },
  {
   "cell_type": "markdown",
   "metadata": {},
   "source": [
    "`X = ABCBDAB` <br>\n",
    "`Y = BDCABA` <br>\n",
    "$\\begin{array}{lcr} o&j&0&1&2&3&4&5&6\\\\i&o&y&B&D&C&A&B&A\\\\0&x&0&0&0&0&0&0&0\\\\1&A&0&0&0&0&0&0&0\\\\2&B&0&0&0&0&0&0&0\\\\3&C&0&0&0&0&0&0&0\\\\4&B&0&0&0&0&0&0&0\\\\5&D&0&0&0&0&0&0&0\\\\6&A&0&0&0&0&0&0&0\\\\7&B&0&0&0&0&0&0&0\\end{array} \\newline$ \n",
    "\n",
    "$\\begin{array}{lcr} o&j&0&1&2&3&4&5&6\\\\i&o&y&B&D&C&A&B&A\\\\0&x&0&0&0&0&0&0&0\\\\1&A&0&0_\\uparrow&0_\\uparrow&0_\\uparrow&1_\\nwarrow&1_\\leftarrow&1_\\nwarrow\\\\2&B&0&0&0&0&0&0&0\\\\3&C&0&0&0&0&0&0&0\\\\4&B&0&0&0&0&0&0&0\\\\5&D&0&0&0&0&0&0&0\\\\6&A&0&0&0&0&0&0&0\\\\7&B&0&0&0&0&0&0&0\\end{array}$"
   ]
  },
  {
   "cell_type": "markdown",
   "metadata": {},
   "source": [
    "$0_\\uparrow$"
   ]
  },
  {
   "cell_type": "code",
   "execution_count": null,
   "metadata": {},
   "outputs": [],
   "source": []
  },
  {
   "cell_type": "code",
   "execution_count": null,
   "metadata": {},
   "outputs": [],
   "source": [
    "\n"
   ]
  }
 ],
 "metadata": {
  "language_info": {
   "name": "python"
  },
  "orig_nbformat": 4
 },
 "nbformat": 4,
 "nbformat_minor": 2
}
