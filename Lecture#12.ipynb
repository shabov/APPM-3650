{
 "cells": [
  {
   "cell_type": "markdown",
   "metadata": {},
   "source": [
    "## Review\n",
    "\n",
    "### Complexity (Best/Worst)\n",
    "BST $\\rightarrow \\Theta(n)$  $\\Theta(n) \\newline$\n",
    "Bubble Sort $\\rightarrow \\Theta(n^2)$  $\\Theta(n^2) \\newline$\n",
    "Insertion Sort $\\rightarrow \\Theta(n)$  $\\Theta(n^2) \\newline$\n",
    "Merge Sort $\\rightarrow \\Theta(nlog(n))$ $\\Theta(nlog(n))$"
   ]
  },
  {
   "cell_type": "markdown",
   "metadata": {},
   "source": [
    "## Quicksort Algorithm\n",
    "Divide and Conquer \n",
    "Suppose you have array A and want to divide into sublists and recursive sort the sublists <br>\n",
    "With quicksort take the last element (pivot element), decide which elements are larger/smaller <br>\n",
    "Partition array with smaller elements on left side of pivot and larger elements on right side <br>\n"
   ]
  },
  {
   "cell_type": "code",
   "execution_count": null,
   "metadata": {},
   "outputs": [],
   "source": [
    "def quicksort(A, p , r):\n",
    "    if p < r:\n",
    "        q = partition(A, p, r)\n",
    "        quicksort(A, p, q-1)\n",
    "        quicksort(A, p, q+1)"
   ]
  },
  {
   "cell_type": "markdown",
   "metadata": {},
   "source": [
    "### Example\n",
    "\n",
    "  2 8 7 1 3 4 <br>\n",
    "| 2         4 <br>\n",
    "2 | 8       4 <br>\n",
    "2 | 8 7     4 <br>\n",
    "2 | 8 7 1   4 <br>\n",
    "2 1 | 7 8   4 <br>\n",
    "2 1 | 7 8 3 4 <br>\n",
    "2 1 3 | 8 7 4 <br>\n",
    "2 1 3 4 7 8 <br>\n",
    "\n",
    "return index of pivot\n"
   ]
  },
  {
   "cell_type": "code",
   "execution_count": null,
   "metadata": {},
   "outputs": [],
   "source": [
    "def partition(A, start, end):\n",
    "    pivot = A[end]\n",
    "    divider = start - 1\n",
    "    for j in range(start, end):\n",
    "        if A[j] <= pivot:\n",
    "            divider = divider+1\n",
    "            exchange"
   ]
  },
  {
   "cell_type": "markdown",
   "metadata": {},
   "source": [
    "## Analysis\n",
    "Partition $\\Theta(n) \\newline$\n",
    "### Quicksort Worst case: pivot is max or min element $\\newline$\n",
    "$T(n) = T(n-1) + \\Theta(n) \\newline$\n",
    "total #ops: $c \\cdot n + c(n-1) + c(n-2) + \\cdots + c \\cdot 2 + c \\cdot 1 \\rightarrow \\Theta(n^2) \\newline$\n",
    "### Quicksort Best case: balanced partitions $\\newline$\n",
    "$T(n) = 2T(n/2) + \\Theta(n) \\newline$\n",
    "By the Master Theorem: $\\newline$\n",
    "$T(n) = \\Theta(nlog(n))$\n",
    "### Average Case\n",
    "Still $\\Theta(nlog(n))$"
   ]
  },
  {
   "cell_type": "markdown",
   "metadata": {},
   "source": [
    "## Heaps\n",
    "Almost complete binary tree <br>\n",
    "Every level must be filled <br>\n",
    "Can be sotred in an array, [root, left child, right child, left left leaf, left right leaf, $\\cdots$] $\\newline$\n",
    "Height: $\\lfloor log(n) \\rfloor$\n",
    "\n",
    "### Max Heap\n",
    "Property: every parent $\\geq$ children, every child $\\leq$ parent <br>\n",
    "Useful for max priority queue <br>\n",
    "max value at root: A[1] <br>\n",
    "$\\Theta(1)$, then `max-heapify`"
   ]
  },
  {
   "cell_type": "markdown",
   "metadata": {},
   "source": [
    "### Example\n",
    "[7, 4, 5, 2, 1, 3] <br>\n",
    "`Left(i)` $\\rightarrow$ `return 2*i` <br>\n",
    "`Right(i)` $\\rightarrow$ `return (2*i) + 1` <br>\n",
    "`Parent(i)` $\\rightarrow$ `return` $\\lfloor \\frac{i}{2} \\rfloor$<br>\n"
   ]
  },
  {
   "cell_type": "markdown",
   "metadata": {},
   "source": [
    "## Heap Operations\n",
    "### Max-Heapify\n"
   ]
  },
  {
   "cell_type": "code",
   "execution_count": null,
   "metadata": {},
   "outputs": [],
   "source": []
  },
  {
   "cell_type": "code",
   "execution_count": null,
   "metadata": {},
   "outputs": [],
   "source": []
  },
  {
   "cell_type": "code",
   "execution_count": null,
   "metadata": {},
   "outputs": [],
   "source": []
  },
  {
   "cell_type": "code",
   "execution_count": null,
   "metadata": {},
   "outputs": [],
   "source": []
  },
  {
   "cell_type": "markdown",
   "metadata": {},
   "source": []
  }
 ],
 "metadata": {
  "language_info": {
   "name": "python"
  },
  "orig_nbformat": 4
 },
 "nbformat": 4,
 "nbformat_minor": 2
}
