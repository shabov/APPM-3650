{
 "cells": [
  {
   "cell_type": "markdown",
   "id": "4c6b8523-33dc-48cb-87e4-e5e5b8252fc2",
   "metadata": {},
   "source": [
    "# HW 1\n",
    "\n",
    "**Upload two files** to Gradescope: \n",
    "* `HW1.ipynb` (run all cells to make sure that outputs are visible, especially plots)\n",
    "* `HW1.py` (which will be autograded)\n",
    "\n",
    "___"
   ]
  },
  {
   "cell_type": "code",
   "execution_count": 3,
   "id": "bafd1de9",
   "metadata": {},
   "outputs": [],
   "source": [
    "import math\n",
    "import matplotlib.pyplot as plt"
   ]
  },
  {
   "cell_type": "markdown",
   "id": "25462514-2668-4bcd-9839-0fd7c184b8f6",
   "metadata": {},
   "source": [
    "### Fractions\n",
    "\n",
    "Create a **`Fraction`** class to represent fractions as objects. The **`__init__`** method should do the following:\n",
    "* Store the numerator and denominator as separate attributes. Assume that they are `int`s.\n",
    "* Set the default value for the denominator to be 1.\n",
    "* If the fraction is negative, set the numerator to be negative. \n",
    "* Generate an error if the denominator is 0 by calling `raise ZeroDivisionError('division by zero')`.\n",
    "* The fraction should be stored in simplest form. Use the `math.gcd()` function.\n",
    "\n",
    "Include the following methods. For arithmetic operations, return a `Fraction` in simplest form.\n",
    "* **`__repr()__`**: returns a string representation of a `Fraction` in the form `numerator/denominator` with no spaces. \n",
    "* **`__eq__()`**: returns `True` if two `Fraction`s are equal\n",
    "* **`__add__()`**: adds two `Fraction`s\n",
    "* **`__sub__()`**: subtracts two `Fraction`s\n",
    "* **`__mul__()`**: multiplies two `Fraction`s\n",
    "* **`__truediv__()`**: divides two `Fraction`s (raise an error if the second fraction is zero)\n",
    "* **`plot()`**: uses a row of colored rectangles to illustrate a `Fraction` with value between 0 and 1. If the `Fraction` value is greater than 1, display only the remainder part. Use the `.plot()` or `.fill()` command.\n",
    "\n",
    "Examples:<br>\n",
    "`Fraction(3, 5)` returns a `Fraction` and displays the string `3/5`.<br>\n",
    "`Fraction(6, -10)` returns a `Fraction` and displays the string `-3/5`.<br>\n",
    "`Fraction(-3, 5) == Fraction(6, -10)` returns `True`.<br>\n",
    "`Fraction(3, 5) + Fraction(7, 5)` returns a `Fraction` and displays the string `2/1`.<br>\n",
    "`Fraction(2, 5) - Fraction(3, 5)` returns a `Fraction` and displays the string `-1/5`.<br>\n",
    "`Fraction(3, 5) * Fraction(5, 6)` returns a `Fraction` and displays the string `1/2`.<br>\n",
    "`Fraction(3, 5) / Fraction(5, 6)` returns a `Fraction` and displays the string `18/25`.<br>\n",
    "`Fraction(17, 5).plot()` displays a row of 5 rectangles with 2 of the rectangles shaded, representing the value 2/5.\n",
    "\n",
    "<img src=\"http://www.coloradomath.org/python/fracplot.jpg\" width=\"259\" height=\"69\" />"
   ]
  },
  {
   "cell_type": "code",
   "execution_count": 4,
   "id": "bbb873d8-f341-4ea7-ac1b-a20dfd50dab2",
   "metadata": {},
   "outputs": [],
   "source": [
    "class Fraction:\n",
    "    def __init__(self, numerator, denominator = 1):\n",
    "        if denominator == 0:\n",
    "            raise ZeroDivisionError('division by zero')\n",
    "        if denominator < 0:\n",
    "            numerator= -numerator\n",
    "            denominator = -denominator\n",
    "        self.numerator = int(numerator/math.gcd(numerator,denominator))\n",
    "        self.denominator = int(denominator/math.gcd(numerator,denominator))\n",
    "        \n",
    "    def __repr__(self):\n",
    "        return f'{self.numerator}/{self.denominator}'\n",
    "\n",
    "    def __eq__(self, other):\n",
    "        if self.numerator == other.numerator and self.denominator == other.denominator:\n",
    "            return True\n",
    "        else:\n",
    "            return False\n",
    "\n",
    "    def __add__(self, other):\n",
    "        new_numerator = self.numerator*other.denominator\n",
    "        new_denominator = self.denominator * other.denominator\n",
    "        new_other_numerator = self.denominator * other.numerator\n",
    "        new_other_denominator = self.denominator * other.denominator\n",
    "        #print(f'{self} + {other} = {new_numerator}/{new_denominator} + {new_other_numerator}/{new_other_denominator}')\n",
    "        return Fraction(new_numerator+new_other_numerator, new_denominator)   \n",
    "\n",
    "    def __sub__(self, other):\n",
    "        new_numerator = self.numerator*other.denominator\n",
    "        new_denominator = self.denominator * other.denominator\n",
    "        new_other_numerator = self.denominator * other.numerator\n",
    "        new_other_denominator = self.denominator * other.denominator\n",
    "        return Fraction(new_numerator-new_other_numerator, new_denominator) \n",
    "\n",
    "    def __mul__(self, other):\n",
    "        return Fraction(self.numerator * other.numerator, self.denominator * other.denominator)\n",
    "\n",
    "    def __truediv__(self,other):\n",
    "        return Fraction(self.numerator * other.denominator, self.denominator * other.numerator)\n",
    "    \n",
    "    def plot(self):\n",
    "        plt.axis('equal')\n",
    "        plt.axis('off')\n",
    "        val = self.numerator/self.denominator\n",
    "        if val > 1:\n",
    "            self.numerator %= self.denominator\n",
    "        for n in range(self.numerator):\n",
    "            fill_x = [n,n,n+1,n+1]\n",
    "            fill_y = [0,1,1,0]\n",
    "            plt.fill(fill_x, fill_y, color = 'blue')\n",
    "        for m in range(self.denominator):\n",
    "            box_x= [m,m,m+1,m+1,m]\n",
    "            box_y= [0,1,1,0,0]\n",
    "            plt.plot(box_x,box_y, color = 'black')\n",
    "    \n",
    "        \n"
   ]
  },
  {
   "cell_type": "code",
   "execution_count": 5,
   "id": "5bd11160",
   "metadata": {},
   "outputs": [
    {
     "data": {
      "image/png": "[encoded data removed]",
      "text/plain": [
       "<Figure size 640x480 with 1 Axes>"
      ]
     },
     "metadata": {},
     "output_type": "display_data"
    }
   ],
   "source": [
    "Fraction(17,5).plot()"
   ]
  },
  {
   "cell_type": "code",
   "execution_count": 6,
   "id": "c23b1fe3",
   "metadata": {},
   "outputs": [
    {
     "data": {
      "text/plain": [
       "-1/5"
      ]
     },
     "execution_count": 6,
     "metadata": {},
     "output_type": "execute_result"
    }
   ],
   "source": [
    "Fraction(2,5) - Fraction(3,5)"
   ]
  },
  {
   "cell_type": "code",
   "execution_count": 7,
   "id": "3d2daf37",
   "metadata": {},
   "outputs": [
    {
     "data": {
      "text/plain": [
       "1/2"
      ]
     },
     "execution_count": 7,
     "metadata": {},
     "output_type": "execute_result"
    }
   ],
   "source": [
    "Fraction(3,5)*Fraction(5,6)"
   ]
  },
  {
   "cell_type": "code",
   "execution_count": 8,
   "id": "08c0ab8b",
   "metadata": {},
   "outputs": [
    {
     "data": {
      "text/plain": [
       "18/25"
      ]
     },
     "execution_count": 8,
     "metadata": {},
     "output_type": "execute_result"
    }
   ],
   "source": [
    "Fraction(3,5)/Fraction(5,6)"
   ]
  },
  {
   "cell_type": "code",
   "execution_count": 9,
   "id": "67efc2e7",
   "metadata": {},
   "outputs": [
    {
     "data": {
      "text/plain": [
       "1/2"
      ]
     },
     "execution_count": 9,
     "metadata": {},
     "output_type": "execute_result"
    }
   ],
   "source": [
    "Fraction(1,2)"
   ]
  },
  {
   "cell_type": "code",
   "execution_count": 10,
   "id": "05131046",
   "metadata": {},
   "outputs": [
    {
     "data": {
      "text/plain": [
       "True"
      ]
     },
     "execution_count": 10,
     "metadata": {},
     "output_type": "execute_result"
    }
   ],
   "source": [
    "Fraction(4,15) == Fraction(20,75)"
   ]
  },
  {
   "cell_type": "markdown",
   "id": "85324176-9b37-4c05-a0e7-7d9d43412344",
   "metadata": {},
   "source": [
    "### Unit Fractions\n",
    "\n",
    "A *unit fraction* has a numerator of 1. Create a **UnitFraction** subclass that inherits all of the properties of the `Fraction` class.\n",
    "\n",
    "Example:<br>\n",
    "`UnitFraction(2) * UnitFraction(3)` returns a Fraction object and displays the string `1/6`.<br>\n",
    "`UnitFraction(2) == Fraction(3, 6)` returns `True`."
   ]
  },
  {
   "cell_type": "code",
   "execution_count": 11,
   "id": "9e0dd27e-1935-4a29-8ae5-bfc2d830a88e",
   "metadata": {},
   "outputs": [],
   "source": [
    "class UnitFraction(Fraction):\n",
    "    def __init__(self, denominator):\n",
    "        self.numerator = 1\n",
    "        self.denominator = denominator"
   ]
  },
  {
   "cell_type": "code",
   "execution_count": 12,
   "id": "7f9d5390",
   "metadata": {},
   "outputs": [
    {
     "data": {
      "text/plain": [
       "(1/6, True)"
      ]
     },
     "execution_count": 12,
     "metadata": {},
     "output_type": "execute_result"
    }
   ],
   "source": [
    "UnitFraction(2) * UnitFraction(3), UnitFraction(2) == Fraction(3,6)"
   ]
  },
  {
   "cell_type": "markdown",
   "id": "903329f0-9d44-4aa5-989d-52dc0b6577e3",
   "metadata": {},
   "source": [
    "### Egyptian Fractions\n",
    "An *Egyptian fraction* is a representation of a fraction as a sum of distinct unit fractions, such as $\\frac 56 = \\frac 12 + \\frac 13$. Fibonacci's *greedy algorithm* can find an Egyptian fraction representation for any fraction $\\frac ab$ by repeatedly choosing the largest possible unit fraction. For example, applying the algorithm to the fraction $\\frac {7}{15}$ produces\n",
    "\n",
    "$$\\frac{7}{15} = \\frac 13 + \\frac{2}{15} = \\frac 13 + \\frac 18 + \\frac{1}{120}.$$\n",
    "\n",
    "Note that the greedy algorithm does not always find the shortest representation. For example, $\\frac{4}{17}$ equals $\\frac 15 + \\frac{1}{30} + \\frac{1}{510}$ with 3 unit fractions, however the greedy algorithm produces 4.\n",
    "\n",
    "Write a non-recursive function **egyptian(frac)** that returns a list of the `UnitFraction`s that sum to a given positive `Fraction`. If the fraction is greater than 1, the first element of the list should be an integer `Fraction`. (Can you figure out how to find the largest unit fraction at each step?) \n",
    "\n",
    "Example:<br>\n",
    "`egyptian(Fraction(7, 15))` returns a list of 3 `UnitFraction`s and displays `[1/3, 1/8, 1/120]`.<br>\n",
    "`egyptian(Fraction(17, 6))` returns a list containing a `Fraction` and two `UnitFraction`s, displaying `[2/1, 1/2, 1/3]`.<br>\n",
    "`egyptian(Fraction(3))` returns a list containing a single `Fraction`, displaying `[3/1]`."
   ]
  },
  {
   "cell_type": "code",
   "execution_count": 13,
   "id": "5b545aff-dd82-43c3-a0e0-07a609ae8ba6",
   "metadata": {},
   "outputs": [],
   "source": [
    "def egyptian(frac):\n",
    "    loop_frac = frac\n",
    "    frac_lst=[]\n",
    "    if loop_frac.numerator / loop_frac.denominator >= 1:\n",
    "        x = math.floor(loop_frac.numerator / loop_frac.denominator)\n",
    "        frac_lst.append(Fraction(x,1))\n",
    "        loop_frac -= Fraction(x,1)\n",
    "    while loop_frac.numerator != 0:\n",
    "        x = math.ceil(loop_frac.denominator/loop_frac.numerator)\n",
    "        frac_lst.append(UnitFraction(x))\n",
    "        loop_frac = Fraction(x * loop_frac.numerator - loop_frac.denominator, x * loop_frac.denominator)\n",
    "    return frac_lst\n",
    "\n",
    "\n",
    "        "
   ]
  },
  {
   "cell_type": "code",
   "execution_count": 14,
   "id": "3d59057a",
   "metadata": {},
   "outputs": [
    {
     "data": {
      "text/plain": [
       "([1/3, 1/8, 1/120], [2/1, 1/2, 1/3], [3/1], [1/5, 1/29, 1/1233, 1/3039345])"
      ]
     },
     "execution_count": 14,
     "metadata": {},
     "output_type": "execute_result"
    }
   ],
   "source": [
    "egyptian(Fraction(7,15)), egyptian(Fraction(17,6)), egyptian(Fraction(3)), egyptian(Fraction(4,17))"
   ]
  },
  {
   "cell_type": "markdown",
   "id": "1c20d759-3736-4cd5-b345-6c649117b6cd",
   "metadata": {},
   "source": [
    "Now write a recursive version called **egyptian_rec(frac)**."
   ]
  },
  {
   "cell_type": "code",
   "execution_count": 15,
   "id": "fcea5e83-3f1a-4f59-aa90-f4476928a5e5",
   "metadata": {},
   "outputs": [],
   "source": [
    "def egyptian_rec(frac):\n",
    "    if frac.denominator == 1:\n",
    "        return [frac]\n",
    "    if frac.numerator / frac.denominator >= 1:\n",
    "        if Fraction((math.ceil(frac.denominator/frac.numerator)) * frac.numerator - frac.denominator, (math.ceil(frac.denominator/frac.numerator)) * frac.denominator) == 0:\n",
    "            return [UnitFraction(math.ceil(frac.denominator/frac.numerator))]\n",
    "        else:\n",
    "            return [Fraction(math.floor(frac.numerator / frac.denominator),1)] + egyptian_rec(Fraction(frac.numerator - (math.floor(frac.numerator / frac.denominator)*frac.denominator), frac.denominator))\n",
    "\n",
    "    else:\n",
    "        if Fraction((math.ceil(frac.denominator/frac.numerator)) * frac.numerator - frac.denominator, (math.ceil(frac.denominator/frac.numerator)) * frac.denominator) == 0:\n",
    "            return [UnitFraction(math.ceil(frac.denominator/frac.numerator))]\n",
    "            #return frac_lst\n",
    "        else:\n",
    "            return [UnitFraction(math.ceil(frac.denominator/frac.numerator))] + egyptian_rec(Fraction((math.ceil(frac.denominator/frac.numerator)) * frac.numerator - frac.denominator, (math.ceil(frac.denominator/frac.numerator)) * frac.denominator))\n",
    "    \n",
    "    "
   ]
  },
  {
   "cell_type": "code",
   "execution_count": 16,
   "id": "27b959f9",
   "metadata": {},
   "outputs": [
    {
     "data": {
      "text/plain": [
       "([1/3, 1/8, 1/120], [2/1, 1/2, 1/3], [3/1])"
      ]
     },
     "execution_count": 16,
     "metadata": {},
     "output_type": "execute_result"
    }
   ],
   "source": [
    "egyptian_rec(Fraction(7,15)),egyptian_rec(Fraction(17,6)), egyptian_rec(Fraction(3))"
   ]
  },
  {
   "cell_type": "code",
   "execution_count": 43,
   "id": "46a67799",
   "metadata": {},
   "outputs": [],
   "source": [
    "fracs3 = [Fraction(2,4), Fraction(1,4), Fraction(3,4)]"
   ]
  },
  {
   "cell_type": "code",
   "execution_count": 46,
   "id": "779c5eca",
   "metadata": {},
   "outputs": [],
   "source": [
    "def arith_sum(fracs3):\n",
    "    num_sum = 0\n",
    "    for n in fracs3:\n",
    "        print(n)\n",
    "        print(num_sum)\n",
    "        num_sum += n.numerator\n",
    "        print(num_sum)\n",
    "    print(num_sum)\n",
    "    if num_sum % 3 == 0:\n",
    "        return True\n",
    "    else:\n",
    "        return False\n"
   ]
  },
  {
   "cell_type": "code",
   "execution_count": 47,
   "id": "937915e2",
   "metadata": {},
   "outputs": [
    {
     "name": "stdout",
     "output_type": "stream",
     "text": [
      "1/2\n",
      "0\n",
      "1\n",
      "1/4\n",
      "1\n",
      "2\n",
      "3/4\n",
      "2\n",
      "5\n",
      "5\n"
     ]
    },
    {
     "data": {
      "text/plain": [
       "False"
      ]
     },
     "execution_count": 47,
     "metadata": {},
     "output_type": "execute_result"
    }
   ],
   "source": [
    "arith_sum(fracs3)"
   ]
  },
  {
   "cell_type": "code",
   "execution_count": 33,
   "id": "a5e001c6",
   "metadata": {},
   "outputs": [
    {
     "data": {
      "text/plain": [
       "6"
      ]
     },
     "execution_count": 33,
     "metadata": {},
     "output_type": "execute_result"
    }
   ],
   "source": [
    "2+1+3"
   ]
  },
  {
   "cell_type": "code",
   "execution_count": 34,
   "id": "816d6526",
   "metadata": {},
   "outputs": [
    {
     "data": {
      "text/plain": [
       "0"
      ]
     },
     "execution_count": 34,
     "metadata": {},
     "output_type": "execute_result"
    }
   ],
   "source": [
    "6%3"
   ]
  },
  {
   "cell_type": "code",
   "execution_count": null,
   "id": "48db3927",
   "metadata": {},
   "outputs": [],
   "source": []
  }
 ],
 "metadata": {
  "kernelspec": {
   "display_name": "Python 3 (ipykernel)",
   "language": "python",
   "name": "python3"
  },
  "language_info": {
   "codemirror_mode": {
    "name": "ipython",
    "version": 3
   },
   "file_extension": ".py",
   "mimetype": "text/x-python",
   "name": "python",
   "nbconvert_exporter": "python",
   "pygments_lexer": "ipython3",
   "version": "3.11.4"
  }
 },
 "nbformat": 4,
 "nbformat_minor": 5
}
