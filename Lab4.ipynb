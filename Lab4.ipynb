{
 "cells": [
  {
   "cell_type": "markdown",
   "id": "d270bf3b-7b58-413b-956c-94c275796252",
   "metadata": {
    "tags": []
   },
   "source": [
    "# Lab4\n",
    "\n",
    "___"
   ]
  },
  {
   "cell_type": "markdown",
   "id": "8d120735-c9eb-4aa4-8826-84c85a9a103c",
   "metadata": {},
   "source": [
    "### Running the Python Interpreter from a Terminal\n",
    "The Jupyter notebook is a popular software tool used by scientists to share their work. Jupyter and its predecessor IPython were developed by Fernando Perez when he was at CU Boulder as a graduate student in Physics, then postdoc in Applied Math. \n",
    "\n",
    "At times you may need to run Python from a Terminal. To run the Python interpreter, follow these steps:\n",
    "* Mac OS\n",
    "  * Open `Applications` $\\to$ `Utilities` $\\to$ `Terminal`. \n",
    "* Windows 11\n",
    "  * Search for `cmd` on the toolbar, then select `Run as administrator`. \n",
    "\n",
    "After the Terminal opens,   \n",
    "* Make note of the current folder (displayed in the Terminal prompt).\n",
    "* Enter `python`.\n",
    "You should see the Python version number (3.8 or so) and the interpreter prompt `>>>`. (Note: If you see Python version 2.x, run `python3` instead of `python`.)"
   ]
  },
  {
   "cell_type": "markdown",
   "id": "68f562da-1e05-4a5b-b2bd-25168f3036c0",
   "metadata": {},
   "source": [
    "**Enter code into the interpreter**: Try typing in Python commands. Press `return` or `enter` to execute. For example\n",
    "* `num = 7`\n",
    "* `10 * num`\n",
    "\n",
    "**Enter this simple function definition**:\n",
    "```\n",
    "def hello(name):\n",
    "    print('hello ' + name)\n",
    "```\n",
    "Notice that the prompt changes to `...` until you enter a blank line which indicates the end of the function definition. (Within a function, to insert a blank line, enter a tab or space character.)\n",
    "\n",
    "**Run the function**: Enter `hello('world!')`.\n",
    "\n",
    "**Exit the interpreter**: Enter `exit()` to leave the interpreter and return to the Terminal."
   ]
  },
  {
   "cell_type": "markdown",
   "id": "92752e11-f676-457c-8206-c2ff66e55585",
   "metadata": {
    "tags": []
   },
   "source": [
    "___\n",
    "\n",
    "### Terminal Commands\n",
    "\n",
    "**List contents of a folder**\n",
    "* Mac: `ls`\n",
    "* Windows: `dir`\n",
    "\n",
    "**Change current folder**\n",
    "* `cd XXX` (or Windows: `chdir XXX`)\n",
    "\n",
    "**Move up a level**\n",
    "* `cd ..`\n",
    "\n",
    "**Autocomplete filenames**\n",
    "* Press the tab key\n",
    "\n",
    "**Access command history**\n",
    "* Use up and down arrows"
   ]
  },
  {
   "cell_type": "markdown",
   "id": "479ed0b1-d8f9-4c64-a489-9a19094b4b0e",
   "metadata": {},
   "source": [
    "___\n",
    "\n",
    "### Running Python Code from a File\n",
    "Instead of entering code directly into the Python interpreter, you can write the code in any plain text editor (or Jupyter) and paste it into the interpreter. Another option is to save the code in a file, then execute the file.\n",
    "\n",
    "**Open a plain text editor**\n",
    "* Mac: TextEdit (select `Format`$\\to$`Make Plain Text`)\n",
    "* Windows: Notepad\n",
    "\n",
    "**and save this Python code in a file** named `myfunc.py` (or any XXX.py filename) in an easily accessible folder (such as the Terminal current folder).:\n",
    "```\n",
    "#!/usr/bin/env python\n",
    "\n",
    "def hello(name):\n",
    "    print('hello ' + name)\n",
    "    \n",
    "hello('world!')\n",
    "```\n",
    "\n",
    "*Jupyter alternative*: Instead of using a plain text editor, you can write your code in a Jupyter notebook, then export to .py format.\n",
    "\n",
    "**Execute the file in a Terminal**\n",
    "At a command prompt, enter `python myfunc.py`. You should see `Hello world!` as the output. \n",
    "\n",
    "**Note on filenames**: if the file is not saved in the current Terminal folder, the filename may need to include its full path, for example\n",
    "* Mac: `python /Users/Yourname/Desktop/myfunc.py`\n",
    "* Windows: `python C:\\Users\\Yourname\\Desktop\\myfunc.py`\n",
    "\n",
    "\n",
    "___"
   ]
  },
  {
   "cell_type": "markdown",
   "id": "eb102794-938a-4893-9f21-3a4d93699991",
   "metadata": {},
   "source": [
    "### Importing Your Own Package\n",
    "User-defined functions can be imported as a module just like built-in modules like `math` and `numpy`.\n",
    "\n",
    "**Open the Python interpreter** in a Terminal by entering `python`.\n",
    "\n",
    "**Import your module** by entering `import myfunc`. You will see the `>>>` prompt.\n",
    "\n",
    "**Run your function**: Enter `myfunc.hello('Gus')`."
   ]
  },
  {
   "cell_type": "markdown",
   "id": "512e8297-7848-4b2f-ae01-8b90aedf8fcb",
   "metadata": {
    "tags": []
   },
   "source": [
    "___\n",
    "___\n",
    "\n",
    "### Jupyter Debugger Practice\n",
    "https://jupyterlab.readthedocs.io/en/stable/user/debugger.html\n",
    "\n",
    "Practice using the debugger by doing the following for the `func` code cell below:\n",
    "* Set a breakpoint at line 9 (`a //= 3`), then run the code.\n",
    "* Each time execution stops at the breakpoint, record the value of `result`. Do this 3 times.\n",
    "* Save the 3 values of `result` in a list called `debug_result`."
   ]
  },
  {
   "cell_type": "code",
   "execution_count": 1,
   "id": "4459fc21-7cf1-402f-9e97-ea87a7a93696",
   "metadata": {
    "tags": []
   },
   "outputs": [],
   "source": [
    "debug_result = [644,214,71]"
   ]
  },
  {
   "cell_type": "code",
   "execution_count": 6,
   "id": "ee78a431-3c57-4ffa-8a03-ed887e900657",
   "metadata": {},
   "outputs": [
    {
     "data": {
      "text/plain": [
       "415380"
      ]
     },
     "execution_count": 6,
     "metadata": {},
     "output_type": "execute_result"
    }
   ],
   "source": [
    "def func(num1, num2): \n",
    "    a = num1\n",
    "    b = num2\n",
    "    result = 0\n",
    " \n",
    "    while (a > 0): \n",
    "        x = a % 3\n",
    "        result += x * b\n",
    "        a //= 3\n",
    "        b *= 3\n",
    "     \n",
    "    return result\n",
    "\n",
    "func(int('10034', 5), int('1611', 7))"
   ]
  },
  {
   "cell_type": "markdown",
   "id": "4424bd30-8b12-4fca-9e9b-0af911b1006a",
   "metadata": {},
   "source": [
    "___\n",
    "___\n",
    "\n",
    "### Doubly Linked Lists\n",
    "\n",
    "Below is a **`Node`** class with these attributes:\n",
    "* **`key`** identifier for the node\n",
    "* **`prev`** points to a previous node or equals `None` if there is no previous node.\n",
    "* **`next`** points to the next node or equals `None` if there is no next node."
   ]
  },
  {
   "cell_type": "code",
   "execution_count": 3,
   "id": "1aab55ad-2fae-4f95-8350-acd45d364d52",
   "metadata": {},
   "outputs": [],
   "source": [
    "class Node:\n",
    "    def __init__(self, key):\n",
    "        self.key = key\n",
    "        self.prev = None\n",
    "        self.next = None"
   ]
  },
  {
   "cell_type": "markdown",
   "id": "2f2891da-224f-45b6-9e85-7a9b3ec5daf1",
   "metadata": {},
   "source": [
    "Create a **`DLinkedList`** class to represent a doubly linked list. Each list object has the following attribute:\n",
    "* **`head`** points to the first Node in the list or equals `None` if the list is empty.\n",
    "\n",
    "Add the following methods:\n",
    "* **`insert(node)`** adds a new Node to the head of the list.\n",
    "* **`delete(node)`** removes a Node from the list. Assume that the Node is in the list.\n",
    "* **`search(value)`** traverses the list seeking a `key` value. If found, return the corresponding Node. If not found, return `None`.\n",
    "* **`keys()`** returns a Python `list` containing all the linked list keys in order.\n",
    "\n",
    "Example:\n",
    "```\n",
    "dl = DLinkedList()\n",
    "dl.insert(Node('frog'))\n",
    "dl.insert(Node('ladybug'))\n",
    "dl.insert(Node('cricket'))\n",
    "dl.keys()\n",
    "```\n",
    "returns `['cricket', 'ladybug', 'frog']`. Then\n",
    "\n",
    "```\n",
    "ladynode = dl.search('ladybug')\n",
    "ladynode.key\n",
    "```\n",
    "returns `'ladybug'` and\n",
    "\n",
    "```\n",
    "dl.delete(ladynode)\n",
    "dl.keys()\n",
    "```\n",
    "returns `['cricket', 'frog']`."
   ]
  },
  {
   "cell_type": "code",
   "execution_count": 26,
   "id": "dae531db-83bf-4e02-9828-a584d6b52180",
   "metadata": {},
   "outputs": [],
   "source": [
    "class DLinkedList:\n",
    "    def __init__(self):\n",
    "        self.head = None\n",
    "    \n",
    "    def insert(self,node):\n",
    "        if self.head == None:\n",
    "            self.head = node\n",
    "        else:\n",
    "            node.next = self.head\n",
    "            self.head.prev = node\n",
    "            self.head = node\n",
    "\n",
    "    def delete(self, node):\n",
    "        if node.next == None and node.prev == None:\n",
    "            self.head = None\n",
    "        elif node.next == None:\n",
    "            node.prev.next = None\n",
    "        elif node.prev == None:\n",
    "            node.next.prev = None\n",
    "            self.head = node.next\n",
    "        else:\n",
    "            node.prev.next = node.next\n",
    "            node.next.prev = node.prev\n",
    "\n",
    "    def search(self, value):\n",
    "        if self.head == None:\n",
    "            return None\n",
    "        node = self.head\n",
    "        while node.next != None:\n",
    "            if node.key == value:\n",
    "                return node\n",
    "            else:\n",
    "                node = node.next\n",
    "        if node.key == value:\n",
    "            return node\n",
    "        else:\n",
    "            return None\n",
    "\n",
    "\n",
    "    def keys(self):\n",
    "        key_lst = []\n",
    "        if self.head == None:\n",
    "            return None\n",
    "        node = self.head\n",
    "        while node.next != None:\n",
    "            key_lst.append(node.key)\n",
    "            node = node.next\n",
    "        key_lst.append(node.key)\n",
    "        return key_lst        \n",
    "\n",
    "\n",
    "        "
   ]
  },
  {
   "cell_type": "code",
   "execution_count": 27,
   "id": "d4db6e61",
   "metadata": {},
   "outputs": [
    {
     "data": {
      "text/plain": [
       "['cricket', 'ladybug', 'frog']"
      ]
     },
     "execution_count": 27,
     "metadata": {},
     "output_type": "execute_result"
    }
   ],
   "source": [
    "dl = DLinkedList()\n",
    "dl.insert(Node('frog'))\n",
    "dl.insert(Node('ladybug'))\n",
    "dl.insert(Node('cricket'))\n",
    "dl.keys()\n"
   ]
  },
  {
   "cell_type": "code",
   "execution_count": 35,
   "id": "16e81318",
   "metadata": {},
   "outputs": [],
   "source": [
    "dl2 = DLinkedList()\n",
    "dl2.keys()"
   ]
  },
  {
   "cell_type": "code",
   "execution_count": 28,
   "id": "5b2e2f62",
   "metadata": {},
   "outputs": [
    {
     "ename": "AttributeError",
     "evalue": "'NoneType' object has no attribute 'key'",
     "output_type": "error",
     "traceback": [
      "\u001b[0;31m---------------------------------------------------------------------------\u001b[0m",
      "\u001b[0;31mAttributeError\u001b[0m                            Traceback (most recent call last)",
      "Cell \u001b[0;32mIn[28], line 6\u001b[0m\n\u001b[1;32m      4\u001b[0m frognode\u001b[38;5;241m.\u001b[39mkey\n\u001b[1;32m      5\u001b[0m cricketnode \u001b[38;5;241m=\u001b[39m dl\u001b[38;5;241m.\u001b[39msearch(\u001b[38;5;124m'\u001b[39m\u001b[38;5;124mcricket\u001b[39m\u001b[38;5;124m'\u001b[39m)\n\u001b[0;32m----> 6\u001b[0m cricketnode\u001b[38;5;241m.\u001b[39mprev\u001b[38;5;241m.\u001b[39mkey\n",
      "\u001b[0;31mAttributeError\u001b[0m: 'NoneType' object has no attribute 'key'"
     ]
    }
   ],
   "source": [
    "ladynode = dl.search('ladybug')\n",
    "ladynode.key\n",
    "frognode = dl.search('frog')\n",
    "frognode.key\n",
    "cricketnode = dl.search('cricket')\n",
    "cricketnode.prev.key"
   ]
  },
  {
   "cell_type": "code",
   "execution_count": 13,
   "id": "5c64f122",
   "metadata": {},
   "outputs": [
    {
     "ename": "TypeError",
     "evalue": "DLinkedList.delete() missing 1 required positional argument: 'node'",
     "output_type": "error",
     "traceback": [
      "\u001b[0;31m---------------------------------------------------------------------------\u001b[0m",
      "\u001b[0;31mTypeError\u001b[0m                                 Traceback (most recent call last)",
      "Cell \u001b[0;32mIn[13], line 1\u001b[0m\n\u001b[0;32m----> 1\u001b[0m dl\u001b[38;5;241m.\u001b[39mdelete()\n\u001b[1;32m      2\u001b[0m dl\u001b[38;5;241m.\u001b[39mkeys()\n",
      "\u001b[0;31mTypeError\u001b[0m: DLinkedList.delete() missing 1 required positional argument: 'node'"
     ]
    }
   ],
   "source": [
    "dl.delete()\n",
    "dl.keys()\n"
   ]
  },
  {
   "cell_type": "code",
   "execution_count": 34,
   "id": "38cbba98",
   "metadata": {},
   "outputs": [
    {
     "data": {
      "text/plain": [
       "['ladybug']"
      ]
     },
     "execution_count": 34,
     "metadata": {},
     "output_type": "execute_result"
    }
   ],
   "source": [
    "dl.delete(frognode)\n",
    "dl.keys()"
   ]
  },
  {
   "cell_type": "code",
   "execution_count": 32,
   "id": "d89c45a5",
   "metadata": {},
   "outputs": [
    {
     "data": {
      "text/plain": [
       "['ladybug', 'frog']"
      ]
     },
     "execution_count": 32,
     "metadata": {},
     "output_type": "execute_result"
    }
   ],
   "source": [
    "dl.delete(cricketnode)\n",
    "dl.keys()"
   ]
  },
  {
   "cell_type": "code",
   "execution_count": null,
   "id": "28fe612f",
   "metadata": {},
   "outputs": [],
   "source": []
  }
 ],
 "metadata": {
  "kernelspec": {
   "display_name": "Python 3 (ipykernel)",
   "language": "python",
   "name": "python3"
  },
  "language_info": {
   "codemirror_mode": {
    "name": "ipython",
    "version": 3
   },
   "file_extension": ".py",
   "mimetype": "text/x-python",
   "name": "python",
   "nbconvert_exporter": "python",
   "pygments_lexer": "ipython3",
   "version": "3.11.4"
  }
 },
 "nbformat": 4,
 "nbformat_minor": 5
}
