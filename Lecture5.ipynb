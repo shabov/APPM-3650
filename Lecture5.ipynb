{
 "cells": [
  {
   "cell_type": "markdown",
   "metadata": {},
   "source": [
    "## Lecture 5 Search, Divide and Conquer"
   ]
  },
  {
   "cell_type": "markdown",
   "metadata": {},
   "source": [
    "<code>LINEAR-SEARCH(v,A) $\\newline$ \n",
    "         for i = 1 to A.length $\\newline$ \n",
    "            if v == A[i] $\\newline$ \n",
    "                return i $\\newline$ \n",
    "        retutn NIL<code> $\\newline$ "
   ]
  },
  {
   "cell_type": "markdown",
   "metadata": {},
   "source": [
    "$[16,3,6,8,4,17,6,13] \\newline$\n",
    "if $ v=17$, $func$ returns 6 (index) $\\newline$\n",
    "if $v=18$, $func$ returns $NIL \\newline$\n",
    "best case: $T(n) =1 \\newline$\n",
    "worst case: $T(n) = n = A.length$ (last entry or NIL) $\\newline$\n",
    "avg case: $T(n) = \\begin{cases} x & 1 \\end{cases}$\n"
   ]
  },
  {
   "cell_type": "markdown",
   "metadata": {},
   "source": [
    "### Binary Search\n",
    "\n",
    "Started with a sorted array (A)\n",
    "<code> BINARY-SEARCH(v,A,p,r) (p=start index, r=end-index) $\\newline$ \n",
    "if $p > r$ $\\newline$ \n",
    "return NIL $\\newline$ \n",
    "else $\\newline$ \n",
    "$q = floor((p+r)/2)$ $\\newline$ \n",
    "if $v == A[q]$ $\\newline$ \n",
    "return q $\\newline$ \n",
    "else $\\newline$ \n",
    "if $v < A[q]$\n",
    "    return BINARY-SEARCH(v,A,p,q-1) $\\newline$ \n",
    "else $\\newline$ \n",
    "    return BINARY-SEACH(v,A,q+1,r)"
   ]
  },
  {
   "cell_type": "markdown",
   "metadata": {},
   "source": [
    "$T(n) = T(n/2) + \\theta(1) \\newline$\n",
    "$T(n/2)$ is the recursice call $\\newline$ \n",
    "$\\theta(1)$ is everything else (set up, divide into halves, check for termination)\n"
   ]
  },
  {
   "cell_type": "markdown",
   "metadata": {},
   "source": [
    "$T(8) \\rightarrow T(4) \\rightarrow T(2) \\rightarrow T(1)$ $\\newline$ \n",
    "$T(n) \\rightarrow T(\\frac{n}{2}) \\rightarrow T(\\frac{n}{4})$ $\\newline$ \n",
    "How many calls to Binary-Search? $\\newline$ \n",
    "$1 + \\log_2(n)$ $\\newline$ \n",
    "$T(n)$ is $\\theta(\\log(n))$"
   ]
  },
  {
   "cell_type": "markdown",
   "metadata": {},
   "source": [
    "It doesn't matter (for asymptotic analysis) what the base of the logarith is. $\\newline$ \n",
    "$\\theta(\\log_2(n)) = \\theta(\\log_3(n))$"
   ]
  },
  {
   "cell_type": "markdown",
   "metadata": {},
   "source": [
    "$\\log_2(n) = \\frac{\\ln(n)}{\\ln(2)}$ $\\newline$ \n",
    "$\\log_3(n) = \\frac{\\ln(n)}{\\ln(3)}$"
   ]
  },
  {
   "cell_type": "markdown",
   "metadata": {},
   "source": [
    "### Finding min, max values\n",
    "<code> MIN-MAX-LINEAR(A) $\\newline$ \n",
    "min_val = A[1] $\\newline$ \n",
    "max_val = A[1] $\\newline$ \n",
    "for $i = 2$ to A.length $\\newline$ \n",
    "if $A[i] < \\text{min_val}$ $\\newline$ \n",
    "min_val = A[i] $\\newline$ \n",
    "else if A[i] > max_val $\\newline$ \n",
    "max = A[i] $\\newline$ \n",
    "return (min, max) <code>"
   ]
  },
  {
   "cell_type": "markdown",
   "metadata": {},
   "source": [
    " Worst case: $T(n) = 2(n-1) = \\theta(n)$"
   ]
  },
  {
   "cell_type": "markdown",
   "metadata": {},
   "source": [
    "### Divide and Conquer\n",
    "    -recursive\n",
    "    -Divide problem into sub-problems\n",
    "    -\"Conquer\" the subproblems (solve)\n",
    "    -combine the subproblem results"
   ]
  },
  {
   "cell_type": "markdown",
   "metadata": {},
   "source": [
    "$T(n) = 2*T(n/2) + \\theta(1)$ $\\newline$ \n",
    "$T(n) = \\theta(n)$"
   ]
  },
  {
   "cell_type": "code",
   "execution_count": null,
   "metadata": {},
   "outputs": [],
   "source": []
  },
  {
   "cell_type": "code",
   "execution_count": null,
   "metadata": {},
   "outputs": [],
   "source": []
  },
  {
   "cell_type": "code",
   "execution_count": null,
   "metadata": {},
   "outputs": [],
   "source": []
  },
  {
   "cell_type": "code",
   "execution_count": null,
   "metadata": {},
   "outputs": [],
   "source": [
    "\n"
   ]
  }
 ],
 "metadata": {
  "language_info": {
   "name": "python"
  },
  "orig_nbformat": 4
 },
 "nbformat": 4,
 "nbformat_minor": 2
}
