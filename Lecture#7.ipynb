{
 "cells": [
  {
   "cell_type": "code",
   "execution_count": 1,
   "metadata": {},
   "outputs": [],
   "source": [
    "import math\n",
    "import numpy as np"
   ]
  },
  {
   "cell_type": "markdown",
   "metadata": {},
   "source": [
    "## Max Subarray"
   ]
  },
  {
   "cell_type": "markdown",
   "metadata": {},
   "source": []
  },
  {
   "cell_type": "markdown",
   "metadata": {},
   "source": []
  },
  {
   "cell_type": "code",
   "execution_count": 23,
   "metadata": {},
   "outputs": [
    {
     "name": "stdout",
     "output_type": "stream",
     "text": [
      "10 11\n",
      "9 12\n",
      "8 13\n",
      "7 14\n",
      "6 15\n",
      "5 16\n",
      "4 17\n",
      "3 18\n",
      "2 19\n",
      "1 20\n"
     ]
    }
   ],
   "source": [
    "k = zip(range(10,0,-1),range(11,21))\n",
    "for i,j in k:\n",
    "    print(i,j)"
   ]
  },
  {
   "cell_type": "code",
   "execution_count": 17,
   "metadata": {},
   "outputs": [
    {
     "data": {
      "text/plain": [
       "[10, 9, 8, 7, 6, 5, 4, 3, 2]"
      ]
     },
     "execution_count": 17,
     "metadata": {},
     "output_type": "execute_result"
    }
   ],
   "source": [
    "list(range(10,1,-1))"
   ]
  },
  {
   "cell_type": "markdown",
   "metadata": {},
   "source": [
    "## Base 10\n",
    "\n",
    "$607 = 6*10^2+0*10^1+7*10^0$"
   ]
  },
  {
   "cell_type": "markdown",
   "metadata": {},
   "source": [
    "## Base 2\n",
    "\n",
    "$1 = 2^0 = 0001$ $\\newline$\n",
    "$2 = 2^1 = 0010$ $\\newline$\n",
    "$3 = 2^1 + 2^0 = 0011$ $\\newline$\n",
    "$4 = 2^2 = 0100$ $\\newline$\n",
    "$5 = 2^2 + 2^0 = 0101$ $\\newline$\n",
    "$6 = 2^2 + 2^1 = 0110$ $\\newline$\n",
    "$7 = 2^2 + 2^1 + 2^0 = 0111$ $\\newline$\n",
    "$8 = 2^3 = 1000$ $\\newline$\n",
    "$9 = 2^3 +2^0 = 1001$ $\\newline$\n",
    "$10 = 2^3 + 2^1 = 1010$ $\\newline$\n"
   ]
  },
  {
   "cell_type": "markdown",
   "metadata": {},
   "source": [
    "1 byte = 8 bits $\\newline$\n",
    "What is the largest 4-bit integer? $\\newline$\n",
    "$1111_2 =2^4 - 1 = 15$"
   ]
  },
  {
   "cell_type": "markdown",
   "metadata": {},
   "source": [
    "## Hexadecimal Rep (Base 16)\n",
    "digits: 0-9, A (10),B(11),C(12),D(13),E(14),F(14) $\\newline$\n",
    "$25 = 19_{16} = 1*16^1 + 9*16^0$ $\\newline$\n",
    "$45 = 2D_{16} = 2* 16^1 + D(13)*16^0$ $\\newline$"
   ]
  },
  {
   "cell_type": "markdown",
   "metadata": {},
   "source": [
    "## Python Base 10 to Base 2\n",
    "$bin(13)$ returns $'\\theta b 1101'$ $\\newline$\n",
    "Base b to base 10 $\\newline$\n",
    "$int('1101',2)$ returns $13$ $\\newline$\n"
   ]
  },
  {
   "cell_type": "markdown",
   "metadata": {},
   "source": [
    "## Shifting left and right\n",
    "Base 10: $\\newline$\n",
    "left shift of number n = multiply by 10 $\\newline$\n",
    "right shift of number n = divide by 10 (truncate) $\\newline$\n",
    "\n",
    "Base 2:\n",
    "left shit: multiply by 2 $\\newline$\n",
    "right shift: divide by 2"
   ]
  },
  {
   "cell_type": "markdown",
   "metadata": {},
   "source": [
    "## python\n",
    "Bitwise left shift op: <<\n",
    "right shit op: >>"
   ]
  },
  {
   "cell_type": "code",
   "execution_count": 27,
   "metadata": {},
   "outputs": [
    {
     "data": {
      "text/plain": [
       "100"
      ]
     },
     "execution_count": 27,
     "metadata": {},
     "output_type": "execute_result"
    }
   ],
   "source": [
    "25 << 2"
   ]
  },
  {
   "cell_type": "markdown",
   "metadata": {},
   "source": [
    "### Digit Extraction\n",
    "Take a number and return a list of its digits (using arithmetic operations)"
   ]
  },
  {
   "cell_type": "code",
   "execution_count": 60,
   "metadata": {},
   "outputs": [
    {
     "data": {
      "text/plain": [
       "7"
      ]
     },
     "execution_count": 60,
     "metadata": {},
     "output_type": "execute_result"
    }
   ],
   "source": [
    "607 % 10"
   ]
  },
  {
   "cell_type": "code",
   "execution_count": 30,
   "metadata": {},
   "outputs": [
    {
     "data": {
      "text/plain": [
       "[6, 0, 7]"
      ]
     },
     "execution_count": 30,
     "metadata": {},
     "output_type": "execute_result"
    }
   ],
   "source": [
    "num = 607\n",
    "\n",
    "#using string operation\n",
    "[int(ch) for ch in str(num)]\n",
    "\n",
    "\n"
   ]
  },
  {
   "cell_type": "code",
   "execution_count": 61,
   "metadata": {},
   "outputs": [],
   "source": [
    "def digits(num):\n",
    "    '''Return a list of the digits of integer num using arithmetic operations'''\n",
    "    digit_lst = []\n",
    "    curr_num = num\n",
    "    while curr_num > 0:\n",
    "    #extract last digit\n",
    "    #insert into list\n",
    "    #divide curr num\n",
    "        digit_lst.append(curr_num % 10)\n",
    "        curr_num//=10\n",
    "    return digit_lst[::-1]"
   ]
  },
  {
   "cell_type": "code",
   "execution_count": 63,
   "metadata": {},
   "outputs": [
    {
     "data": {
      "text/plain": [
       "[6, 0, 7]"
      ]
     },
     "execution_count": 63,
     "metadata": {},
     "output_type": "execute_result"
    }
   ],
   "source": [
    "digits(607)"
   ]
  },
  {
   "cell_type": "code",
   "execution_count": 67,
   "metadata": {},
   "outputs": [
    {
     "ename": "TypeError",
     "evalue": "unsupported operand type(s) for >>: 'str' and 'int'",
     "output_type": "error",
     "traceback": [
      "\u001b[0;31m---------------------------------------------------------------------------\u001b[0m",
      "\u001b[0;31mTypeError\u001b[0m                                 Traceback (most recent call last)",
      "Cell \u001b[0;32mIn[67], line 1\u001b[0m\n\u001b[0;32m----> 1\u001b[0m \u001b[38;5;28mbin\u001b[39m(\u001b[38;5;241m607\u001b[39m) \u001b[38;5;241m>>\u001b[39m \u001b[38;5;241m1\u001b[39m\n",
      "\u001b[0;31mTypeError\u001b[0m: unsupported operand type(s) for >>: 'str' and 'int'"
     ]
    }
   ],
   "source": []
  },
  {
   "cell_type": "code",
   "execution_count": 68,
   "metadata": {},
   "outputs": [],
   "source": [
    "def base2(num):\n",
    "    '''Retrun a list of the binary digits of integer num using shift operations'''\n",
    "    digit_lst = []\n",
    "    curr_num = num\n",
    "    while curr_num > 0:\n",
    "        digit_lst.append(curr_num % 2)\n",
    "        curr_num >>= 1\n",
    "    return digit_lst[::-1]"
   ]
  },
  {
   "cell_type": "code",
   "execution_count": 69,
   "metadata": {},
   "outputs": [
    {
     "data": {
      "text/plain": [
       "[1, 1, 0, 0, 1]"
      ]
     },
     "execution_count": 69,
     "metadata": {},
     "output_type": "execute_result"
    }
   ],
   "source": [
    "base2(25)"
   ]
  },
  {
   "cell_type": "code",
   "execution_count": 72,
   "metadata": {},
   "outputs": [],
   "source": [
    "def power(b,n):\n",
    "    '''Returns b**n using a loop where n is a non-negative integer'''\n",
    "    curr_n = b\n",
    "    for i in range(n-1):\n",
    "        curr_n *= b\n",
    "    return curr_n"
   ]
  },
  {
   "cell_type": "code",
   "execution_count": 74,
   "metadata": {},
   "outputs": [
    {
     "data": {
      "text/plain": [
       "32"
      ]
     },
     "execution_count": 74,
     "metadata": {},
     "output_type": "execute_result"
    }
   ],
   "source": [
    "power(2,5)"
   ]
  },
  {
   "cell_type": "code",
   "execution_count": 81,
   "metadata": {},
   "outputs": [
    {
     "data": {
      "text/plain": [
       "1594323"
      ]
     },
     "execution_count": 81,
     "metadata": {},
     "output_type": "execute_result"
    }
   ],
   "source": [
    "3**8 * 3**4 * 3"
   ]
  },
  {
   "cell_type": "code",
   "execution_count": 80,
   "metadata": {},
   "outputs": [
    {
     "data": {
      "text/plain": [
       "1594323"
      ]
     },
     "execution_count": 80,
     "metadata": {},
     "output_type": "execute_result"
    }
   ],
   "source": [
    "3**13"
   ]
  },
  {
   "cell_type": "code",
   "execution_count": null,
   "metadata": {},
   "outputs": [],
   "source": []
  },
  {
   "cell_type": "code",
   "execution_count": 82,
   "metadata": {},
   "outputs": [],
   "source": [
    "#Fast Exponentiation\n",
    "def fast_exp(b, n):\n",
    "    '''Calculate b**n faster'''\n",
    "    n_bin = bin(n)[2:]\n",
    "    result = 1\n",
    "    b_exp = b\n",
    "    for bit in reversed(n_bin):\n",
    "        if bit == '1':\n",
    "            result *= b_exp\n",
    "        b_exp **=2\n",
    "    return result\n",
    "\n",
    "\n"
   ]
  },
  {
   "cell_type": "code",
   "execution_count": 83,
   "metadata": {},
   "outputs": [
    {
     "data": {
      "text/plain": [
       "1594323"
      ]
     },
     "execution_count": 83,
     "metadata": {},
     "output_type": "execute_result"
    }
   ],
   "source": [
    "fast_exp(3,13)"
   ]
  },
  {
   "cell_type": "markdown",
   "metadata": {},
   "source": [
    "##### Number of multiplications: $\\theta(\\log(n))$"
   ]
  },
  {
   "cell_type": "markdown",
   "metadata": {},
   "source": [
    "$P(x) = c_0 +c_1x+c_2x^2+\\cdots+c_nx^n$ <br>\n",
    "Evaluate $P(x)$ for a given value of $x$ <br>\n",
    "$P(x) = 8-6x+x^2$ <br>\n",
    "Find $P(-2)$"
   ]
  },
  {
   "cell_type": "code",
   "execution_count": 87,
   "metadata": {},
   "outputs": [],
   "source": [
    "poly = [8,-6,1]\n",
    "val = -2"
   ]
  },
  {
   "cell_type": "code",
   "execution_count": 84,
   "metadata": {},
   "outputs": [],
   "source": [
    "def eval_poly1(coeffs, x):\n",
    "    result = 0\n",
    "    for index, coef in enumerate(coeffs):\n",
    "        result += coef * x**index\n",
    "    return result"
   ]
  },
  {
   "cell_type": "code",
   "execution_count": 88,
   "metadata": {},
   "outputs": [],
   "source": [
    "def eval_poly2(coeffs, x):\n",
    "    result = 0\n",
    "    x_exp = 1\n",
    "    for coef in coeffs:\n",
    "        result += coef * x_exp\n",
    "        x_exp *= x\n",
    "    return result"
   ]
  },
  {
   "cell_type": "code",
   "execution_count": 89,
   "metadata": {},
   "outputs": [
    {
     "data": {
      "text/plain": [
       "24"
      ]
     },
     "execution_count": 89,
     "metadata": {},
     "output_type": "execute_result"
    }
   ],
   "source": [
    "eval_poly2(poly, val)"
   ]
  },
  {
   "cell_type": "markdown",
   "metadata": {},
   "source": [
    "### Horner's Method \n",
    "$P(x) = 1 + 2x + 3x^2 + 4x^3 \\newline$  \n",
    "$P(x) = 1 + x(2+3x+4x^2) \\newline = 1 + x(2+x(3+4x)) \\newline = 1 + x(2+x(3+ x(4)))$"
   ]
  },
  {
   "cell_type": "markdown",
   "metadata": {},
   "source": []
  },
  {
   "cell_type": "code",
   "execution_count": 90,
   "metadata": {},
   "outputs": [],
   "source": [
    "def eval_poly_horner(coeffs, x):\n",
    "    result = 0\n",
    "    for coef in reversed(coeffs):\n",
    "        result  = coef + x*result\n",
    "    return result\n",
    "\n"
   ]
  },
  {
   "cell_type": "code",
   "execution_count": 91,
   "metadata": {},
   "outputs": [
    {
     "data": {
      "text/plain": [
       "24"
      ]
     },
     "execution_count": 91,
     "metadata": {},
     "output_type": "execute_result"
    }
   ],
   "source": [
    "eval_poly_horner(poly, val)"
   ]
  },
  {
   "cell_type": "code",
   "execution_count": 92,
   "metadata": {},
   "outputs": [],
   "source": [
    "def eval_poly_horner_rec(coeffs, x):\n",
    "    if len(coeffs) == 1:\n",
    "        return coeffs[0]\n",
    "    else:\n",
    "        return coeffs[0] + x*eval_poly_horner(coeffs[1:], x)"
   ]
  },
  {
   "cell_type": "code",
   "execution_count": 94,
   "metadata": {},
   "outputs": [
    {
     "data": {
      "text/plain": [
       "24"
      ]
     },
     "execution_count": 94,
     "metadata": {},
     "output_type": "execute_result"
    }
   ],
   "source": [
    "eval_poly_horner_rec(poly, val)"
   ]
  },
  {
   "cell_type": "markdown",
   "metadata": {},
   "source": [
    "### Addition of n-digit numbers\n",
    "Number of digit additions: $\\theta(n)$"
   ]
  },
  {
   "cell_type": "markdown",
   "metadata": {},
   "source": [
    "### Multiplications of n-digit numbers\n",
    "Number of digit multiplications: $\\theta(n^2)$"
   ]
  },
  {
   "cell_type": "markdown",
   "metadata": {},
   "source": [
    "$ac \\cdot bd = 10^2(ab) + 10(ad+bc) + 1 (cd)\\newline$\n",
    "$(10^2+10)(ab) +10(a-c)(d-b)+(10+1)(cd) \\newline$\n"
   ]
  },
  {
   "cell_type": "markdown",
   "metadata": {},
   "source": [
    "## Karatsuba Algorith\n",
    "Start with two number with $2n$ bits <br>\n",
    "Divide and Conquer: Split into 2 bins of $n$ bits <br>\n",
    "$T(n) = 3T(n/2) + \\theta(n) \\newline$\n",
    "Master Theorem:<br>\n",
    "$k = \\log_2(3) \\approx 1.58 \\newline$\n",
    "Compare $n^1.58$ to $n^1 \\newline$\n",
    "$T(n) = \\theta(n^{\\log_2(3)} = o(n^2))$\n",
    "\n",
    "\n"
   ]
  },
  {
   "cell_type": "code",
   "execution_count": null,
   "metadata": {},
   "outputs": [],
   "source": []
  },
  {
   "cell_type": "code",
   "execution_count": null,
   "metadata": {},
   "outputs": [],
   "source": []
  },
  {
   "cell_type": "code",
   "execution_count": null,
   "metadata": {},
   "outputs": [],
   "source": []
  }
 ],
 "metadata": {
  "interpreter": {
   "hash": "bff285996b61d1cce75d586d554bbdb644f20e64756204b2dee51c0e7bed81f5"
  },
  "kernelspec": {
   "display_name": "Python 3.11.4 ('base')",
   "language": "python",
   "name": "python3"
  },
  "language_info": {
   "codemirror_mode": {
    "name": "ipython",
    "version": 3
   },
   "file_extension": ".py",
   "mimetype": "text/x-python",
   "name": "python",
   "nbconvert_exporter": "python",
   "pygments_lexer": "ipython3",
   "version": "3.11.4"
  },
  "orig_nbformat": 4
 },
 "nbformat": 4,
 "nbformat_minor": 2
}
