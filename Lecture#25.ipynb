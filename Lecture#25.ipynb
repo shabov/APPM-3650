{
 "cells": [
  {
   "cell_type": "markdown",
   "metadata": {},
   "source": [
    "## Data Structures for Disjoint Sets\n",
    "$G=(V,E)$ <br>\n",
    "$G:$ $S = \\{S_1, S_2, \\cdots, S_n\\}$"
   ]
  },
  {
   "cell_type": "code",
   "execution_count": null,
   "metadata": {},
   "outputs": [],
   "source": []
  }
 ],
 "metadata": {
  "language_info": {
   "name": "python"
  },
  "orig_nbformat": 4
 },
 "nbformat": 4,
 "nbformat_minor": 2
}
