{
 "cells": [
  {
   "cell_type": "markdown",
   "id": "ce58a687-f4ff-451b-b75f-5f93a0d815cf",
   "metadata": {
    "tags": []
   },
   "source": [
    "# Lab 8\n",
    "**Upload one file** to Gradescope: \n",
    "* `Lab8.py` (which will be autograded)\n",
    "\n",
    "**IMPORTANT**: Before uploading, be sure to comment out any code that might result in an error.\n",
    "___"
   ]
  },
  {
   "cell_type": "markdown",
   "id": "c736e235-084f-42e4-b435-c5a11de5bfe7",
   "metadata": {
    "tags": []
   },
   "source": [
    "### Huffman Codes\n",
    "```\n",
    "HUFFMAN(C)\n",
    "n = |C|\n",
    "Q = C\n",
    "for i = 1 to n-1\n",
    "    allocate a new node z\n",
    "    z.left = x = EXTRACT-MIN(Q)\n",
    "    z.right = y = EXTRACT-MIN(Q)\n",
    "    z.freq = x.freq + y.freq \n",
    "    INSERT(Q, z)\n",
    "    \n",
    "return EXTRACT-MIN(Q)\n",
    "```\n",
    "\n",
    "**Example**: \n",
    "\n",
    "|Characters | a | b | c | d | e | f |  \n",
    "|:--|:--:|:--:|:--:|:--:|:--:|:--:|  \n",
    "| Frequency | 45 | 13 | 12 | 16 | 9 | 5 |   \n",
    "\n",
    "Given the 6 letters from `a` to `f` and their frequencies shown above, the HUFFMAN algorithm would produce these variable-length codes, shown in an ordered list:\n",
    "```\n",
    "['0', '101', '100', '111', '1101', '1100']\n",
    "```\n",
    "\n",
    "**Exercise**:\n",
    "\n",
    "| Characters | T | U | V | W | X | Y | Z |  \n",
    "|:--|:--:|:--:|:--:|:--:|:--:|:--:|:--:|  \n",
    "| Frequency | 24 | 10 | 31 | 12 | 7 | 16 | 20 |   \n",
    "\n",
    "* Apply the HUFFMAN algorithm (by hand) to find optimal variable-length codes for the letters `T` to `Z`. Their frequencies are shown above. Store the codes as strings in an ordered list called **`huff_codes`**.\n",
    "* Calculate **`huff_bit_ct`**, the total number of bits required to encode the text using `huff_codes`.\n",
    "* Calculate **`fixed_bit_ct`**, the number of bits required if a fixed-length binary code is used instead."
   ]
  },
  {
   "cell_type": "code",
   "execution_count": 1,
   "id": "34d74feb-3eb0-4e6f-b195-558355ba55a1",
   "metadata": {},
   "outputs": [],
   "source": [
    "huff_codes = ['00', '1101', '10', '010', '1100', '011', '111']\n",
    "huff_bit_ct = 322\n",
    "fixed_bit_ct = 360"
   ]
  },
  {
   "cell_type": "markdown",
   "id": "47eb5d9f-d710-41e2-a7a1-916f6bdb4c6f",
   "metadata": {
    "tags": []
   },
   "source": [
    "### Generators\n",
    "Read the file `Generators.html` in Canvas Modules to learn about Python generators, then complete the following exercises."
   ]
  },
  {
   "cell_type": "markdown",
   "id": "e3a32a00-087b-44c6-9dd0-5b90fd28764f",
   "metadata": {
    "tags": []
   },
   "source": [
    "**Create a generator function** called **`seq1(n)`** that returns the `n` terms in the finite sequence $a_1 = 1$, $a_n = 2a_{n-1}+5$, one at a time.\n",
    "```\n",
    "seq1_gen = seq1(10)\n",
    "print(next(seq1_gen))\n",
    "print(next(seq1_gen))\n",
    "print(next(seq1_gen))\n",
    "print(next(seq1_gen))\n",
    "```\n",
    "displays\n",
    "```\n",
    "1\n",
    "7\n",
    "19\n",
    "43\n",
    "```"
   ]
  },
  {
   "cell_type": "code",
   "execution_count": 22,
   "id": "df39b11a",
   "metadata": {},
   "outputs": [],
   "source": []
  },
  {
   "cell_type": "code",
   "execution_count": 23,
   "id": "fca3df95-aa93-43d2-bebd-6cfa7bf68b1e",
   "metadata": {},
   "outputs": [],
   "source": [
    "# def seq1_rec(n):\n",
    "#     if n ==1:\n",
    "#         return 1\n",
    "#     else:\n",
    "#         return 2*seq1_rec(n-1) + 5\n",
    "\n",
    "# def seq1(n):\n",
    "#     k = 1\n",
    "#     while k <= n:\n",
    "#         yield seq1_rec(k)\n",
    "#         k+=1\n"
   ]
  },
  {
   "cell_type": "code",
   "execution_count": 30,
   "id": "0b2b1605",
   "metadata": {},
   "outputs": [],
   "source": [
    "def seq1(n):\n",
    "    yield 1\n",
    "    k = 1\n",
    "    j=1\n",
    "    while j <= n:\n",
    "        yield 2*k + 5\n",
    "        k = 2*k +5\n",
    "        j+=1"
   ]
  },
  {
   "cell_type": "code",
   "execution_count": null,
   "id": "9e50e5e6",
   "metadata": {},
   "outputs": [],
   "source": []
  },
  {
   "cell_type": "code",
   "execution_count": 43,
   "id": "0f3cda8b",
   "metadata": {},
   "outputs": [
    {
     "name": "stdout",
     "output_type": "stream",
     "text": [
      "1\n",
      "7\n",
      "19\n",
      "43\n"
     ]
    }
   ],
   "source": [
    "seq1_gen = seq1(10)\n",
    "print(next(seq1_gen))\n",
    "print(next(seq1_gen))\n",
    "print(next(seq1_gen))\n",
    "print(next(seq1_gen))"
   ]
  },
  {
   "cell_type": "markdown",
   "id": "b6d1ea27-f45c-4e7f-9018-64d0669117f2",
   "metadata": {
    "tags": []
   },
   "source": [
    "**Create a generator function** called **`seq2()`** that returns the terms in the infinite sequence $a_1 = 1$, $a_n = \\left(a_{n-1}^2 - 2a_{n-1}+10 \\right) \\pmod {2003}$, one at a time.\n",
    "\n",
    "$$\\{1, 9, 73, 1187, \\ldots \\}$$"
   ]
  },
  {
   "cell_type": "code",
   "execution_count": 33,
   "id": "9dc834a0-f5c8-4015-acb8-de5e1b5a8197",
   "metadata": {},
   "outputs": [],
   "source": [
    "def seq2():\n",
    "    yield 1\n",
    "    k = 1\n",
    "    while True:\n",
    "        yield (k**2 - 2*k + 10) % 2003\n",
    "        k = (k**2 - 2*k + 10) % 2003"
   ]
  },
  {
   "cell_type": "code",
   "execution_count": 37,
   "id": "f1a5e4a5",
   "metadata": {},
   "outputs": [
    {
     "name": "stdout",
     "output_type": "stream",
     "text": [
      "1\n",
      "9\n",
      "73\n",
      "1187\n"
     ]
    }
   ],
   "source": [
    "seq2_gen = seq2()\n",
    "print(next(seq2_gen))\n",
    "print(next(seq2_gen))\n",
    "print(next(seq2_gen))\n",
    "print(next(seq2_gen))\n",
    "seq2_gen.close()\n",
    "\n"
   ]
  },
  {
   "cell_type": "markdown",
   "id": "6adf40da-b6ed-4e4b-b90a-03733e2ed650",
   "metadata": {
    "tags": []
   },
   "source": [
    "**Create a generator function** called **`seq3()`** that returns the terms in the infinite sequence $a_1 = 1$, $a_2 = 2$, $a_n = a_{n-1} + 3a_{n-2}$, one at a time. \n",
    "\n",
    "$$\\{1, 2, 5, 11, 26, \\ldots \\}$$"
   ]
  },
  {
   "cell_type": "code",
   "execution_count": 46,
   "id": "5d249233-3356-4527-b144-c48a47d1eec4",
   "metadata": {},
   "outputs": [],
   "source": [
    "def seq3():\n",
    "    yield 1\n",
    "    yield 2\n",
    "    j=1\n",
    "    k = 2\n",
    "    while True:\n",
    "        yield k + 3*j\n",
    "        j,k = k, k + 3*j\n",
    "        \n"
   ]
  },
  {
   "cell_type": "code",
   "execution_count": 48,
   "id": "2100e058",
   "metadata": {},
   "outputs": [
    {
     "name": "stdout",
     "output_type": "stream",
     "text": [
      "1\n",
      "2\n",
      "5\n",
      "11\n",
      "26\n"
     ]
    }
   ],
   "source": [
    "seq3_gen = seq3()\n",
    "print(next(seq3_gen))\n",
    "print(next(seq3_gen))\n",
    "print(next(seq3_gen))\n",
    "print(next(seq3_gen))\n",
    "print(next(seq3_gen))\n",
    "seq3_gen.close()"
   ]
  },
  {
   "cell_type": "code",
   "execution_count": null,
   "id": "bcbd2d40",
   "metadata": {},
   "outputs": [],
   "source": []
  }
 ],
 "metadata": {
  "kernelspec": {
   "display_name": "Python 3 (ipykernel)",
   "language": "python",
   "name": "python3"
  },
  "language_info": {
   "codemirror_mode": {
    "name": "ipython",
    "version": 3
   },
   "file_extension": ".py",
   "mimetype": "text/x-python",
   "name": "python",
   "nbconvert_exporter": "python",
   "pygments_lexer": "ipython3",
   "version": "3.11.8"
  }
 },
 "nbformat": 4,
 "nbformat_minor": 5
}
