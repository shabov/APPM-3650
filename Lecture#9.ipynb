{
 "cells": [
  {
   "cell_type": "markdown",
   "metadata": {},
   "source": [
    "### Can Search be performed in $\\Theta(1)$ time?"
   ]
  },
  {
   "cell_type": "markdown",
   "metadata": {},
   "source": [
    "#### Direct-Address Tables\n",
    "Let $u$= Universe of Keys <br>\n",
    "$k$= Subset of actual keys <br>\n",
    "Create a table with  $|u|$ slots <br>"
   ]
  },
  {
   "cell_type": "markdown",
   "metadata": {},
   "source": [
    "`Direct-Address-Search(T,k)` <br>\n",
    "`return T[k]` <br>\n",
    "`Direct-Address-Insert(T,x)` <br>\n",
    "`T[x.key] = x` <br>\n",
    "`Direct-Address-Delete(T,x)` <br>\n",
    "`"
   ]
  },
  {
   "cell_type": "markdown",
   "metadata": {},
   "source": [
    "### Hash Tables\n",
    "Create a table with $m$ slots, where $m$ is proportional to to $|k|$ <br>\n",
    "       Ideally, $m>|k|$\n",
    "Need a hashing funtion, which will take an Id and return corresponding slot <br>\n",
    "`h(k) returns` $0,1,2, \\cdots, m-1$"
   ]
  },
  {
   "cell_type": "markdown",
   "metadata": {},
   "source": [
    "#### Disadvantages\n",
    "Two keys may hash to the same table slot, called a collision\n",
    "\n",
    "\n",
    "#### Advantages"
   ]
  },
  {
   "cell_type": "markdown",
   "metadata": {},
   "source": [
    "### Hash Function\n",
    "    Ideally: Simple, uniform hashing\n",
    "        -Each key is equally likely to hash to any slot\n",
    "        -Even distribution\n",
    "        -minimize collisions\n",
    "    "
   ]
  },
  {
   "cell_type": "markdown",
   "metadata": {},
   "source": [
    "### Division Method \n",
    "`h(k) = k(mod(m))` <br>\n",
    "Modulus $m$ needs to be chosen carefully "
   ]
  },
  {
   "cell_type": "markdown",
   "metadata": {},
   "source": [
    "### Multiplication Method\n",
    "Choose constant $A$, $o<A<1$ <br>\n",
    "$h(k) = \\lfloor m \\cdot frac(kA) \\rfloor$ <br>\n",
    "choice of m is not as critical if $m=2^p$, works well"
   ]
  },
  {
   "cell_type": "markdown",
   "metadata": {},
   "source": [
    "### Load Factor\n",
    "$\\alpha = \\frac{n}{m}$ <br>\n",
    "where $m$ is the # of slots in table $T$, $n$ is # elts (keys) ($|k|$)"
   ]
  },
  {
   "cell_type": "markdown",
   "metadata": {},
   "source": [
    "### Resolving Collisions\n",
    "With Chaining - Place a linked list in each slot with multiple nodes"
   ]
  },
  {
   "cell_type": "code",
   "execution_count": 11,
   "metadata": {},
   "outputs": [
    {
     "data": {
      "text/plain": [
       "1.0"
      ]
     },
     "execution_count": 11,
     "metadata": {},
     "output_type": "execute_result"
    }
   ],
   "source": []
  },
  {
   "cell_type": "code",
   "execution_count": null,
   "metadata": {},
   "outputs": [],
   "source": []
  }
 ],
 "metadata": {
  "interpreter": {
   "hash": "bff285996b61d1cce75d586d554bbdb644f20e64756204b2dee51c0e7bed81f5"
  },
  "kernelspec": {
   "display_name": "Python 3.11.4 ('base')",
   "language": "python",
   "name": "python3"
  },
  "language_info": {
   "codemirror_mode": {
    "name": "ipython",
    "version": 3
   },
   "file_extension": ".py",
   "mimetype": "text/x-python",
   "name": "python",
   "nbconvert_exporter": "python",
   "pygments_lexer": "ipython3",
   "version": "3.11.4"
  },
  "orig_nbformat": 4
 },
 "nbformat": 4,
 "nbformat_minor": 2
}
