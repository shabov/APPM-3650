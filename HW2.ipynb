{
 "cells": [
  {
   "cell_type": "markdown",
   "id": "6666cd31-e76f-4ed5-94f4-3ea12d7e5d77",
   "metadata": {
    "tags": []
   },
   "source": [
    "# HW 2\n",
    "\n",
    "**Upload two files** to Gradescope: \n",
    "* `HW2.py` (which will be autograded)\n",
    "* `HW2.ipynb` (run all cells to make sure that outputs are visible, especially plots)\n",
    "\n",
    "**Reminder:** For the assignments in this course, **you must write your own code**. Copying code from the internet or other sources is not allowed. Using Python functions that have not been covered in class may make exercises easier than intended. Please ask if you are not sure what is allowed.\n",
    "\n",
    "___"
   ]
  },
  {
   "cell_type": "code",
   "execution_count": 2,
   "id": "0bba2eb9-1817-4bdb-a953-bedc2cefd8a9",
   "metadata": {},
   "outputs": [],
   "source": [
    "import math\n",
    "import random\n",
    "import numpy as np\n",
    "import time\n",
    "import matplotlib.pyplot as plt\n",
    "import matplotlib.animation as ani"
   ]
  },
  {
   "cell_type": "markdown",
   "id": "855ba54a-b06b-49e2-83bb-a415c4733267",
   "metadata": {},
   "source": [
    "### Asymptotic Notation\n",
    "\n",
    "Let $f(n) = (\\log n)^{10}$. Determine whether $f(n)$ is $$\\Theta(g(n)),\\quad O(g(n)),\\quad o(g(n)),\\quad \\Omega(g(n)),\\quad \\omega(g(n))$$\n",
    "for each of the following $g(n)$. Uncomment the statements below and assign the value of `True` or `False` to each variable. Justification is not necessary.\n",
    "\n",
    "* $g_1(n) = n\\log n$"
   ]
  },
  {
   "cell_type": "code",
   "execution_count": 5,
   "id": "f17ede2d-264c-40ab-aa70-9effecac3f84",
   "metadata": {},
   "outputs": [],
   "source": [
    "f_is_Theta_g1 = False\n",
    "f_is_Big_O_g1 = True\n",
    "f_is_Little_o_g1 = True\n",
    "f_is_Big_Omega_g1 = False\n",
    "f_is_Little_omega_g1 = False"
   ]
  },
  {
   "cell_type": "markdown",
   "id": "3704fbdc-be58-4eac-b753-fdec4e8ab461",
   "metadata": {},
   "source": [
    "* $g_2(n) = \\log n^{10}$"
   ]
  },
  {
   "cell_type": "code",
   "execution_count": 6,
   "id": "c1b699e7-4f53-44b3-89d4-92fed6812509",
   "metadata": {},
   "outputs": [],
   "source": [
    "f_is_Theta_g2 = False\n",
    "f_is_Big_O_g2 = False\n",
    "f_is_Little_o_g2 = False\n",
    "f_is_Big_Omega_g2 = True\n",
    "f_is_Little_omega_g2 = True"
   ]
  },
  {
   "cell_type": "markdown",
   "id": "3cbf3525-3e7c-4c5d-821c-7e5193cacecb",
   "metadata": {},
   "source": [
    "* $g_3(n) = (\\log n)^{9} + (\\log n)^8$"
   ]
  },
  {
   "cell_type": "code",
   "execution_count": 7,
   "id": "64ca1981-6595-4f26-b8a7-4dd5c085264d",
   "metadata": {},
   "outputs": [],
   "source": [
    "f_is_Theta_g3 = False\n",
    "f_is_Big_O_g3 = False\n",
    "f_is_Little_o_g3 = False\n",
    "f_is_Big_Omega_g3 = True\n",
    "f_is_Little_omega_g3 = True"
   ]
  },
  {
   "cell_type": "markdown",
   "id": "be9bd294-d81e-4f0f-9fc0-ffb0295c6424",
   "metadata": {},
   "source": [
    "### Function Exceed Threshold\n",
    "Suppose `func(n)` is a monotonically increasing function. We wish to find the largest integer `n` such that `func(n)` is less than or equal to a given threshold. (Assume the function exceeds the threshold for some `n`.)\n",
    "\n",
    "**Version 1:** Write a function **`exceed_func1(func, thresh)`** that finds the largest `n` by examining the positive integers 1, 2, ..., in order, one at a time. \n",
    "\n",
    "Example:  \n",
    "```\n",
    "func = lambda n: n**3\n",
    "exceed_func1(func, 10**6)\n",
    "``` \n",
    "returns `100` because it is the largest integer that satisfies $n^3 \\le 10^6$."
   ]
  },
  {
   "cell_type": "code",
   "execution_count": 9,
   "id": "3c63b113",
   "metadata": {},
   "outputs": [],
   "source": [
    "def exceed_func1(func, thresh):\n",
    "    n=1\n",
    "    while func(n) <= thresh:\n",
    "        n+=1\n",
    "    return n-1\n"
   ]
  },
  {
   "cell_type": "code",
   "execution_count": 10,
   "id": "2300a645",
   "metadata": {},
   "outputs": [
    {
     "data": {
      "text/plain": [
       "100"
      ]
     },
     "execution_count": 10,
     "metadata": {},
     "output_type": "execute_result"
    }
   ],
   "source": [
    "func = lambda n: n**3\n",
    "exceed_func1(func, 10**6)"
   ]
  },
  {
   "cell_type": "code",
   "execution_count": 11,
   "metadata": {},
   "outputs": [
    {
     "data": {
      "text/plain": [
       "100"
      ]
     },
     "execution_count": 11,
     "metadata": {},
     "output_type": "execute_result"
    }
   ],
   "source": [
    "\n",
    "exceed_func1(func, 10**6)\n",
    "\n"
   ]
  },
  {
   "cell_type": "markdown",
   "id": "90d1029b-dece-481f-9ecd-2ff2822f464c",
   "metadata": {},
   "source": [
    "**Version 2:** A quicker way to find the largest `n` is to first find the interval $\\left[2^k, 2^{k+1}\\right]$, bounded by consecutive powers of 2, that contains `n`, then examine only the integers in that interval. Assume $k\\ge 1$. Write a function **exceed_func2(func, thresh)** that uses this method to return the answer."
   ]
  },
  {
   "cell_type": "code",
   "execution_count": 12,
   "id": "7b1e6a20-b1d4-4063-8676-e500eeab6294",
   "metadata": {},
   "outputs": [],
   "source": [
    "def exceed_func2(func,thresh):\n",
    "    k=1 \n",
    "    while func(2**k) <= thresh:\n",
    "        k+=1\n",
    "    n=2**(k-1)\n",
    "    while func(n) <= thresh:\n",
    "        n+=1\n",
    "    return n-1\n",
    "\n",
    "    "
   ]
  },
  {
   "cell_type": "code",
   "execution_count": 13,
   "id": "22eeddc2",
   "metadata": {},
   "outputs": [
    {
     "data": {
      "text/plain": [
       "100"
      ]
     },
     "execution_count": 13,
     "metadata": {},
     "output_type": "execute_result"
    }
   ],
   "source": [
    "\n",
    "exceed_func2(func, 10**6)"
   ]
  },
  {
   "cell_type": "markdown",
   "id": "2fa5887e-0f95-45f0-95bc-d313e1a5afd1",
   "metadata": {},
   "source": [
    "### Comparison of Input Sizes for Different $T(n)$ Functions\n",
    "Suppose an algorithm can solve a problem in $T(n)$ microseconds for input size $n$. (A *microsecond* is a millionth of a second.) Each of the following $T(n)$ functions corresponds to the running time for an algorithm:\n",
    "\n",
    "$$\\begin{align*}\n",
    "  T_1(n) &= n^3\\\\\n",
    "  T_2(n) &= 10^6\\sqrt n\\\\\n",
    "  T_3(n) &= 100n\\log_2(n)\\\\\n",
    "  T_4(n) &= 10n^2\\\\\n",
    "  T_5(n) &= n^2\\log_2(n)\\\\\n",
    "  T_6(n) &= (1.1)^n\\\\\n",
    "  T_7(n) &= n!\n",
    "\\end{align*}$$\n",
    "\n",
    "**For each $T(n)$, determine the largest input size $n$ that can be solved in 1 second, 1 minute, or 1 hour.**\n",
    "\n",
    "Example: Consider $T_1(n)=n^3$. If $n\\le 100$, then $T_1(n) \\le 10^6$ microseconds, so the running time will be no more than 1 second. Similarly, if $n\\le 391$, then $T_1(n) \\le 60\\cdot 10^6$ microseconds, so the running time will be no more than 1 minute.\n",
    "\n",
    "**Write code to generate a table** like the one below, **calculating the missing entries** by calling `exceed_func2`. It is not necessary to exactly match the format of the table. (*Hint:* You may wish to use `math.log2()` and `math.factorial()`.)\n",
    "\n",
    "```\n",
    "  T(n)     1 second    1 minute      1 hour\n",
    "--------------------------------------------\n",
    "  T_1        100          391         \n",
    "  T_2\n",
    "  T_3\n",
    "  T_4\n",
    "  T_5\n",
    "  T_6\n",
    "  T_7\n",
    "```\n",
    "\n"
   ]
  },
  {
   "cell_type": "code",
   "execution_count": 2,
   "id": "1cd334c5",
   "metadata": {},
   "outputs": [],
   "source": [
    "lst=['1','2']"
   ]
  },
  {
   "cell_type": "code",
   "execution_count": 3,
   "id": "a2b92aee",
   "metadata": {},
   "outputs": [
    {
     "data": {
      "text/plain": [
       "'kasd2'"
      ]
     },
     "execution_count": 3,
     "metadata": {},
     "output_type": "execute_result"
    }
   ],
   "source": []
  },
  {
   "cell_type": "code",
   "execution_count": 14,
   "id": "1f1a241d-0bba-421c-8991-4b60196585e8",
   "metadata": {},
   "outputs": [],
   "source": [
    "func_lst = [lambda n: n**3, lambda n: (10**6)*math.sqrt(n), lambda n: 100*n*math.log2(n), lambda n: 10*(n**2), lambda n: (n**2)*math.log2(n), lambda n: 1.1**n, lambda n: math.factorial(n)]"
   ]
  },
  {
   "cell_type": "code",
   "execution_count": 16,
   "id": "4a136bc2",
   "metadata": {},
   "outputs": [
    {
     "name": "stdout",
     "output_type": "stream",
     "text": [
      " T(n)     1 second   1 minute    1 hour \n",
      " -------------------------------------\n",
      " T_1       100         391       1532\n",
      " T_2       1         3600       12960000\n",
      " T_3       1002         39311       1736782\n",
      " T_4       316         2449       18973\n",
      " T_5       344         2316       16052\n",
      " T_6       144         187       230\n",
      " T_7       9         11       12\n"
     ]
    }
   ],
   "source": [
    "i=1\n",
    "print(f' T(n)     1 second   1 minute    1 hour \\n -------------------------------------')\n",
    "for n in func_lst:\n",
    "    print(f' T_{i}       {exceed_func2(n, 10**6)}         {exceed_func2(n, 60*10**6)}       {exceed_func2(n, (3600*(10**6)))}')\n",
    "    i+=1"
   ]
  },
  {
   "cell_type": "markdown",
   "id": "82406df3-0332-407d-a597-f00f9f72c1a2",
   "metadata": {},
   "source": [
    "### Recursive Cumulative Sum\n",
    "Write a recursive version of the cumulative sum function called **`cum_sum_rec(nums)`**. \n",
    "\n",
    "Note: Your function should work for small lists. It need not work for large lists which may generate a `RecursionError`. To find the maximum recursion depth for your version of Python, call\n",
    "```\n",
    "import sys\n",
    "sys.getrecursionlimit() \n",
    "```"
   ]
  },
  {
   "cell_type": "code",
   "execution_count": 17,
   "id": "520c4ceb-1225-457b-8d97-f900bb4f0abd",
   "metadata": {},
   "outputs": [
    {
     "data": {
      "text/plain": [
       "3000"
      ]
     },
     "execution_count": 17,
     "metadata": {},
     "output_type": "execute_result"
    }
   ],
   "source": [
    "import sys\n",
    "sys.getrecursionlimit()"
   ]
  },
  {
   "cell_type": "code",
   "execution_count": null,
   "id": "4724e3cb",
   "metadata": {},
   "outputs": [],
   "source": [
    "[1,2,3]\n",
    "[1,3,6]\n"
   ]
  },
  {
   "cell_type": "code",
   "execution_count": 36,
   "id": "68a0cb67",
   "metadata": {},
   "outputs": [],
   "source": [
    "def cum_sum_rec(nums):\n",
    "    if len(nums) == 1:\n",
    "        return nums\n",
    "    else:\n",
    "        prev_cum_sum = cum_sum_rec(nums[:-1])\n",
    "        current_sum = prev_cum_sum[-1] + nums[-1]\n",
    "        return prev_cum_sum + [current_sum]"
   ]
  },
  {
   "cell_type": "code",
   "execution_count": 37,
   "id": "528c2f45",
   "metadata": {},
   "outputs": [
    {
     "data": {
      "text/plain": [
       "[1, 3, 6, 10, 15, 21, 28, 36, 45, 55]"
      ]
     },
     "execution_count": 37,
     "metadata": {},
     "output_type": "execute_result"
    }
   ],
   "source": [
    "cum_sum_rec([1,2,3,4,5,6,7,8,9,10])"
   ]
  },
  {
   "cell_type": "code",
   "execution_count": null,
   "id": "d0827e4b",
   "metadata": {},
   "outputs": [
    {
     "data": {
      "text/plain": [
       "(55, array([ 1,  3,  6, 10, 15, 21, 28, 36, 45, 55]))"
      ]
     },
     "execution_count": 105,
     "metadata": {},
     "output_type": "execute_result"
    }
   ],
   "source": [
    "sum([1,2,3,4,5,6,7,8,9,10]), np.cumsum([1,2,3,4,5,6,7,8,9,10])"
   ]
  },
  {
   "cell_type": "markdown",
   "id": "7b69a280-bb1f-4454-8577-e2a698837e71",
   "metadata": {},
   "source": [
    "### A Recursively Defined Sequence\n",
    "Consider the sequence $a_1 = a_2 = 2$, $a_n = a_{n-1} + 2a_{n-2}$. \n",
    "\n",
    "$$\\{2, 2, 6, 10, \\ldots \\}$$\n",
    "\n",
    "Write a recursive function **`seq_rec(n)`** to return the $n^{th}$ term of the sequence for $n\\ge 1$. "
   ]
  },
  {
   "cell_type": "code",
   "execution_count": null,
   "id": "8a2fe357-2ede-40ef-9886-ea6320124dd1",
   "metadata": {},
   "outputs": [],
   "source": [
    "def seq_rec(n):\n",
    "    if n == 2 or n == 1:\n",
    "        return 2\n",
    "    else:\n",
    "        return seq_rec(n-1) + 2*seq_rec(n-2)\n",
    "\n"
   ]
  },
  {
   "cell_type": "code",
   "execution_count": null,
   "id": "4b5434bf",
   "metadata": {},
   "outputs": [
    {
     "data": {
      "text/plain": [
       "22"
      ]
     },
     "execution_count": 113,
     "metadata": {},
     "output_type": "execute_result"
    }
   ],
   "source": [
    "seq_rec(5)"
   ]
  },
  {
   "cell_type": "markdown",
   "id": "07055223-8b5c-4d78-9b6f-6718d8e93903",
   "metadata": {},
   "source": [
    "Now write a non-recursive version of the function called **`seq(n)`**."
   ]
  },
  {
   "cell_type": "code",
   "execution_count": null,
   "id": "9d30481e-b94b-4ad5-9dfe-c45329b9fe95",
   "metadata": {},
   "outputs": [],
   "source": [
    "def seq(n):\n",
    "    a1=a2=2\n",
    "    if n == 1 or n ==2:\n",
    "        return a1\n",
    "    seq_val=0\n",
    "    k=2\n",
    "    while k != n:\n",
    "        seq_val = a1 + 2*a2\n",
    "        a2 = a1\n",
    "        a1 = seq_val\n",
    "        k+=1\n",
    "    return seq_val\n"
   ]
  },
  {
   "cell_type": "code",
   "execution_count": null,
   "id": "24785ca1",
   "metadata": {},
   "outputs": [
    {
     "data": {
      "text/plain": [
       "22"
      ]
     },
     "execution_count": 121,
     "metadata": {},
     "output_type": "execute_result"
    }
   ],
   "source": [
    "seq(5)"
   ]
  },
  {
   "cell_type": "markdown",
   "id": "e438b0d7-77f4-400b-9507-82e1487547e3",
   "metadata": {
    "tags": []
   },
   "source": [
    "### LR Curve\n",
    "\n",
    "The **LR Curve** draws a path in the 2D plane consisting of one-unit horizontal and vertical segments. The curve begins in one of four directions (East, North, West, South), then changes directions by making Left (L) and Right (R) turns. Here is a sample curve.\n",
    "\n",
    "<img src = \"http://www.coloradomath.org/python/lr_curve_8.jpg\" width=\"458\" height=\"446\" />\n",
    "\n",
    "An **LR string** specifies the moves that draw an LR curve. It can be defined recursively using the following rules. Begin with 'L', then repeatedly do the following:\n",
    "* Concatenate three strings: \n",
    "  * the current string\n",
    "  * the letter 'L'\n",
    "  * a second string which is identical to the current string except that the center character is flipped (from L to R or R to L).  \n",
    "\n",
    "Note that these rules produce strings of odd length only. Here are the first few LR strings:\n",
    "1. 'L'\n",
    "2. 'L' + 'L' + 'R' $\\rightarrow$ 'LLR'\n",
    "3. 'LLR' + 'L' + 'LRR' $\\rightarrow$ 'LLRLLRR'\n",
    "\n",
    "and their corresponding images, starting with a segment pointing in the East direction:\n",
    "\n",
    "<img src = \"http://www.coloradomath.org/python/LRcurves.jpg\" width=\"608\" height=\"180\"/>\n",
    "\n",
    "For this exercise, the sequence of steps begin with 'L'. They can be adapted to begin with 'R' instead.\n",
    "\n",
    "Write a **recursive** function **LR_string(string, reps)** that takes a string containing an odd number of Ls and Rs, and applies the above rules for the given number of repetitions.\n",
    "\n",
    "Examples:<br>\n",
    "`LR_string('L', 2)` returns `'LLRLLRR'`.<br>\n",
    "`LR_string('LLR', 1)` returns `'LLRLLRR'`.<br>\n",
    "`LR_string('L', 0)` returns `'L'`.\n"
   ]
  },
  {
   "cell_type": "code",
   "execution_count": 20,
   "id": "b9aab746-2d52-4745-aef5-55850c6aa0a7",
   "metadata": {},
   "outputs": [],
   "source": [
    "def LR_string(string, reps):\n",
    "    if reps == 0:\n",
    "        return string\n",
    "    else:\n",
    "        if len(string) == 1:\n",
    "            return LR_string(string + 'LR', reps -1)\n",
    "        if string[len(string)//2] == 'L':\n",
    "            return LR_string(string + 'L' + string[:len(string)//2] +'R'+ string[len(string)//2+1:], reps-1)\n",
    "        elif string[len(string)//2] == 'R':\n",
    "            return LR_string(string + 'L' + string[:len(string)//2] +'L'+ string[len(string)//2+1:], reps-1)"
   ]
  },
  {
   "cell_type": "code",
   "execution_count": null,
   "id": "7b4bc5f4",
   "metadata": {},
   "outputs": [
    {
     "data": {
      "text/plain": [
       "('LLRLLRR', 'LLRLLRR', 'LLRLLRRLLLRRLRR')"
      ]
     },
     "execution_count": 241,
     "metadata": {},
     "output_type": "execute_result"
    }
   ],
   "source": [
    "LR_string('L',2), LR_string('LLR', 1), LR_string('L', 3)"
   ]
  },
  {
   "cell_type": "markdown",
   "id": "37feacfa",
   "metadata": {},
   "source": [
    "L LLR LLRLLRR LLRLLRRLLLRRLRR"
   ]
  },
  {
   "cell_type": "markdown",
   "id": "3b66dc18-4723-4e09-9f77-3253017f8cdb",
   "metadata": {
    "tags": []
   },
   "source": [
    "Write a function called **LR_curve(LR, dir)** that takes an LR string as input and draws an LR Curve beginning in one of the 4 directions ('N', 'E', 'S', 'W'). The default direction is 'E'. The large image displayed above corresponds to  `LR_curve(LR_string('L', 8))`."
   ]
  },
  {
   "cell_type": "code",
   "execution_count": 21,
   "id": "41d53127-d314-477f-88a2-f017558bbfd9",
   "metadata": {},
   "outputs": [],
   "source": [
    "def LR_curve(LR, dir='E'):\n",
    "    dir_dict = {'N':[[0,0],[0,1]], 'E':[[0,1],[0,0]], 'S':[[0,0],[0,-1]], 'W':[[0,-1],[0,0]]}\n",
    "    dir_facing = dir\n",
    "    plt.axis('off')\n",
    "    x_coord=dir_dict[dir][0]\n",
    "    y_coord=dir_dict[dir][1]\n",
    "    for n in LR:\n",
    "        if dir_facing == 'N':\n",
    "            if n =='L':\n",
    "                x_coord.append(x_coord[-1]-1)\n",
    "                y_coord.append(y_coord[-1])\n",
    "                dir_facing = 'W'\n",
    "            if n == 'R':\n",
    "                x_coord.append(x_coord[-1]+1)\n",
    "                y_coord.append(y_coord[-1])\n",
    "                dir_facing = 'E'\n",
    "        elif dir_facing == 'E':\n",
    "            if n =='L':\n",
    "                x_coord.append(x_coord[-1])\n",
    "                y_coord.append(y_coord[-1]+1)\n",
    "                dir_facing = 'N'\n",
    "            if n == 'R':\n",
    "                x_coord.append(x_coord[-1])\n",
    "                y_coord.append(y_coord[-1]-1)\n",
    "                dir_facing = 'S'\n",
    "        elif dir_facing == 'S':\n",
    "            if n =='L':\n",
    "                x_coord.append(x_coord[-1]+1)\n",
    "                y_coord.append(y_coord[-1])\n",
    "                dir_facing = 'E'\n",
    "            if n == 'R':\n",
    "                x_coord.append(x_coord[-1]-1)\n",
    "                y_coord.append(y_coord[-1])\n",
    "                dir_facing = 'W'\n",
    "        elif dir_facing == 'W':\n",
    "            if n =='L':\n",
    "                x_coord.append(x_coord[-1])\n",
    "                y_coord.append(y_coord[-1]-1)\n",
    "                dir_facing = 'S'\n",
    "            if n == 'R':\n",
    "                x_coord.append(x_coord[-1])\n",
    "                y_coord.append(y_coord[-1]+1)\n",
    "                dir_facing = 'N'\n",
    "    print(f'{len(x_coord) == len(y_coord)}')           \n",
    "    plt.plot(x_coord,y_coord)\n",
    "            \n",
    "\n",
    "        \n"
   ]
  },
  {
   "cell_type": "code",
   "execution_count": null,
   "id": "ae0a96e4",
   "metadata": {},
   "outputs": [
    {
     "name": "stdout",
     "output_type": "stream",
     "text": [
      "True\n"
     ]
    },
    {
     "data": {
      "image/png": "[encoded data removed]",
      "text/plain": [
       "<Figure size 640x480 with 1 Axes>"
      ]
     },
     "metadata": {},
     "output_type": "display_data"
    }
   ],
   "source": [
    "LR_curve(LR_string('L',8),'E')"
   ]
  },
  {
   "cell_type": "markdown",
   "id": "c6ccab55-326c-4e9d-91a0-f94b62e26a3e",
   "metadata": {},
   "source": [
    "**Draw the curve** `LR_curve(LR_string('L', 6), 'S')`."
   ]
  },
  {
   "cell_type": "code",
   "execution_count": null,
   "id": "647af832-7bfb-445d-8c18-f9c481674c6d",
   "metadata": {},
   "outputs": [
    {
     "name": "stdout",
     "output_type": "stream",
     "text": [
      "True\n"
     ]
    },
    {
     "data": {
      "image/png": "[encoded data removed]",
      "text/plain": [
       "<Figure size 640x480 with 1 Axes>"
      ]
     },
     "metadata": {},
     "output_type": "display_data"
    }
   ],
   "source": [
    "LR_curve(LR_string('L',6),\"S\")"
   ]
  },
  {
   "cell_type": "markdown",
   "id": "29fb2022-9796-49b5-a4e7-002f55c65228",
   "metadata": {},
   "source": [
    "**Draw the curve** `LR_curve(LR_string('L', 11))`."
   ]
  },
  {
   "cell_type": "code",
   "execution_count": 26,
   "id": "928dfe64-fe1f-4b7f-a638-cd7287ad498d",
   "metadata": {},
   "outputs": [
    {
     "name": "stdout",
     "output_type": "stream",
     "text": [
      "True\n"
     ]
    },
    {
     "data": {
      "image/png": "[encoded data removed]",
      "text/plain": [
       "<Figure size 640x480 with 1 Axes>"
      ]
     },
     "metadata": {},
     "output_type": "display_data"
    }
   ],
   "source": [
    "LR_curve(LR_string('L',15))"
   ]
  },
  {
   "cell_type": "code",
   "execution_count": null,
   "id": "df73b10d",
   "metadata": {},
   "outputs": [],
   "source": []
  }
 ],
 "metadata": {
  "kernelspec": {
   "display_name": "Python 3 (ipykernel)",
   "language": "python",
   "name": "python3"
  },
  "language_info": {
   "codemirror_mode": {
    "name": "ipython",
    "version": 3
   },
   "file_extension": ".py",
   "mimetype": "text/x-python",
   "name": "python",
   "nbconvert_exporter": "python",
   "pygments_lexer": "ipython3",
   "version": "3.11.4"
  }
 },
 "nbformat": 4,
 "nbformat_minor": 5
}
