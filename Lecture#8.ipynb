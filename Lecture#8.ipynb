{
 "cells": [
  {
   "cell_type": "markdown",
   "metadata": {},
   "source": [
    "func1 returns the product of num1 and num2 the loop in func1 determines the binary representation of num1 each digit 1 in the representation corresponds to a power of 2 which is multiplied by num2. The digits of 1 match the remainders of 1 when the variable a is divided by 2"
   ]
  },
  {
   "cell_type": "markdown",
   "metadata": {},
   "source": [
    "## Lecture 9"
   ]
  },
  {
   "cell_type": "markdown",
   "metadata": {},
   "source": [
    "## Stacks\n",
    "One ended 'list'\n",
    "Can only take or add from start or end\n",
    "\n",
    "A *stack* is an ordered collection of elements with 2 principal operations:\n",
    "* **push**: adds an element to the \"top of the collection\n",
    "* **pop**: removes the most recently added element"
   ]
  },
  {
   "cell_type": "markdown",
   "metadata": {},
   "source": [
    "Other operations:\n",
    "* **size**: number of elements in the stack\n",
    "* **peek**: returns the element at the tio of the stack without removing\n",
    "* **empty**: Returns `true` if the stack is empty"
   ]
  },
  {
   "cell_type": "markdown",
   "metadata": {},
   "source": [
    "Python implementation using a list\n",
    "* Ideally operations are executed in $\\Theta(1)$ time.\n",
    "* The \"top\" of the stack will be at the end of the Python list."
   ]
  },
  {
   "cell_type": "code",
   "execution_count": 1,
   "metadata": {},
   "outputs": [],
   "source": [
    "class Stack:\n",
    "    '''Create a stack using a list'''\n",
    "    def __init__(self):\n",
    "        self.items = []\n",
    "        \n",
    "    def push(self, item):\n",
    "        self.items.append(item)\n",
    "\n",
    "    def pop(self):\n",
    "        '''Return the element at the top of the stack if possible. Otherwise print an error message and return None'''\n",
    "        try:\n",
    "            return self.items.pop()\n",
    "        except:\n",
    "            print('ERROR: Empty Stack')\n",
    "            return None\n"
   ]
  },
  {
   "cell_type": "code",
   "execution_count": 4,
   "metadata": {},
   "outputs": [
    {
     "data": {
      "text/plain": [
       "{'items': [2024, 'year']}"
      ]
     },
     "execution_count": 4,
     "metadata": {},
     "output_type": "execute_result"
    }
   ],
   "source": [
    "xstack = Stack()\n",
    "vars(xstack)\n",
    "xstack.push(2024)\n",
    "vars(xstack)\n",
    "xstack.push('year')\n",
    "vars(xstack)"
   ]
  },
  {
   "cell_type": "code",
   "execution_count": 5,
   "metadata": {},
   "outputs": [
    {
     "data": {
      "text/plain": [
       "'year'"
      ]
     },
     "execution_count": 5,
     "metadata": {},
     "output_type": "execute_result"
    }
   ],
   "source": [
    "xstack.pop()\n"
   ]
  },
  {
   "cell_type": "code",
   "execution_count": 20,
   "metadata": {},
   "outputs": [],
   "source": [
    "class Stack(Stack):\n",
    "    def size(self):\n",
    "        return len(self.items)\n",
    "        \n",
    "    def peek(self):\n",
    "        try:\n",
    "            return self.items[-1]\n",
    "        except:\n",
    "            print('ERROR: Empty Stack')\n",
    "            return None\n",
    "\n",
    "    def empty(self):\n",
    "        if self.size()==0:\n",
    "            return True\n",
    "        else:\n",
    "            return False"
   ]
  },
  {
   "cell_type": "code",
   "execution_count": 18,
   "metadata": {},
   "outputs": [],
   "source": [
    "xstack = Stack()\n",
    "xstack.empty()\n",
    "xstack.push(-1)\n",
    "xstack.size()\n",
    "xstack.empty()"
   ]
  },
  {
   "cell_type": "markdown",
   "metadata": {},
   "source": [
    "### Test for Valid Parentheses\n",
    "Write a function `valid_parens(string)` that returns `True` if all parenthese in `string` are matched correctly."
   ]
  },
  {
   "cell_type": "markdown",
   "metadata": {},
   "source": [
    "Valid strings: `'((a)) (b)', '(((c)))'`"
   ]
  },
  {
   "cell_type": "markdown",
   "metadata": {},
   "source": [
    "Invalid Strings: `'((a)', ')b('`"
   ]
  },
  {
   "cell_type": "code",
   "execution_count": 21,
   "metadata": {},
   "outputs": [],
   "source": [
    "def valid_parens(string):\n",
    "    pstack = Stack()\n",
    "    for ch in string:\n",
    "        if ch == '(':\n",
    "            pstack.push(ch)\n",
    "        elif ch == ')':\n",
    "            if pstack.empty():\n",
    "                return False\n",
    "            else:\n",
    "                pstack.pop()\n",
    "    return pstack.empty()"
   ]
  },
  {
   "cell_type": "code",
   "execution_count": 23,
   "metadata": {},
   "outputs": [
    {
     "data": {
      "text/plain": [
       "(True, False, True)"
      ]
     },
     "execution_count": 23,
     "metadata": {},
     "output_type": "execute_result"
    }
   ],
   "source": [
    "valid_parens('((a))'), valid_parens('((a)'), valid_parens(')(')"
   ]
  },
  {
   "cell_type": "markdown",
   "metadata": {},
   "source": [
    "## Valid Delimiters"
   ]
  },
  {
   "cell_type": "code",
   "execution_count": 32,
   "metadata": {},
   "outputs": [],
   "source": [
    "def valid_delim(string):\n",
    "    '''Return true if all delimiters (), {}, [] are matched correctly in string'''\n",
    "    dstack = Stack()\n",
    "    delim_L = '({['\n",
    "    delim_R = ')}]'\n",
    "    for ch in string:\n",
    "        if ch in delim_L:\n",
    "            dstack.push(ch)\n",
    "        elif ch in delim_R:\n",
    "            if dstack.empty():\n",
    "                return False\n",
    "            else:\n",
    "                pos = delim_R.index(ch)\n",
    "                top_ch = dstack.pop()\n",
    "                if top_ch != delim_L[pos]:\n",
    "                    return False\n",
    "                \n",
    "    return dstack.empty()"
   ]
  },
  {
   "cell_type": "code",
   "execution_count": 33,
   "metadata": {},
   "outputs": [
    {
     "data": {
      "text/plain": [
       "False"
      ]
     },
     "execution_count": 33,
     "metadata": {},
     "output_type": "execute_result"
    }
   ],
   "source": [
    "valid_delim('(({asda}[))]')"
   ]
  },
  {
   "cell_type": "markdown",
   "metadata": {},
   "source": []
  },
  {
   "cell_type": "markdown",
   "metadata": {},
   "source": []
  }
 ],
 "metadata": {
  "interpreter": {
   "hash": "bff285996b61d1cce75d586d554bbdb644f20e64756204b2dee51c0e7bed81f5"
  },
  "kernelspec": {
   "display_name": "Python 3.11.4 ('base')",
   "language": "python",
   "name": "python3"
  },
  "language_info": {
   "codemirror_mode": {
    "name": "ipython",
    "version": 3
   },
   "file_extension": ".py",
   "mimetype": "text/x-python",
   "name": "python",
   "nbconvert_exporter": "python",
   "pygments_lexer": "ipython3",
   "version": "3.11.4"
  },
  "orig_nbformat": 4
 },
 "nbformat": 4,
 "nbformat_minor": 2
}
